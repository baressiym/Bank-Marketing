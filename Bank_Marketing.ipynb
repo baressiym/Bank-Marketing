{
 "cells": [
  {
   "cell_type": "markdown",
   "id": "58005119",
   "metadata": {},
   "source": [
    "# Bank Marketing\n",
    "---"
   ]
  },
  {
   "cell_type": "markdown",
   "id": "9fc0f41b",
   "metadata": {},
   "source": [
    "## Business Problem Understanding"
   ]
  },
  {
   "cell_type": "markdown",
   "id": "12397bc8",
   "metadata": {},
   "source": [
    "### Context :\n",
    "\n",
    "Di tahun 2008, terjadi *Great Recession* di seluruh dunia. *Great Recession* sendiri adalah sebuah fenomena melemahnya kegiatan ekonomi yang paling signifikan, yang terjadi dalam pada tahun 2007 sampai 2009. Menurut European Central Bank di tahun 2008, margin deposito bank di kawasan Eropa telah menurun tajam sejak akhir 2008. Hal ini memaksa bank bersaing untuk mendapatkan dana simpanan yang lebih stabil. Namun, dengan menurunnya suku bunga deposito, menyebabkan Bank kehilangan nasabahnya untuk menyimpan uang.\n",
    "\n",
    "Di dalam kasus ini, Bank tersebut mengajak para nasabah untuk deposito di Bank tersebut denagan melakukan *telemarketing*. Untuk itu, dengan kondisi di yang \"terjepit\", sebuah Bank merekrut seorang Data Scientist untuk mengetahui, siapa saja nasabahnya yang memiliki tendensi untuk deposit dan yang tidak.\n",
    "\n",
    "Target :\n",
    "- 0 : Memutuskan untuk tidak menabung deposito. \n",
    "\n",
    "- 1 : Memutuskan untuk menabung deposito."
   ]
  },
  {
   "cell_type": "markdown",
   "id": "75a8fb65",
   "metadata": {},
   "source": [
    "### Problem Statement :\n",
    "\n",
    "Dalam kasus ini, proses *telemarketing* dilakukan secara *in-house*, di mana segala proses *telemarketing* dilakukan oleh bank, tidak menggunakan tenaga outsourcing. \n",
    "\n",
    "Disadur dari glassdoor, rata-rata gaji *telemarketer* (asumsikan dalam US Dollar) sebesar USD30,688 dengan bonus sebesar USD4,633 per tahun. (Diasumsikan bahwa sistem pembayaran yang dilakukan adalah per jam*). Ditambah lagi dengan adanya *Customer Service Manager* yang memiliki rata-rata gaji sebesar USD39,694 dengan bonus sebesar USD6,032 per tahun. Di dalam kasus ini, diasumsikan bahwa terdapat 10 orang *telemarketer* di dalam sebuah tim. \n",
    "\n",
    "Disadur dari cloudtask, *potential cost* dari *in-house telemarketing team* ini dapat dijabarkan sebagai berikut:\n",
    "\n",
    "- Salaries and Benefit : USD353,210\n",
    "- Customer Service Managet : USD45,726\n",
    "- Hiring costs : USD20,645\n",
    "- Office space : USD48,000\n",
    "- Software and Hardware : USD3,600\n",
    "- Trainers, phone system, tax, office supply, etc : USD200,000\n",
    "\n",
    "Total : USD671,181 per year\n",
    "\n",
    "Dengan asumsi di atas, Bank harus mengeluarkan kurang lebih sebesar USD671,181 per tahun. Tentu angka tersebut cukup besar dan akan sangat merugikan apabila pelanggan yang ditelepon memutuskan untuk tidak deposito. Ditambah lagi dengan adanya *great recession*, Bank tidak ingin kehilangan pelanggannya."
   ]
  },
  {
   "cell_type": "markdown",
   "id": "898e9ccb",
   "metadata": {},
   "source": [
    "### Metric Evaluation :\n",
    "#### True Positive (TP) : \n",
    "\n",
    "\"Pelanggan memutuskan untuk menabung deposito.\"\n",
    "\n",
    "**Impact:** Kita mendapatkan keuntungan karena nasabah yang kita hubungi memang benar memutuskan untuk deposit.\n",
    "\n",
    "#### False Positive (FP) : \n",
    "\n",
    "\"Kita memprediksi pelanggan setuju menabung, padahal aktualnya tidak setuju.\"\n",
    "\n",
    "**Impact:** Hal ini merugikan karena proses *telemarketing* menjadi sia-sia dan menyebabkan marketing expenses justru meningkat.\n",
    "\n",
    "#### False Negative (FN) : \n",
    "\n",
    "\"Kita memprediksi pelanggan tidak setuju menabung, padahal aktualnya setuju.\"\n",
    "\n",
    "**Impact:** Hal ini merugikan karena kita baru saja kehilangan pelanggan potensial.\n",
    "\n",
    "#### True Negative (TN) : \n",
    "\n",
    "\"Pelanggan memutuskan untuk tidak menabung deposito.\"\n",
    "\n",
    "**Impact:** Kita tidak mendapatkan pemasukan dari deposito.\n",
    "\n",
    "Berdasarkan kosekuensinya, False Positive dan False Positive memiliki risiko yang sama-sama tinggi bagi perusahaan. Maka perlu dibuat model yang dapat meminimalisir expenses tapi tetap menjaga keberadaan customer. Sehingga, measure yang akan digunakan dalam model ini adalah f1 score.\n",
    "\n",
    "\n",
    "\\begin{equation}\n",
    "F1 Score (+) = 2 * \\frac{Recall (+) * Precision (+)}{Recall (+) + Precision (+)}\n",
    "\\end{equation}\n",
    "\n"
   ]
  },
  {
   "cell_type": "markdown",
   "id": "7e1abd7f",
   "metadata": {},
   "source": [
    "### Goals :\n",
    "\n",
    "Tujuan utama dari project ini adalah untuk membuat sebuah model Machine Learning, di mana Bank akan mengetahui tendensi pelanggan untuk deposito, apakah setuju untuk deposit atau tidak setuju, sebelum proses *telemarketing* dieksekusi. Dengan permasalahan bahwa Bank tidak ingin *expenses* membengkak dan Bank tidak ingin kehilangan pelanggannya, model yang dibuat juga harus bertujuan untuk mereduksi permasalahan-permasalahan tersebut.\n",
    "\n",
    "Untuk mencapai tujuan-tujuan tersebut, kita juga perlu menentukan perlakuan-perlakuan setelah model dilakukan. Perlakuan ini dilakukan dengan asumsi terdapat batasan jumlah budget yang dikeluarkan untuk marketing."
   ]
  },
  {
   "cell_type": "markdown",
   "id": "4299a3a6",
   "metadata": {},
   "source": [
    "### Project Limitation\n",
    "Dataset yang digunakan pada Project ini didapat dari Purwadhika Digital Technology School. Dataset digunakan hanya untuk project saja, sehingga untuk penjelasan-penjelasan detail dari Bank yang melakukan prediksi tidak ditampilkan. Hasil dari project ini terbatas haya untuk menghasilkan model Machine Learning yang memprediksi apakah pelanggan memutuskan untuk deposito atau tidak."
   ]
  },
  {
   "cell_type": "markdown",
   "id": "77ced863",
   "metadata": {},
   "source": [
    "### Why Using Machine Learning???\n",
    "\n",
    "Tanpa menggunakan Machine Learning, Bank akan menelepon semua nasabah yang terdaftar tanpa mengetahui latar belakang dari tiap-tiap nasabah yang dihubungi. Hal ini kurang efektif karena peluang bahwa jumlah pegeluaran untuk *telemarketing* lebih besar dibandingkan jumlah pemasukan dari nasabah yang melakukan deposito akan sangat besar apabila kita tidak mengetahui terlebih dahulu *feature-feature* apa saja yang mempengaruhi nasabah untuk menentukan pilihan. Sebagai contoh, apabila per jamnya seorang *telemarketer* dibayar USD75 per jam untuk melakukan proses *telemarketing* dengan asumsi *telemarketer* tersebut bekerja selama 8 jam di dalam sehari. Dalam sehari, seorang *telemarketer* tersebut akan mendapatkan sebesar USD600. Apabila selama 8 jam tersebut nasabah yang dihubungi mayoritas menolak dengan ajakan untuk deposit, tentu uang yang dikeluarkan oleh Bank akan sia-sia.\n",
    "\n",
    "Dengan menggunakan Machine Learning, proses *telemarketing* akan menjadi jauh lebih efektif karena nasabah yang dihubungi hanyalah nasabah yang memiliki potensi tinggi untuk melakukan deposit. Apabila selama 8 jam tersebut nasabah yang dihubungi mayoritas setuju dengan ajakan untuk deposit, tentu uang yang dikeluarkan oleh Bank akan tidak akan sia-sia."
   ]
  },
  {
   "cell_type": "markdown",
   "id": "207b137a",
   "metadata": {},
   "source": [
    "### Attribute Information :\n",
    "**1. age:**\n",
    "Usia dari nasabah Bank\n",
    "\n",
    "**2. job:**\n",
    "Jenis pekerjaan dari nasabah Bank\n",
    "\n",
    "**3. balance:**\n",
    "Jumlah kredit atau deposit dari seseorang nasabah\n",
    "- (+) : Deposit\n",
    "- (-) : Kredit\n",
    "\n",
    "**4. housing:**\n",
    "Apakah nasabah memiliki pinjaman berupa Kredit Pemilikian Rumah (*housing loan*)? \n",
    "\n",
    "**5. loan**\n",
    "Apakah nasabah memiliki pinjaman pribadi terhadap Bank?\n",
    "\n",
    "**6. contact**\n",
    "Cara *telemarketer* menghubungi nasabah.\n",
    "\n",
    "**7. month**\n",
    "Bulan terakhir nasabah dihubungi\n",
    "\n",
    "**8. campaign:**\n",
    "Jumlah telepon dilakukan selama *campaign*.\n",
    "\n",
    "**9. pdays**\n",
    "Jumlah hari yang terlewat setelah nasabah terakhir kali dihubungi dari kampanye sebelumnya.\n",
    "\n",
    "**10. poutcome**\n",
    "Hasil dari *campaign* sebelumnya.\n",
    "\n",
    "**11. deposit:**\n",
    "Target kita, apakah nasabah setuju untuk deposit atau tidak?\n"
   ]
  },
  {
   "cell_type": "markdown",
   "id": "902cdaa6",
   "metadata": {},
   "source": [
    "### Import Library:"
   ]
  },
  {
   "cell_type": "code",
   "execution_count": 1,
   "id": "4c281be0",
   "metadata": {},
   "outputs": [],
   "source": [
    "## Library\n",
    "import pandas as pd\n",
    "import numpy as np\n",
    "\n",
    "## Visualization\n",
    "import matplotlib.pyplot as plt\n",
    "import seaborn as sns\n",
    "\n",
    "## Warnings\n",
    "import warnings\n",
    "warnings.filterwarnings('ignore')"
   ]
  },
  {
   "cell_type": "code",
   "execution_count": 2,
   "id": "006b59e7",
   "metadata": {},
   "outputs": [
    {
     "data": {
      "text/html": [
       "<div>\n",
       "<style scoped>\n",
       "    .dataframe tbody tr th:only-of-type {\n",
       "        vertical-align: middle;\n",
       "    }\n",
       "\n",
       "    .dataframe tbody tr th {\n",
       "        vertical-align: top;\n",
       "    }\n",
       "\n",
       "    .dataframe thead th {\n",
       "        text-align: right;\n",
       "    }\n",
       "</style>\n",
       "<table border=\"1\" class=\"dataframe\">\n",
       "  <thead>\n",
       "    <tr style=\"text-align: right;\">\n",
       "      <th></th>\n",
       "      <th>age</th>\n",
       "      <th>job</th>\n",
       "      <th>balance</th>\n",
       "      <th>housing</th>\n",
       "      <th>loan</th>\n",
       "      <th>contact</th>\n",
       "      <th>month</th>\n",
       "      <th>campaign</th>\n",
       "      <th>pdays</th>\n",
       "      <th>poutcome</th>\n",
       "      <th>deposit</th>\n",
       "    </tr>\n",
       "  </thead>\n",
       "  <tbody>\n",
       "    <tr>\n",
       "      <th>0</th>\n",
       "      <td>55</td>\n",
       "      <td>admin.</td>\n",
       "      <td>1662</td>\n",
       "      <td>no</td>\n",
       "      <td>no</td>\n",
       "      <td>cellular</td>\n",
       "      <td>jun</td>\n",
       "      <td>2</td>\n",
       "      <td>-1</td>\n",
       "      <td>unknown</td>\n",
       "      <td>yes</td>\n",
       "    </tr>\n",
       "    <tr>\n",
       "      <th>1</th>\n",
       "      <td>39</td>\n",
       "      <td>self-employed</td>\n",
       "      <td>-3058</td>\n",
       "      <td>yes</td>\n",
       "      <td>yes</td>\n",
       "      <td>cellular</td>\n",
       "      <td>apr</td>\n",
       "      <td>3</td>\n",
       "      <td>-1</td>\n",
       "      <td>unknown</td>\n",
       "      <td>yes</td>\n",
       "    </tr>\n",
       "    <tr>\n",
       "      <th>2</th>\n",
       "      <td>51</td>\n",
       "      <td>admin.</td>\n",
       "      <td>3025</td>\n",
       "      <td>no</td>\n",
       "      <td>no</td>\n",
       "      <td>cellular</td>\n",
       "      <td>may</td>\n",
       "      <td>1</td>\n",
       "      <td>352</td>\n",
       "      <td>other</td>\n",
       "      <td>yes</td>\n",
       "    </tr>\n",
       "    <tr>\n",
       "      <th>3</th>\n",
       "      <td>38</td>\n",
       "      <td>services</td>\n",
       "      <td>-87</td>\n",
       "      <td>yes</td>\n",
       "      <td>no</td>\n",
       "      <td>cellular</td>\n",
       "      <td>may</td>\n",
       "      <td>1</td>\n",
       "      <td>-1</td>\n",
       "      <td>unknown</td>\n",
       "      <td>no</td>\n",
       "    </tr>\n",
       "    <tr>\n",
       "      <th>4</th>\n",
       "      <td>36</td>\n",
       "      <td>housemaid</td>\n",
       "      <td>205</td>\n",
       "      <td>yes</td>\n",
       "      <td>no</td>\n",
       "      <td>telephone</td>\n",
       "      <td>nov</td>\n",
       "      <td>4</td>\n",
       "      <td>-1</td>\n",
       "      <td>unknown</td>\n",
       "      <td>no</td>\n",
       "    </tr>\n",
       "  </tbody>\n",
       "</table>\n",
       "</div>"
      ],
      "text/plain": [
       "   age            job  balance housing loan    contact month  campaign  pdays  \\\n",
       "0   55         admin.     1662      no   no   cellular   jun         2     -1   \n",
       "1   39  self-employed    -3058     yes  yes   cellular   apr         3     -1   \n",
       "2   51         admin.     3025      no   no   cellular   may         1    352   \n",
       "3   38       services      -87     yes   no   cellular   may         1     -1   \n",
       "4   36      housemaid      205     yes   no  telephone   nov         4     -1   \n",
       "\n",
       "  poutcome deposit  \n",
       "0  unknown     yes  \n",
       "1  unknown     yes  \n",
       "2    other     yes  \n",
       "3  unknown      no  \n",
       "4  unknown      no  "
      ]
     },
     "execution_count": 2,
     "metadata": {},
     "output_type": "execute_result"
    }
   ],
   "source": [
    "## Load Dataset\n",
    "df = pd.read_csv('data_bank_marketing_campaign.csv')\n",
    "df.head()"
   ]
  },
  {
   "cell_type": "markdown",
   "id": "9c181110",
   "metadata": {},
   "source": [
    "Berikut merupakan 5 data pertama yang terdapat pada dataset yang diberikan. Dari dataset yang ada, kita akan melakukan tahap *Data Understanding* dan *Data Wrangling* agar dapat mengerti lebih lanjut mengenai informasi-informasi yang ada dan mempersiapkan data untuk permodelan Machine Learning."
   ]
  },
  {
   "cell_type": "markdown",
   "id": "ab3dc482",
   "metadata": {},
   "source": [
    "## Data Understanding and Data Wrangling\n",
    "---"
   ]
  },
  {
   "cell_type": "code",
   "execution_count": 3,
   "id": "2bdaafe0",
   "metadata": {
    "scrolled": true
   },
   "outputs": [
    {
     "name": "stdout",
     "output_type": "stream",
     "text": [
      "<class 'pandas.core.frame.DataFrame'>\n",
      "RangeIndex: 7813 entries, 0 to 7812\n",
      "Data columns (total 11 columns):\n",
      " #   Column    Non-Null Count  Dtype \n",
      "---  ------    --------------  ----- \n",
      " 0   age       7813 non-null   int64 \n",
      " 1   job       7813 non-null   object\n",
      " 2   balance   7813 non-null   int64 \n",
      " 3   housing   7813 non-null   object\n",
      " 4   loan      7813 non-null   object\n",
      " 5   contact   7813 non-null   object\n",
      " 6   month     7813 non-null   object\n",
      " 7   campaign  7813 non-null   int64 \n",
      " 8   pdays     7813 non-null   int64 \n",
      " 9   poutcome  7813 non-null   object\n",
      " 10  deposit   7813 non-null   object\n",
      "dtypes: int64(4), object(7)\n",
      "memory usage: 671.6+ KB\n"
     ]
    }
   ],
   "source": [
    "## Melihat informasi pada data\n",
    "df.info()"
   ]
  },
  {
   "cell_type": "markdown",
   "id": "42d846c8",
   "metadata": {},
   "source": [
    "Terdapat 11 kolom yang terdapat pada *dataset*. Bila dilihat dari kolom `Non-Null Count`, jumlah seluruh data pada masing-masing kolom berjumlah sama, yaitu sebanyak 7813. Hal tersebut menunjukkan tidak adanya Missing Value dari dataset kita. Dataset yang kita punya berupa *object* dan *integer*."
   ]
  },
  {
   "cell_type": "markdown",
   "id": "e80e5ad1",
   "metadata": {},
   "source": [
    "### Visualize Missing Value"
   ]
  },
  {
   "cell_type": "markdown",
   "id": "3f61e09f",
   "metadata": {},
   "source": [
    "Kita akan memvisualisasikan Missing Value menggunakan visialisasi Heatmap. Dengan menggunakan visualisasi heatmap, kita akan dapat dengan mudah mendeteksi Missing Value, tanpa harus melihat secara detail."
   ]
  },
  {
   "cell_type": "code",
   "execution_count": 4,
   "id": "c82578d4",
   "metadata": {},
   "outputs": [
    {
     "data": {
      "image/png": "[encoded data removed]",
      "text/plain": [
       "<Figure size 1080x720 with 1 Axes>"
      ]
     },
     "metadata": {
      "needs_background": "light"
     },
     "output_type": "display_data"
    }
   ],
   "source": [
    "plt.figure(figsize=(15, 10)) ##ukuran\n",
    "sns.heatmap(df.isna(), cmap='copper_r', cbar=False, yticklabels=False)\n",
    "## cmap = (palette warna dari heatmap)\n",
    "## cbar = False (menyembunyikan legends pada heatmap)\n",
    "## ytickslabels = False (menyembunyikan angka pada heatmap)\n",
    "plt.show()"
   ]
  },
  {
   "cell_type": "markdown",
   "id": "1cdafa52",
   "metadata": {},
   "source": [
    "Dari visualisasi heatmap di atas, menunjukkan bahwa tidak ada Missing Value di dalam dataset ini."
   ]
  },
  {
   "cell_type": "markdown",
   "id": "16ebc4e7",
   "metadata": {},
   "source": [
    "### Check Duplicated Data"
   ]
  },
  {
   "cell_type": "code",
   "execution_count": 5,
   "id": "8eb13335",
   "metadata": {},
   "outputs": [
    {
     "data": {
      "text/plain": [
       "8"
      ]
     },
     "execution_count": 5,
     "metadata": {},
     "output_type": "execute_result"
    }
   ],
   "source": [
    "## Cek apabila terdapat data yang duplikat\n",
    "df.duplicated().sum()"
   ]
  },
  {
   "cell_type": "markdown",
   "id": "aba847fc",
   "metadata": {},
   "source": [
    "Terdapat 8 data yang terduplikat di dalam dataset. Namun, di dalam dataset ini tidak ada Primary Key yang membedakan data satu dengan yang lainnya. Sehingga, kita tidak perlu melakukan tindakan terhadap data yang telah terduplikat ini."
   ]
  },
  {
   "cell_type": "markdown",
   "id": "8aa0a8c8",
   "metadata": {},
   "source": [
    "### Describe Columns"
   ]
  },
  {
   "cell_type": "code",
   "execution_count": 6,
   "id": "257206c2",
   "metadata": {},
   "outputs": [],
   "source": [
    "## Membuat looping untuk menampilkan detail dari tiap-tiap kolom\n",
    "bankDesc = []\n",
    "\n",
    "for i in df.columns:\n",
    "    bankDesc.append([\n",
    "        i,\n",
    "        df[i].dtypes,\n",
    "        df[i].isna().sum(),\n",
    "        round((df[i].isna().sum() / len(df)) * 100, 2),\n",
    "        df[i].nunique(),\n",
    "        df[i].drop_duplicates().sample(2).values\n",
    "    ])"
   ]
  },
  {
   "cell_type": "code",
   "execution_count": 7,
   "id": "e53b832d",
   "metadata": {
    "scrolled": true
   },
   "outputs": [
    {
     "data": {
      "text/html": [
       "<div>\n",
       "<style scoped>\n",
       "    .dataframe tbody tr th:only-of-type {\n",
       "        vertical-align: middle;\n",
       "    }\n",
       "\n",
       "    .dataframe tbody tr th {\n",
       "        vertical-align: top;\n",
       "    }\n",
       "\n",
       "    .dataframe thead th {\n",
       "        text-align: right;\n",
       "    }\n",
       "</style>\n",
       "<table border=\"1\" class=\"dataframe\">\n",
       "  <thead>\n",
       "    <tr style=\"text-align: right;\">\n",
       "      <th></th>\n",
       "      <th>Features</th>\n",
       "      <th>DataType</th>\n",
       "      <th>Null</th>\n",
       "      <th>NullPercentage</th>\n",
       "      <th>Unique</th>\n",
       "      <th>UniqueSample</th>\n",
       "    </tr>\n",
       "  </thead>\n",
       "  <tbody>\n",
       "    <tr>\n",
       "      <th>0</th>\n",
       "      <td>age</td>\n",
       "      <td>int64</td>\n",
       "      <td>0</td>\n",
       "      <td>0.0</td>\n",
       "      <td>75</td>\n",
       "      <td>[58, 26]</td>\n",
       "    </tr>\n",
       "    <tr>\n",
       "      <th>1</th>\n",
       "      <td>job</td>\n",
       "      <td>object</td>\n",
       "      <td>0</td>\n",
       "      <td>0.0</td>\n",
       "      <td>12</td>\n",
       "      <td>[admin., self-employed]</td>\n",
       "    </tr>\n",
       "    <tr>\n",
       "      <th>2</th>\n",
       "      <td>balance</td>\n",
       "      <td>int64</td>\n",
       "      <td>0</td>\n",
       "      <td>0.0</td>\n",
       "      <td>3153</td>\n",
       "      <td>[1861, 1444]</td>\n",
       "    </tr>\n",
       "    <tr>\n",
       "      <th>3</th>\n",
       "      <td>housing</td>\n",
       "      <td>object</td>\n",
       "      <td>0</td>\n",
       "      <td>0.0</td>\n",
       "      <td>2</td>\n",
       "      <td>[yes, no]</td>\n",
       "    </tr>\n",
       "    <tr>\n",
       "      <th>4</th>\n",
       "      <td>loan</td>\n",
       "      <td>object</td>\n",
       "      <td>0</td>\n",
       "      <td>0.0</td>\n",
       "      <td>2</td>\n",
       "      <td>[yes, no]</td>\n",
       "    </tr>\n",
       "    <tr>\n",
       "      <th>5</th>\n",
       "      <td>contact</td>\n",
       "      <td>object</td>\n",
       "      <td>0</td>\n",
       "      <td>0.0</td>\n",
       "      <td>3</td>\n",
       "      <td>[unknown, cellular]</td>\n",
       "    </tr>\n",
       "    <tr>\n",
       "      <th>6</th>\n",
       "      <td>month</td>\n",
       "      <td>object</td>\n",
       "      <td>0</td>\n",
       "      <td>0.0</td>\n",
       "      <td>12</td>\n",
       "      <td>[sep, may]</td>\n",
       "    </tr>\n",
       "    <tr>\n",
       "      <th>7</th>\n",
       "      <td>campaign</td>\n",
       "      <td>int64</td>\n",
       "      <td>0</td>\n",
       "      <td>0.0</td>\n",
       "      <td>32</td>\n",
       "      <td>[5, 33]</td>\n",
       "    </tr>\n",
       "    <tr>\n",
       "      <th>8</th>\n",
       "      <td>pdays</td>\n",
       "      <td>int64</td>\n",
       "      <td>0</td>\n",
       "      <td>0.0</td>\n",
       "      <td>422</td>\n",
       "      <td>[63, 761]</td>\n",
       "    </tr>\n",
       "    <tr>\n",
       "      <th>9</th>\n",
       "      <td>poutcome</td>\n",
       "      <td>object</td>\n",
       "      <td>0</td>\n",
       "      <td>0.0</td>\n",
       "      <td>4</td>\n",
       "      <td>[other, failure]</td>\n",
       "    </tr>\n",
       "    <tr>\n",
       "      <th>10</th>\n",
       "      <td>deposit</td>\n",
       "      <td>object</td>\n",
       "      <td>0</td>\n",
       "      <td>0.0</td>\n",
       "      <td>2</td>\n",
       "      <td>[yes, no]</td>\n",
       "    </tr>\n",
       "  </tbody>\n",
       "</table>\n",
       "</div>"
      ],
      "text/plain": [
       "    Features DataType  Null  NullPercentage  Unique             UniqueSample\n",
       "0        age    int64     0             0.0      75                 [58, 26]\n",
       "1        job   object     0             0.0      12  [admin., self-employed]\n",
       "2    balance    int64     0             0.0    3153             [1861, 1444]\n",
       "3    housing   object     0             0.0       2                [yes, no]\n",
       "4       loan   object     0             0.0       2                [yes, no]\n",
       "5    contact   object     0             0.0       3      [unknown, cellular]\n",
       "6      month   object     0             0.0      12               [sep, may]\n",
       "7   campaign    int64     0             0.0      32                  [5, 33]\n",
       "8      pdays    int64     0             0.0     422                [63, 761]\n",
       "9   poutcome   object     0             0.0       4         [other, failure]\n",
       "10   deposit   object     0             0.0       2                [yes, no]"
      ]
     },
     "execution_count": 7,
     "metadata": {},
     "output_type": "execute_result"
    }
   ],
   "source": [
    "## Dari looping di atas, dibuat DataFrame untuk menampilkan detail tiap-tiap kolom\n",
    "pd.DataFrame(data = bankDesc,\n",
    "            columns=[\n",
    "                'Features',\n",
    "                'DataType',\n",
    "                'Null',\n",
    "                'NullPercentage',\n",
    "                'Unique',\n",
    "                'UniqueSample'\n",
    "            ])"
   ]
  },
  {
   "cell_type": "markdown",
   "id": "391cb610",
   "metadata": {},
   "source": [
    "Tabel di atas menunjukkan setiap informasi dari tiap-tiap nasabah, termasuk jumlah balance dari tiap nasabah dan berapa hari terakhir kali nasabah dihubungi. Kemudian, kita akan mencari nilai dan tujuan dari setiap kolom. "
   ]
  },
  {
   "cell_type": "markdown",
   "id": "a9e749f5",
   "metadata": {},
   "source": [
    "### Features Column"
   ]
  },
  {
   "cell_type": "markdown",
   "id": "b2e7d2bf",
   "metadata": {},
   "source": [
    "`age`"
   ]
  },
  {
   "cell_type": "code",
   "execution_count": 8,
   "id": "20f5b8e1",
   "metadata": {
    "scrolled": false
   },
   "outputs": [
    {
     "data": {
      "text/plain": [
       "array([55, 39, 51, 38, 36, 41, 37, 35, 57, 23, 33, 31, 53, 30, 46, 48, 25,\n",
       "       29, 28, 52, 49, 44, 42, 27, 47, 64, 26, 34, 56, 32, 58, 45, 54, 50,\n",
       "       79, 65, 40, 24, 60, 43, 61, 59, 62, 68, 82, 71, 73, 76, 69, 20, 72,\n",
       "       22, 67, 19, 70, 75, 63, 93, 77, 80, 66, 21, 87, 81, 92, 88, 84, 83,\n",
       "       78, 74, 18, 85, 95, 86, 90], dtype=int64)"
      ]
     },
     "execution_count": 8,
     "metadata": {},
     "output_type": "execute_result"
    }
   ],
   "source": [
    "## Di dalam kolom ini, kita akan melihat umur-umur dari tiap-tiap nasabah\n",
    "df['age'].unique()"
   ]
  },
  {
   "cell_type": "code",
   "execution_count": 9,
   "id": "dbe69d12",
   "metadata": {},
   "outputs": [],
   "source": [
    "## Karena umur nasabah yang sangat beragam, kita perlu menyederhanakannya untuk memudahkan permodelan\n",
    "## Function ini digunakan untuk Re-Categorize kolom 'age'\n",
    "def age_cat(x):\n",
    "    if x<=df.describe()['age']['25%'] :\n",
    "        return 'Adolescence'\n",
    "    elif x<=df.describe()['age']['50%'] :\n",
    "        return 'Young Adult'\n",
    "    elif x<=df.describe()['age']['75%'] :\n",
    "        return 'Adult'\n",
    "    else:\n",
    "        return 'Senior Adult'"
   ]
  },
  {
   "cell_type": "code",
   "execution_count": 10,
   "id": "0e3bcaf4",
   "metadata": {},
   "outputs": [],
   "source": [
    "## Mengaplikasikan function age_cat ke dalam kolom 'age'\n",
    "df['age'] = df['age'].apply(age_cat)"
   ]
  },
  {
   "cell_type": "code",
   "execution_count": 11,
   "id": "15d19b39",
   "metadata": {
    "scrolled": true
   },
   "outputs": [
    {
     "data": {
      "text/html": [
       "<div>\n",
       "<style scoped>\n",
       "    .dataframe tbody tr th:only-of-type {\n",
       "        vertical-align: middle;\n",
       "    }\n",
       "\n",
       "    .dataframe tbody tr th {\n",
       "        vertical-align: top;\n",
       "    }\n",
       "\n",
       "    .dataframe thead th {\n",
       "        text-align: right;\n",
       "    }\n",
       "</style>\n",
       "<table border=\"1\" class=\"dataframe\">\n",
       "  <thead>\n",
       "    <tr style=\"text-align: right;\">\n",
       "      <th></th>\n",
       "      <th>age</th>\n",
       "      <th>job</th>\n",
       "      <th>balance</th>\n",
       "      <th>housing</th>\n",
       "      <th>loan</th>\n",
       "      <th>contact</th>\n",
       "      <th>month</th>\n",
       "      <th>campaign</th>\n",
       "      <th>pdays</th>\n",
       "      <th>poutcome</th>\n",
       "      <th>deposit</th>\n",
       "    </tr>\n",
       "  </thead>\n",
       "  <tbody>\n",
       "    <tr>\n",
       "      <th>0</th>\n",
       "      <td>Senior Adult</td>\n",
       "      <td>admin.</td>\n",
       "      <td>1662</td>\n",
       "      <td>no</td>\n",
       "      <td>no</td>\n",
       "      <td>cellular</td>\n",
       "      <td>jun</td>\n",
       "      <td>2</td>\n",
       "      <td>-1</td>\n",
       "      <td>unknown</td>\n",
       "      <td>yes</td>\n",
       "    </tr>\n",
       "    <tr>\n",
       "      <th>1</th>\n",
       "      <td>Young Adult</td>\n",
       "      <td>self-employed</td>\n",
       "      <td>-3058</td>\n",
       "      <td>yes</td>\n",
       "      <td>yes</td>\n",
       "      <td>cellular</td>\n",
       "      <td>apr</td>\n",
       "      <td>3</td>\n",
       "      <td>-1</td>\n",
       "      <td>unknown</td>\n",
       "      <td>yes</td>\n",
       "    </tr>\n",
       "    <tr>\n",
       "      <th>2</th>\n",
       "      <td>Senior Adult</td>\n",
       "      <td>admin.</td>\n",
       "      <td>3025</td>\n",
       "      <td>no</td>\n",
       "      <td>no</td>\n",
       "      <td>cellular</td>\n",
       "      <td>may</td>\n",
       "      <td>1</td>\n",
       "      <td>352</td>\n",
       "      <td>other</td>\n",
       "      <td>yes</td>\n",
       "    </tr>\n",
       "    <tr>\n",
       "      <th>3</th>\n",
       "      <td>Young Adult</td>\n",
       "      <td>services</td>\n",
       "      <td>-87</td>\n",
       "      <td>yes</td>\n",
       "      <td>no</td>\n",
       "      <td>cellular</td>\n",
       "      <td>may</td>\n",
       "      <td>1</td>\n",
       "      <td>-1</td>\n",
       "      <td>unknown</td>\n",
       "      <td>no</td>\n",
       "    </tr>\n",
       "    <tr>\n",
       "      <th>4</th>\n",
       "      <td>Young Adult</td>\n",
       "      <td>housemaid</td>\n",
       "      <td>205</td>\n",
       "      <td>yes</td>\n",
       "      <td>no</td>\n",
       "      <td>telephone</td>\n",
       "      <td>nov</td>\n",
       "      <td>4</td>\n",
       "      <td>-1</td>\n",
       "      <td>unknown</td>\n",
       "      <td>no</td>\n",
       "    </tr>\n",
       "  </tbody>\n",
       "</table>\n",
       "</div>"
      ],
      "text/plain": [
       "            age            job  balance housing loan    contact month  \\\n",
       "0  Senior Adult         admin.     1662      no   no   cellular   jun   \n",
       "1   Young Adult  self-employed    -3058     yes  yes   cellular   apr   \n",
       "2  Senior Adult         admin.     3025      no   no   cellular   may   \n",
       "3   Young Adult       services      -87     yes   no   cellular   may   \n",
       "4   Young Adult      housemaid      205     yes   no  telephone   nov   \n",
       "\n",
       "   campaign  pdays poutcome deposit  \n",
       "0         2     -1  unknown     yes  \n",
       "1         3     -1  unknown     yes  \n",
       "2         1    352    other     yes  \n",
       "3         1     -1  unknown      no  \n",
       "4         4     -1  unknown      no  "
      ]
     },
     "execution_count": 11,
     "metadata": {},
     "output_type": "execute_result"
    }
   ],
   "source": [
    "df.head() ## Kita ingin memastikan bahwa proses Re-Categorize sudah benar"
   ]
  },
  {
   "cell_type": "code",
   "execution_count": 12,
   "id": "1cf29cec",
   "metadata": {},
   "outputs": [],
   "source": [
    "## Terlihat bahwa proses Re-categorize sudah benar\n",
    "## Setelah dilakukan re-categorize, kolom age diubah dari categorical menjadi angka\n",
    "## Dengan melakukan label encoding\n",
    "df['age'] = df['age'].map({\n",
    "    'Adolescence' : 0,\n",
    "    'Young Adult' : 1,\n",
    "    'Adult' : 2,\n",
    "    'Senior Adult' : 3\n",
    "})"
   ]
  },
  {
   "cell_type": "code",
   "execution_count": 13,
   "id": "c1939b83",
   "metadata": {
    "scrolled": true
   },
   "outputs": [
    {
     "data": {
      "text/html": [
       "<div>\n",
       "<style scoped>\n",
       "    .dataframe tbody tr th:only-of-type {\n",
       "        vertical-align: middle;\n",
       "    }\n",
       "\n",
       "    .dataframe tbody tr th {\n",
       "        vertical-align: top;\n",
       "    }\n",
       "\n",
       "    .dataframe thead th {\n",
       "        text-align: right;\n",
       "    }\n",
       "</style>\n",
       "<table border=\"1\" class=\"dataframe\">\n",
       "  <thead>\n",
       "    <tr style=\"text-align: right;\">\n",
       "      <th></th>\n",
       "      <th>age</th>\n",
       "      <th>job</th>\n",
       "      <th>balance</th>\n",
       "      <th>housing</th>\n",
       "      <th>loan</th>\n",
       "      <th>contact</th>\n",
       "      <th>month</th>\n",
       "      <th>campaign</th>\n",
       "      <th>pdays</th>\n",
       "      <th>poutcome</th>\n",
       "      <th>deposit</th>\n",
       "    </tr>\n",
       "  </thead>\n",
       "  <tbody>\n",
       "    <tr>\n",
       "      <th>0</th>\n",
       "      <td>3</td>\n",
       "      <td>admin.</td>\n",
       "      <td>1662</td>\n",
       "      <td>no</td>\n",
       "      <td>no</td>\n",
       "      <td>cellular</td>\n",
       "      <td>jun</td>\n",
       "      <td>2</td>\n",
       "      <td>-1</td>\n",
       "      <td>unknown</td>\n",
       "      <td>yes</td>\n",
       "    </tr>\n",
       "    <tr>\n",
       "      <th>1</th>\n",
       "      <td>1</td>\n",
       "      <td>self-employed</td>\n",
       "      <td>-3058</td>\n",
       "      <td>yes</td>\n",
       "      <td>yes</td>\n",
       "      <td>cellular</td>\n",
       "      <td>apr</td>\n",
       "      <td>3</td>\n",
       "      <td>-1</td>\n",
       "      <td>unknown</td>\n",
       "      <td>yes</td>\n",
       "    </tr>\n",
       "    <tr>\n",
       "      <th>2</th>\n",
       "      <td>3</td>\n",
       "      <td>admin.</td>\n",
       "      <td>3025</td>\n",
       "      <td>no</td>\n",
       "      <td>no</td>\n",
       "      <td>cellular</td>\n",
       "      <td>may</td>\n",
       "      <td>1</td>\n",
       "      <td>352</td>\n",
       "      <td>other</td>\n",
       "      <td>yes</td>\n",
       "    </tr>\n",
       "    <tr>\n",
       "      <th>3</th>\n",
       "      <td>1</td>\n",
       "      <td>services</td>\n",
       "      <td>-87</td>\n",
       "      <td>yes</td>\n",
       "      <td>no</td>\n",
       "      <td>cellular</td>\n",
       "      <td>may</td>\n",
       "      <td>1</td>\n",
       "      <td>-1</td>\n",
       "      <td>unknown</td>\n",
       "      <td>no</td>\n",
       "    </tr>\n",
       "    <tr>\n",
       "      <th>4</th>\n",
       "      <td>1</td>\n",
       "      <td>housemaid</td>\n",
       "      <td>205</td>\n",
       "      <td>yes</td>\n",
       "      <td>no</td>\n",
       "      <td>telephone</td>\n",
       "      <td>nov</td>\n",
       "      <td>4</td>\n",
       "      <td>-1</td>\n",
       "      <td>unknown</td>\n",
       "      <td>no</td>\n",
       "    </tr>\n",
       "  </tbody>\n",
       "</table>\n",
       "</div>"
      ],
      "text/plain": [
       "   age            job  balance housing loan    contact month  campaign  pdays  \\\n",
       "0    3         admin.     1662      no   no   cellular   jun         2     -1   \n",
       "1    1  self-employed    -3058     yes  yes   cellular   apr         3     -1   \n",
       "2    3         admin.     3025      no   no   cellular   may         1    352   \n",
       "3    1       services      -87     yes   no   cellular   may         1     -1   \n",
       "4    1      housemaid      205     yes   no  telephone   nov         4     -1   \n",
       "\n",
       "  poutcome deposit  \n",
       "0  unknown     yes  \n",
       "1  unknown     yes  \n",
       "2    other     yes  \n",
       "3  unknown      no  \n",
       "4  unknown      no  "
      ]
     },
     "execution_count": 13,
     "metadata": {},
     "output_type": "execute_result"
    }
   ],
   "source": [
    "## Kita memastikan bahwa proses label encoding sudah benar\n",
    "df.head()"
   ]
  },
  {
   "cell_type": "markdown",
   "id": "2e5a18df",
   "metadata": {},
   "source": [
    "`job`"
   ]
  },
  {
   "cell_type": "code",
   "execution_count": 14,
   "id": "7419c351",
   "metadata": {
    "scrolled": true
   },
   "outputs": [
    {
     "data": {
      "text/plain": [
       "array(['admin.', 'self-employed', 'services', 'housemaid', 'technician',\n",
       "       'management', 'student', 'blue-collar', 'entrepreneur', 'retired',\n",
       "       'unemployed', 'unknown'], dtype=object)"
      ]
     },
     "execution_count": 14,
     "metadata": {},
     "output_type": "execute_result"
    }
   ],
   "source": [
    "## Di dalam kolom ini, kita akan melihat pekerjaan-pekerjaan dari tiap-tiap nasabah\n",
    "df['job'].unique()"
   ]
  },
  {
   "cell_type": "code",
   "execution_count": 15,
   "id": "aea45e84",
   "metadata": {},
   "outputs": [
    {
     "data": {
      "text/html": [
       "<div>\n",
       "<style scoped>\n",
       "    .dataframe tbody tr th:only-of-type {\n",
       "        vertical-align: middle;\n",
       "    }\n",
       "\n",
       "    .dataframe tbody tr th {\n",
       "        vertical-align: top;\n",
       "    }\n",
       "\n",
       "    .dataframe thead th {\n",
       "        text-align: right;\n",
       "    }\n",
       "</style>\n",
       "<table border=\"1\" class=\"dataframe\">\n",
       "  <thead>\n",
       "    <tr style=\"text-align: right;\">\n",
       "      <th>col_0</th>\n",
       "      <th>Customer Occupation (%)</th>\n",
       "    </tr>\n",
       "    <tr>\n",
       "      <th>job</th>\n",
       "      <th></th>\n",
       "    </tr>\n",
       "  </thead>\n",
       "  <tbody>\n",
       "    <tr>\n",
       "      <th>management</th>\n",
       "      <td>22.94</td>\n",
       "    </tr>\n",
       "    <tr>\n",
       "      <th>blue-collar</th>\n",
       "      <td>17.23</td>\n",
       "    </tr>\n",
       "    <tr>\n",
       "      <th>technician</th>\n",
       "      <td>16.52</td>\n",
       "    </tr>\n",
       "    <tr>\n",
       "      <th>admin.</th>\n",
       "      <td>11.98</td>\n",
       "    </tr>\n",
       "    <tr>\n",
       "      <th>services</th>\n",
       "      <td>8.42</td>\n",
       "    </tr>\n",
       "    <tr>\n",
       "      <th>retired</th>\n",
       "      <td>6.91</td>\n",
       "    </tr>\n",
       "    <tr>\n",
       "      <th>self-employed</th>\n",
       "      <td>3.58</td>\n",
       "    </tr>\n",
       "    <tr>\n",
       "      <th>unemployed</th>\n",
       "      <td>3.19</td>\n",
       "    </tr>\n",
       "    <tr>\n",
       "      <th>student</th>\n",
       "      <td>3.16</td>\n",
       "    </tr>\n",
       "    <tr>\n",
       "      <th>entrepreneur</th>\n",
       "      <td>3.02</td>\n",
       "    </tr>\n",
       "    <tr>\n",
       "      <th>housemaid</th>\n",
       "      <td>2.36</td>\n",
       "    </tr>\n",
       "    <tr>\n",
       "      <th>unknown</th>\n",
       "      <td>0.69</td>\n",
       "    </tr>\n",
       "  </tbody>\n",
       "</table>\n",
       "</div>"
      ],
      "text/plain": [
       "col_0          Customer Occupation (%)\n",
       "job                                   \n",
       "management                       22.94\n",
       "blue-collar                      17.23\n",
       "technician                       16.52\n",
       "admin.                           11.98\n",
       "services                          8.42\n",
       "retired                           6.91\n",
       "self-employed                     3.58\n",
       "unemployed                        3.19\n",
       "student                           3.16\n",
       "entrepreneur                      3.02\n",
       "housemaid                         2.36\n",
       "unknown                           0.69"
      ]
     },
     "execution_count": 15,
     "metadata": {},
     "output_type": "execute_result"
    }
   ],
   "source": [
    "## Kita ingin melihat persentase pekerjaan dari tiap-tiap nasabah\n",
    "(pd.crosstab(index=df['job'], columns='Customer Occupation (%)', normalize=True)*100).round(2).sort_values('Customer Occupation (%)', ascending=False)"
   ]
  },
  {
   "cell_type": "markdown",
   "id": "203d792b",
   "metadata": {},
   "source": [
    "Dari tabel di atas menunjukkan bahwa pekerjaan dari nasabah-nasabah cukup beragam, dengan yang paling tinggi adalah management. Untuk itu perlu digabung untuk memudahkan proses Machine Learning."
   ]
  },
  {
   "cell_type": "code",
   "execution_count": 16,
   "id": "b6123dee",
   "metadata": {},
   "outputs": [],
   "source": [
    "## Function ini digunakan untuk Re-Categorize kolom 'job'\n",
    "def job_cust(x):\n",
    "    if x == 'management':\n",
    "        return x\n",
    "    elif x == 'blue-collar':\n",
    "        return x\n",
    "    elif x == 'technician' :\n",
    "        return x\n",
    "    else:\n",
    "        return 'others'"
   ]
  },
  {
   "cell_type": "code",
   "execution_count": 17,
   "id": "6960c400",
   "metadata": {},
   "outputs": [],
   "source": [
    "## Mengaplikasikan Re-categorize Function\n",
    "df['job'] = df['job'].apply(job_cust)"
   ]
  },
  {
   "cell_type": "code",
   "execution_count": 18,
   "id": "6e446a54",
   "metadata": {},
   "outputs": [
    {
     "data": {
      "text/html": [
       "<div>\n",
       "<style scoped>\n",
       "    .dataframe tbody tr th:only-of-type {\n",
       "        vertical-align: middle;\n",
       "    }\n",
       "\n",
       "    .dataframe tbody tr th {\n",
       "        vertical-align: top;\n",
       "    }\n",
       "\n",
       "    .dataframe thead th {\n",
       "        text-align: right;\n",
       "    }\n",
       "</style>\n",
       "<table border=\"1\" class=\"dataframe\">\n",
       "  <thead>\n",
       "    <tr style=\"text-align: right;\">\n",
       "      <th></th>\n",
       "      <th>age</th>\n",
       "      <th>job</th>\n",
       "      <th>balance</th>\n",
       "      <th>housing</th>\n",
       "      <th>loan</th>\n",
       "      <th>contact</th>\n",
       "      <th>month</th>\n",
       "      <th>campaign</th>\n",
       "      <th>pdays</th>\n",
       "      <th>poutcome</th>\n",
       "      <th>deposit</th>\n",
       "    </tr>\n",
       "  </thead>\n",
       "  <tbody>\n",
       "    <tr>\n",
       "      <th>0</th>\n",
       "      <td>3</td>\n",
       "      <td>others</td>\n",
       "      <td>1662</td>\n",
       "      <td>no</td>\n",
       "      <td>no</td>\n",
       "      <td>cellular</td>\n",
       "      <td>jun</td>\n",
       "      <td>2</td>\n",
       "      <td>-1</td>\n",
       "      <td>unknown</td>\n",
       "      <td>yes</td>\n",
       "    </tr>\n",
       "    <tr>\n",
       "      <th>1</th>\n",
       "      <td>1</td>\n",
       "      <td>others</td>\n",
       "      <td>-3058</td>\n",
       "      <td>yes</td>\n",
       "      <td>yes</td>\n",
       "      <td>cellular</td>\n",
       "      <td>apr</td>\n",
       "      <td>3</td>\n",
       "      <td>-1</td>\n",
       "      <td>unknown</td>\n",
       "      <td>yes</td>\n",
       "    </tr>\n",
       "    <tr>\n",
       "      <th>2</th>\n",
       "      <td>3</td>\n",
       "      <td>others</td>\n",
       "      <td>3025</td>\n",
       "      <td>no</td>\n",
       "      <td>no</td>\n",
       "      <td>cellular</td>\n",
       "      <td>may</td>\n",
       "      <td>1</td>\n",
       "      <td>352</td>\n",
       "      <td>other</td>\n",
       "      <td>yes</td>\n",
       "    </tr>\n",
       "    <tr>\n",
       "      <th>3</th>\n",
       "      <td>1</td>\n",
       "      <td>others</td>\n",
       "      <td>-87</td>\n",
       "      <td>yes</td>\n",
       "      <td>no</td>\n",
       "      <td>cellular</td>\n",
       "      <td>may</td>\n",
       "      <td>1</td>\n",
       "      <td>-1</td>\n",
       "      <td>unknown</td>\n",
       "      <td>no</td>\n",
       "    </tr>\n",
       "    <tr>\n",
       "      <th>4</th>\n",
       "      <td>1</td>\n",
       "      <td>others</td>\n",
       "      <td>205</td>\n",
       "      <td>yes</td>\n",
       "      <td>no</td>\n",
       "      <td>telephone</td>\n",
       "      <td>nov</td>\n",
       "      <td>4</td>\n",
       "      <td>-1</td>\n",
       "      <td>unknown</td>\n",
       "      <td>no</td>\n",
       "    </tr>\n",
       "  </tbody>\n",
       "</table>\n",
       "</div>"
      ],
      "text/plain": [
       "   age     job  balance housing loan    contact month  campaign  pdays  \\\n",
       "0    3  others     1662      no   no   cellular   jun         2     -1   \n",
       "1    1  others    -3058     yes  yes   cellular   apr         3     -1   \n",
       "2    3  others     3025      no   no   cellular   may         1    352   \n",
       "3    1  others      -87     yes   no   cellular   may         1     -1   \n",
       "4    1  others      205     yes   no  telephone   nov         4     -1   \n",
       "\n",
       "  poutcome deposit  \n",
       "0  unknown     yes  \n",
       "1  unknown     yes  \n",
       "2    other     yes  \n",
       "3  unknown      no  \n",
       "4  unknown      no  "
      ]
     },
     "execution_count": 18,
     "metadata": {},
     "output_type": "execute_result"
    }
   ],
   "source": [
    "## Kita memastikan bahwa proses label encoding sudah benar\n",
    "df.head()"
   ]
  },
  {
   "cell_type": "markdown",
   "id": "e472ec76",
   "metadata": {},
   "source": [
    "`balance`"
   ]
  },
  {
   "cell_type": "code",
   "execution_count": 19,
   "id": "1cb80354",
   "metadata": {},
   "outputs": [
    {
     "data": {
      "text/plain": [
       "array([ 1662, -3058,  3025, ...,  4108, 13901,  5473], dtype=int64)"
      ]
     },
     "execution_count": 19,
     "metadata": {},
     "output_type": "execute_result"
    }
   ],
   "source": [
    "## Kita akan melihat balance dari tiap-tiap nasabah\n",
    "df['balance'].unique()"
   ]
  },
  {
   "cell_type": "code",
   "execution_count": 20,
   "id": "5524e365",
   "metadata": {},
   "outputs": [],
   "source": [
    "## Dari syntax di atas terdapat nasabah yang memiliki balance yang negatif\n",
    "## Untuk memudahkan pekerjaan telemarketing, lebih efektif apabila kita hanya menelepon nasabah dengan balance positif\n",
    "## Secara Domain Knowledge, lebih memiliki kemungkinan untuk deposit\n",
    "df=df[df['balance'] > 0]"
   ]
  },
  {
   "cell_type": "code",
   "execution_count": 21,
   "id": "1cb486e5",
   "metadata": {},
   "outputs": [
    {
     "name": "stdout",
     "output_type": "stream",
     "text": [
      "<class 'pandas.core.frame.DataFrame'>\n",
      "Int64Index: 6788 entries, 0 to 7812\n",
      "Data columns (total 11 columns):\n",
      " #   Column    Non-Null Count  Dtype \n",
      "---  ------    --------------  ----- \n",
      " 0   age       6788 non-null   int64 \n",
      " 1   job       6788 non-null   object\n",
      " 2   balance   6788 non-null   int64 \n",
      " 3   housing   6788 non-null   object\n",
      " 4   loan      6788 non-null   object\n",
      " 5   contact   6788 non-null   object\n",
      " 6   month     6788 non-null   object\n",
      " 7   campaign  6788 non-null   int64 \n",
      " 8   pdays     6788 non-null   int64 \n",
      " 9   poutcome  6788 non-null   object\n",
      " 10  deposit   6788 non-null   object\n",
      "dtypes: int64(4), object(7)\n",
      "memory usage: 636.4+ KB\n"
     ]
    }
   ],
   "source": [
    "## Melihat jumlah dan tipe data setelah didrop\n",
    "df.info()"
   ]
  },
  {
   "cell_type": "code",
   "execution_count": 22,
   "id": "a8bdb99f",
   "metadata": {},
   "outputs": [],
   "source": [
    "## Karena balance nasabah yang sangat beragam, kita perlu menyederhanakannya untuk memudahkan permodelan\n",
    "## Function ini digunakan untuk Re-Categorize kolom 'balance'\n",
    "def balance_cat(x):\n",
    "    if x<=df.describe()['balance']['25%'] :\n",
    "        return 'Bronze'\n",
    "    elif x<=df.describe()['balance']['50%'] :\n",
    "        return 'Silver'\n",
    "    elif x<=df.describe()['balance']['75%'] :\n",
    "        return 'Gold'\n",
    "    else:\n",
    "        return 'Platinum'"
   ]
  },
  {
   "cell_type": "code",
   "execution_count": 23,
   "id": "595c64d5",
   "metadata": {},
   "outputs": [],
   "source": [
    "## Mengaplikasikan Re-categorize Function\n",
    "df['balance'] = df['balance'].apply(balance_cat)"
   ]
  },
  {
   "cell_type": "code",
   "execution_count": 24,
   "id": "6a0a8de7",
   "metadata": {},
   "outputs": [
    {
     "data": {
      "text/html": [
       "<div>\n",
       "<style scoped>\n",
       "    .dataframe tbody tr th:only-of-type {\n",
       "        vertical-align: middle;\n",
       "    }\n",
       "\n",
       "    .dataframe tbody tr th {\n",
       "        vertical-align: top;\n",
       "    }\n",
       "\n",
       "    .dataframe thead th {\n",
       "        text-align: right;\n",
       "    }\n",
       "</style>\n",
       "<table border=\"1\" class=\"dataframe\">\n",
       "  <thead>\n",
       "    <tr style=\"text-align: right;\">\n",
       "      <th></th>\n",
       "      <th>age</th>\n",
       "      <th>job</th>\n",
       "      <th>balance</th>\n",
       "      <th>housing</th>\n",
       "      <th>loan</th>\n",
       "      <th>contact</th>\n",
       "      <th>month</th>\n",
       "      <th>campaign</th>\n",
       "      <th>pdays</th>\n",
       "      <th>poutcome</th>\n",
       "      <th>deposit</th>\n",
       "    </tr>\n",
       "  </thead>\n",
       "  <tbody>\n",
       "    <tr>\n",
       "      <th>0</th>\n",
       "      <td>3</td>\n",
       "      <td>others</td>\n",
       "      <td>Gold</td>\n",
       "      <td>no</td>\n",
       "      <td>no</td>\n",
       "      <td>cellular</td>\n",
       "      <td>jun</td>\n",
       "      <td>2</td>\n",
       "      <td>-1</td>\n",
       "      <td>unknown</td>\n",
       "      <td>yes</td>\n",
       "    </tr>\n",
       "    <tr>\n",
       "      <th>2</th>\n",
       "      <td>3</td>\n",
       "      <td>others</td>\n",
       "      <td>Platinum</td>\n",
       "      <td>no</td>\n",
       "      <td>no</td>\n",
       "      <td>cellular</td>\n",
       "      <td>may</td>\n",
       "      <td>1</td>\n",
       "      <td>352</td>\n",
       "      <td>other</td>\n",
       "      <td>yes</td>\n",
       "    </tr>\n",
       "    <tr>\n",
       "      <th>4</th>\n",
       "      <td>1</td>\n",
       "      <td>others</td>\n",
       "      <td>Bronze</td>\n",
       "      <td>yes</td>\n",
       "      <td>no</td>\n",
       "      <td>telephone</td>\n",
       "      <td>nov</td>\n",
       "      <td>4</td>\n",
       "      <td>-1</td>\n",
       "      <td>unknown</td>\n",
       "      <td>no</td>\n",
       "    </tr>\n",
       "    <tr>\n",
       "      <th>6</th>\n",
       "      <td>1</td>\n",
       "      <td>others</td>\n",
       "      <td>Platinum</td>\n",
       "      <td>no</td>\n",
       "      <td>no</td>\n",
       "      <td>cellular</td>\n",
       "      <td>jan</td>\n",
       "      <td>2</td>\n",
       "      <td>-1</td>\n",
       "      <td>unknown</td>\n",
       "      <td>yes</td>\n",
       "    </tr>\n",
       "    <tr>\n",
       "      <th>7</th>\n",
       "      <td>1</td>\n",
       "      <td>technician</td>\n",
       "      <td>Gold</td>\n",
       "      <td>yes</td>\n",
       "      <td>yes</td>\n",
       "      <td>cellular</td>\n",
       "      <td>may</td>\n",
       "      <td>2</td>\n",
       "      <td>21</td>\n",
       "      <td>failure</td>\n",
       "      <td>yes</td>\n",
       "    </tr>\n",
       "  </tbody>\n",
       "</table>\n",
       "</div>"
      ],
      "text/plain": [
       "   age         job   balance housing loan    contact month  campaign  pdays  \\\n",
       "0    3      others      Gold      no   no   cellular   jun         2     -1   \n",
       "2    3      others  Platinum      no   no   cellular   may         1    352   \n",
       "4    1      others    Bronze     yes   no  telephone   nov         4     -1   \n",
       "6    1      others  Platinum      no   no   cellular   jan         2     -1   \n",
       "7    1  technician      Gold     yes  yes   cellular   may         2     21   \n",
       "\n",
       "  poutcome deposit  \n",
       "0  unknown     yes  \n",
       "2    other     yes  \n",
       "4  unknown      no  \n",
       "6  unknown     yes  \n",
       "7  failure     yes  "
      ]
     },
     "execution_count": 24,
     "metadata": {},
     "output_type": "execute_result"
    }
   ],
   "source": [
    "## Kita memastikan bahwa proses recategorize sudah benar\n",
    "df.head()"
   ]
  },
  {
   "cell_type": "code",
   "execution_count": 25,
   "id": "b3523373",
   "metadata": {},
   "outputs": [],
   "source": [
    "## Terlihat bahwa proses Re-categorize sudah benar\n",
    "## Setelah dilakukan re-categorize, kolom balance diubah dari categorical menjadi angka\n",
    "## Dengan melakukan label encoding\n",
    "df['balance'] = df['balance'].map({\n",
    "    'Bronze' : 0,\n",
    "    'Silver' : 1,\n",
    "    'Gold' : 2,\n",
    "    'Platinum' : 3\n",
    "})"
   ]
  },
  {
   "cell_type": "code",
   "execution_count": 26,
   "id": "d00dc605",
   "metadata": {},
   "outputs": [
    {
     "data": {
      "text/html": [
       "<div>\n",
       "<style scoped>\n",
       "    .dataframe tbody tr th:only-of-type {\n",
       "        vertical-align: middle;\n",
       "    }\n",
       "\n",
       "    .dataframe tbody tr th {\n",
       "        vertical-align: top;\n",
       "    }\n",
       "\n",
       "    .dataframe thead th {\n",
       "        text-align: right;\n",
       "    }\n",
       "</style>\n",
       "<table border=\"1\" class=\"dataframe\">\n",
       "  <thead>\n",
       "    <tr style=\"text-align: right;\">\n",
       "      <th></th>\n",
       "      <th>age</th>\n",
       "      <th>job</th>\n",
       "      <th>balance</th>\n",
       "      <th>housing</th>\n",
       "      <th>loan</th>\n",
       "      <th>contact</th>\n",
       "      <th>month</th>\n",
       "      <th>campaign</th>\n",
       "      <th>pdays</th>\n",
       "      <th>poutcome</th>\n",
       "      <th>deposit</th>\n",
       "    </tr>\n",
       "  </thead>\n",
       "  <tbody>\n",
       "    <tr>\n",
       "      <th>0</th>\n",
       "      <td>3</td>\n",
       "      <td>others</td>\n",
       "      <td>2</td>\n",
       "      <td>no</td>\n",
       "      <td>no</td>\n",
       "      <td>cellular</td>\n",
       "      <td>jun</td>\n",
       "      <td>2</td>\n",
       "      <td>-1</td>\n",
       "      <td>unknown</td>\n",
       "      <td>yes</td>\n",
       "    </tr>\n",
       "    <tr>\n",
       "      <th>2</th>\n",
       "      <td>3</td>\n",
       "      <td>others</td>\n",
       "      <td>3</td>\n",
       "      <td>no</td>\n",
       "      <td>no</td>\n",
       "      <td>cellular</td>\n",
       "      <td>may</td>\n",
       "      <td>1</td>\n",
       "      <td>352</td>\n",
       "      <td>other</td>\n",
       "      <td>yes</td>\n",
       "    </tr>\n",
       "    <tr>\n",
       "      <th>4</th>\n",
       "      <td>1</td>\n",
       "      <td>others</td>\n",
       "      <td>0</td>\n",
       "      <td>yes</td>\n",
       "      <td>no</td>\n",
       "      <td>telephone</td>\n",
       "      <td>nov</td>\n",
       "      <td>4</td>\n",
       "      <td>-1</td>\n",
       "      <td>unknown</td>\n",
       "      <td>no</td>\n",
       "    </tr>\n",
       "    <tr>\n",
       "      <th>6</th>\n",
       "      <td>1</td>\n",
       "      <td>others</td>\n",
       "      <td>3</td>\n",
       "      <td>no</td>\n",
       "      <td>no</td>\n",
       "      <td>cellular</td>\n",
       "      <td>jan</td>\n",
       "      <td>2</td>\n",
       "      <td>-1</td>\n",
       "      <td>unknown</td>\n",
       "      <td>yes</td>\n",
       "    </tr>\n",
       "    <tr>\n",
       "      <th>7</th>\n",
       "      <td>1</td>\n",
       "      <td>technician</td>\n",
       "      <td>2</td>\n",
       "      <td>yes</td>\n",
       "      <td>yes</td>\n",
       "      <td>cellular</td>\n",
       "      <td>may</td>\n",
       "      <td>2</td>\n",
       "      <td>21</td>\n",
       "      <td>failure</td>\n",
       "      <td>yes</td>\n",
       "    </tr>\n",
       "  </tbody>\n",
       "</table>\n",
       "</div>"
      ],
      "text/plain": [
       "   age         job  balance housing loan    contact month  campaign  pdays  \\\n",
       "0    3      others        2      no   no   cellular   jun         2     -1   \n",
       "2    3      others        3      no   no   cellular   may         1    352   \n",
       "4    1      others        0     yes   no  telephone   nov         4     -1   \n",
       "6    1      others        3      no   no   cellular   jan         2     -1   \n",
       "7    1  technician        2     yes  yes   cellular   may         2     21   \n",
       "\n",
       "  poutcome deposit  \n",
       "0  unknown     yes  \n",
       "2    other     yes  \n",
       "4  unknown      no  \n",
       "6  unknown     yes  \n",
       "7  failure     yes  "
      ]
     },
     "execution_count": 26,
     "metadata": {},
     "output_type": "execute_result"
    }
   ],
   "source": [
    "## Kita memastikan bahwa proses label encoding sudah benar\n",
    "df.head()"
   ]
  },
  {
   "cell_type": "markdown",
   "id": "a06312ff",
   "metadata": {},
   "source": [
    "`housing`"
   ]
  },
  {
   "cell_type": "code",
   "execution_count": 27,
   "id": "35270fde",
   "metadata": {},
   "outputs": [
    {
     "data": {
      "text/plain": [
       "array(['no', 'yes'], dtype=object)"
      ]
     },
     "execution_count": 27,
     "metadata": {},
     "output_type": "execute_result"
    }
   ],
   "source": [
    "## Kita akan melihat status pinjaman KPR dari tiap-tiap nasabah\n",
    "df['housing'].unique()"
   ]
  },
  {
   "cell_type": "code",
   "execution_count": 28,
   "id": "16573f71",
   "metadata": {},
   "outputs": [],
   "source": [
    "## Untuk memudahkan sistem, dibuat function untuk mengubah kolom housing dari kategorikal menjadi numerikal\n",
    "def housing_cat(x):\n",
    "    if x == 'yes' :\n",
    "        return 1\n",
    "    else:\n",
    "        return 0"
   ]
  },
  {
   "cell_type": "code",
   "execution_count": 29,
   "id": "89275ae7",
   "metadata": {},
   "outputs": [],
   "source": [
    "## Mengaplikasikan function housing_cat ke dalam kolom 'housing'\n",
    "df['housing'] = df['housing'].apply(housing_cat)"
   ]
  },
  {
   "cell_type": "code",
   "execution_count": 30,
   "id": "1a1226d6",
   "metadata": {},
   "outputs": [
    {
     "data": {
      "text/html": [
       "<div>\n",
       "<style scoped>\n",
       "    .dataframe tbody tr th:only-of-type {\n",
       "        vertical-align: middle;\n",
       "    }\n",
       "\n",
       "    .dataframe tbody tr th {\n",
       "        vertical-align: top;\n",
       "    }\n",
       "\n",
       "    .dataframe thead th {\n",
       "        text-align: right;\n",
       "    }\n",
       "</style>\n",
       "<table border=\"1\" class=\"dataframe\">\n",
       "  <thead>\n",
       "    <tr style=\"text-align: right;\">\n",
       "      <th></th>\n",
       "      <th>age</th>\n",
       "      <th>job</th>\n",
       "      <th>balance</th>\n",
       "      <th>housing</th>\n",
       "      <th>loan</th>\n",
       "      <th>contact</th>\n",
       "      <th>month</th>\n",
       "      <th>campaign</th>\n",
       "      <th>pdays</th>\n",
       "      <th>poutcome</th>\n",
       "      <th>deposit</th>\n",
       "    </tr>\n",
       "  </thead>\n",
       "  <tbody>\n",
       "    <tr>\n",
       "      <th>0</th>\n",
       "      <td>3</td>\n",
       "      <td>others</td>\n",
       "      <td>2</td>\n",
       "      <td>0</td>\n",
       "      <td>no</td>\n",
       "      <td>cellular</td>\n",
       "      <td>jun</td>\n",
       "      <td>2</td>\n",
       "      <td>-1</td>\n",
       "      <td>unknown</td>\n",
       "      <td>yes</td>\n",
       "    </tr>\n",
       "    <tr>\n",
       "      <th>2</th>\n",
       "      <td>3</td>\n",
       "      <td>others</td>\n",
       "      <td>3</td>\n",
       "      <td>0</td>\n",
       "      <td>no</td>\n",
       "      <td>cellular</td>\n",
       "      <td>may</td>\n",
       "      <td>1</td>\n",
       "      <td>352</td>\n",
       "      <td>other</td>\n",
       "      <td>yes</td>\n",
       "    </tr>\n",
       "    <tr>\n",
       "      <th>4</th>\n",
       "      <td>1</td>\n",
       "      <td>others</td>\n",
       "      <td>0</td>\n",
       "      <td>1</td>\n",
       "      <td>no</td>\n",
       "      <td>telephone</td>\n",
       "      <td>nov</td>\n",
       "      <td>4</td>\n",
       "      <td>-1</td>\n",
       "      <td>unknown</td>\n",
       "      <td>no</td>\n",
       "    </tr>\n",
       "    <tr>\n",
       "      <th>6</th>\n",
       "      <td>1</td>\n",
       "      <td>others</td>\n",
       "      <td>3</td>\n",
       "      <td>0</td>\n",
       "      <td>no</td>\n",
       "      <td>cellular</td>\n",
       "      <td>jan</td>\n",
       "      <td>2</td>\n",
       "      <td>-1</td>\n",
       "      <td>unknown</td>\n",
       "      <td>yes</td>\n",
       "    </tr>\n",
       "    <tr>\n",
       "      <th>7</th>\n",
       "      <td>1</td>\n",
       "      <td>technician</td>\n",
       "      <td>2</td>\n",
       "      <td>1</td>\n",
       "      <td>yes</td>\n",
       "      <td>cellular</td>\n",
       "      <td>may</td>\n",
       "      <td>2</td>\n",
       "      <td>21</td>\n",
       "      <td>failure</td>\n",
       "      <td>yes</td>\n",
       "    </tr>\n",
       "  </tbody>\n",
       "</table>\n",
       "</div>"
      ],
      "text/plain": [
       "   age         job  balance  housing loan    contact month  campaign  pdays  \\\n",
       "0    3      others        2        0   no   cellular   jun         2     -1   \n",
       "2    3      others        3        0   no   cellular   may         1    352   \n",
       "4    1      others        0        1   no  telephone   nov         4     -1   \n",
       "6    1      others        3        0   no   cellular   jan         2     -1   \n",
       "7    1  technician        2        1  yes   cellular   may         2     21   \n",
       "\n",
       "  poutcome deposit  \n",
       "0  unknown     yes  \n",
       "2    other     yes  \n",
       "4  unknown      no  \n",
       "6  unknown     yes  \n",
       "7  failure     yes  "
      ]
     },
     "execution_count": 30,
     "metadata": {},
     "output_type": "execute_result"
    }
   ],
   "source": [
    "## Kita ingin memastikan bahwa proses re-categorize sudah benar\n",
    "df.head()"
   ]
  },
  {
   "cell_type": "markdown",
   "id": "be1160d9",
   "metadata": {},
   "source": [
    "`loan`"
   ]
  },
  {
   "cell_type": "code",
   "execution_count": 31,
   "id": "17830125",
   "metadata": {},
   "outputs": [
    {
     "data": {
      "text/plain": [
       "array(['no', 'yes'], dtype=object)"
      ]
     },
     "execution_count": 31,
     "metadata": {},
     "output_type": "execute_result"
    }
   ],
   "source": [
    "## Kita akan melihat status pinjaman dari nasabah\n",
    "df['loan'].unique()"
   ]
  },
  {
   "cell_type": "code",
   "execution_count": 32,
   "id": "cae7fde5",
   "metadata": {},
   "outputs": [],
   "source": [
    "## Untuk memudahkan sistem, dibuat function untuk mengubah kolom loan dari kategorikal menjadi numerikal\n",
    "def loan_cat(x):\n",
    "    if x == 'yes' :\n",
    "        return 1\n",
    "    else:\n",
    "        return 0"
   ]
  },
  {
   "cell_type": "code",
   "execution_count": 33,
   "id": "ef055fdd",
   "metadata": {},
   "outputs": [],
   "source": [
    "## Mengaplikasikan function loan_cat ke dalam kolom 'loan'\n",
    "df['loan'] = df['loan'].apply(loan_cat)"
   ]
  },
  {
   "cell_type": "code",
   "execution_count": 34,
   "id": "d9886042",
   "metadata": {},
   "outputs": [
    {
     "data": {
      "text/html": [
       "<div>\n",
       "<style scoped>\n",
       "    .dataframe tbody tr th:only-of-type {\n",
       "        vertical-align: middle;\n",
       "    }\n",
       "\n",
       "    .dataframe tbody tr th {\n",
       "        vertical-align: top;\n",
       "    }\n",
       "\n",
       "    .dataframe thead th {\n",
       "        text-align: right;\n",
       "    }\n",
       "</style>\n",
       "<table border=\"1\" class=\"dataframe\">\n",
       "  <thead>\n",
       "    <tr style=\"text-align: right;\">\n",
       "      <th></th>\n",
       "      <th>age</th>\n",
       "      <th>job</th>\n",
       "      <th>balance</th>\n",
       "      <th>housing</th>\n",
       "      <th>loan</th>\n",
       "      <th>contact</th>\n",
       "      <th>month</th>\n",
       "      <th>campaign</th>\n",
       "      <th>pdays</th>\n",
       "      <th>poutcome</th>\n",
       "      <th>deposit</th>\n",
       "    </tr>\n",
       "  </thead>\n",
       "  <tbody>\n",
       "    <tr>\n",
       "      <th>0</th>\n",
       "      <td>3</td>\n",
       "      <td>others</td>\n",
       "      <td>2</td>\n",
       "      <td>0</td>\n",
       "      <td>0</td>\n",
       "      <td>cellular</td>\n",
       "      <td>jun</td>\n",
       "      <td>2</td>\n",
       "      <td>-1</td>\n",
       "      <td>unknown</td>\n",
       "      <td>yes</td>\n",
       "    </tr>\n",
       "    <tr>\n",
       "      <th>2</th>\n",
       "      <td>3</td>\n",
       "      <td>others</td>\n",
       "      <td>3</td>\n",
       "      <td>0</td>\n",
       "      <td>0</td>\n",
       "      <td>cellular</td>\n",
       "      <td>may</td>\n",
       "      <td>1</td>\n",
       "      <td>352</td>\n",
       "      <td>other</td>\n",
       "      <td>yes</td>\n",
       "    </tr>\n",
       "    <tr>\n",
       "      <th>4</th>\n",
       "      <td>1</td>\n",
       "      <td>others</td>\n",
       "      <td>0</td>\n",
       "      <td>1</td>\n",
       "      <td>0</td>\n",
       "      <td>telephone</td>\n",
       "      <td>nov</td>\n",
       "      <td>4</td>\n",
       "      <td>-1</td>\n",
       "      <td>unknown</td>\n",
       "      <td>no</td>\n",
       "    </tr>\n",
       "    <tr>\n",
       "      <th>6</th>\n",
       "      <td>1</td>\n",
       "      <td>others</td>\n",
       "      <td>3</td>\n",
       "      <td>0</td>\n",
       "      <td>0</td>\n",
       "      <td>cellular</td>\n",
       "      <td>jan</td>\n",
       "      <td>2</td>\n",
       "      <td>-1</td>\n",
       "      <td>unknown</td>\n",
       "      <td>yes</td>\n",
       "    </tr>\n",
       "    <tr>\n",
       "      <th>7</th>\n",
       "      <td>1</td>\n",
       "      <td>technician</td>\n",
       "      <td>2</td>\n",
       "      <td>1</td>\n",
       "      <td>1</td>\n",
       "      <td>cellular</td>\n",
       "      <td>may</td>\n",
       "      <td>2</td>\n",
       "      <td>21</td>\n",
       "      <td>failure</td>\n",
       "      <td>yes</td>\n",
       "    </tr>\n",
       "  </tbody>\n",
       "</table>\n",
       "</div>"
      ],
      "text/plain": [
       "   age         job  balance  housing  loan    contact month  campaign  pdays  \\\n",
       "0    3      others        2        0     0   cellular   jun         2     -1   \n",
       "2    3      others        3        0     0   cellular   may         1    352   \n",
       "4    1      others        0        1     0  telephone   nov         4     -1   \n",
       "6    1      others        3        0     0   cellular   jan         2     -1   \n",
       "7    1  technician        2        1     1   cellular   may         2     21   \n",
       "\n",
       "  poutcome deposit  \n",
       "0  unknown     yes  \n",
       "2    other     yes  \n",
       "4  unknown      no  \n",
       "6  unknown     yes  \n",
       "7  failure     yes  "
      ]
     },
     "execution_count": 34,
     "metadata": {},
     "output_type": "execute_result"
    }
   ],
   "source": [
    "## Kita ingin memastikan bahwa proses re-categorize sudah benar\n",
    "df.head()"
   ]
  },
  {
   "cell_type": "markdown",
   "id": "9a6ce529",
   "metadata": {},
   "source": [
    "`contact`"
   ]
  },
  {
   "cell_type": "code",
   "execution_count": 35,
   "id": "56b3fa57",
   "metadata": {},
   "outputs": [
    {
     "data": {
      "text/plain": [
       "array(['cellular', 'telephone', 'unknown'], dtype=object)"
      ]
     },
     "execution_count": 35,
     "metadata": {},
     "output_type": "execute_result"
    }
   ],
   "source": [
    "## Kita akan melihat metode telemarketing yang telah dilakukan oleh bank\n",
    "df['contact'].unique()"
   ]
  },
  {
   "cell_type": "code",
   "execution_count": 36,
   "id": "02456b9c",
   "metadata": {},
   "outputs": [
    {
     "data": {
      "text/html": [
       "<div>\n",
       "<style scoped>\n",
       "    .dataframe tbody tr th:only-of-type {\n",
       "        vertical-align: middle;\n",
       "    }\n",
       "\n",
       "    .dataframe tbody tr th {\n",
       "        vertical-align: top;\n",
       "    }\n",
       "\n",
       "    .dataframe thead th {\n",
       "        text-align: right;\n",
       "    }\n",
       "</style>\n",
       "<table border=\"1\" class=\"dataframe\">\n",
       "  <thead>\n",
       "    <tr style=\"text-align: right;\">\n",
       "      <th>col_0</th>\n",
       "      <th>Telemarketing Method</th>\n",
       "    </tr>\n",
       "    <tr>\n",
       "      <th>contact</th>\n",
       "      <th></th>\n",
       "    </tr>\n",
       "  </thead>\n",
       "  <tbody>\n",
       "    <tr>\n",
       "      <th>cellular</th>\n",
       "      <td>72.78</td>\n",
       "    </tr>\n",
       "    <tr>\n",
       "      <th>unknown</th>\n",
       "      <td>19.96</td>\n",
       "    </tr>\n",
       "    <tr>\n",
       "      <th>telephone</th>\n",
       "      <td>7.26</td>\n",
       "    </tr>\n",
       "  </tbody>\n",
       "</table>\n",
       "</div>"
      ],
      "text/plain": [
       "col_0      Telemarketing Method\n",
       "contact                        \n",
       "cellular                  72.78\n",
       "unknown                   19.96\n",
       "telephone                  7.26"
      ]
     },
     "execution_count": 36,
     "metadata": {},
     "output_type": "execute_result"
    }
   ],
   "source": [
    "## Kita ingin melihat persentase dari tiap-tiap metode telemarketing\n",
    "(pd.crosstab(index=df['contact'], columns='Telemarketing Method', normalize=True)*100).round(2).sort_values('Telemarketing Method', ascending=False)"
   ]
  },
  {
   "cell_type": "code",
   "execution_count": 37,
   "id": "fd4530da",
   "metadata": {},
   "outputs": [],
   "source": [
    "## Karena metode telemarketing tidak terlalu bervariasi, maka tidak perlu direcategorize"
   ]
  },
  {
   "cell_type": "code",
   "execution_count": 38,
   "id": "65904423",
   "metadata": {},
   "outputs": [
    {
     "data": {
      "text/html": [
       "<div>\n",
       "<style scoped>\n",
       "    .dataframe tbody tr th:only-of-type {\n",
       "        vertical-align: middle;\n",
       "    }\n",
       "\n",
       "    .dataframe tbody tr th {\n",
       "        vertical-align: top;\n",
       "    }\n",
       "\n",
       "    .dataframe thead th {\n",
       "        text-align: right;\n",
       "    }\n",
       "</style>\n",
       "<table border=\"1\" class=\"dataframe\">\n",
       "  <thead>\n",
       "    <tr style=\"text-align: right;\">\n",
       "      <th></th>\n",
       "      <th>age</th>\n",
       "      <th>job</th>\n",
       "      <th>balance</th>\n",
       "      <th>housing</th>\n",
       "      <th>loan</th>\n",
       "      <th>contact</th>\n",
       "      <th>month</th>\n",
       "      <th>campaign</th>\n",
       "      <th>pdays</th>\n",
       "      <th>poutcome</th>\n",
       "      <th>deposit</th>\n",
       "    </tr>\n",
       "  </thead>\n",
       "  <tbody>\n",
       "    <tr>\n",
       "      <th>0</th>\n",
       "      <td>3</td>\n",
       "      <td>others</td>\n",
       "      <td>2</td>\n",
       "      <td>0</td>\n",
       "      <td>0</td>\n",
       "      <td>cellular</td>\n",
       "      <td>jun</td>\n",
       "      <td>2</td>\n",
       "      <td>-1</td>\n",
       "      <td>unknown</td>\n",
       "      <td>yes</td>\n",
       "    </tr>\n",
       "    <tr>\n",
       "      <th>2</th>\n",
       "      <td>3</td>\n",
       "      <td>others</td>\n",
       "      <td>3</td>\n",
       "      <td>0</td>\n",
       "      <td>0</td>\n",
       "      <td>cellular</td>\n",
       "      <td>may</td>\n",
       "      <td>1</td>\n",
       "      <td>352</td>\n",
       "      <td>other</td>\n",
       "      <td>yes</td>\n",
       "    </tr>\n",
       "    <tr>\n",
       "      <th>4</th>\n",
       "      <td>1</td>\n",
       "      <td>others</td>\n",
       "      <td>0</td>\n",
       "      <td>1</td>\n",
       "      <td>0</td>\n",
       "      <td>telephone</td>\n",
       "      <td>nov</td>\n",
       "      <td>4</td>\n",
       "      <td>-1</td>\n",
       "      <td>unknown</td>\n",
       "      <td>no</td>\n",
       "    </tr>\n",
       "    <tr>\n",
       "      <th>6</th>\n",
       "      <td>1</td>\n",
       "      <td>others</td>\n",
       "      <td>3</td>\n",
       "      <td>0</td>\n",
       "      <td>0</td>\n",
       "      <td>cellular</td>\n",
       "      <td>jan</td>\n",
       "      <td>2</td>\n",
       "      <td>-1</td>\n",
       "      <td>unknown</td>\n",
       "      <td>yes</td>\n",
       "    </tr>\n",
       "    <tr>\n",
       "      <th>7</th>\n",
       "      <td>1</td>\n",
       "      <td>technician</td>\n",
       "      <td>2</td>\n",
       "      <td>1</td>\n",
       "      <td>1</td>\n",
       "      <td>cellular</td>\n",
       "      <td>may</td>\n",
       "      <td>2</td>\n",
       "      <td>21</td>\n",
       "      <td>failure</td>\n",
       "      <td>yes</td>\n",
       "    </tr>\n",
       "  </tbody>\n",
       "</table>\n",
       "</div>"
      ],
      "text/plain": [
       "   age         job  balance  housing  loan    contact month  campaign  pdays  \\\n",
       "0    3      others        2        0     0   cellular   jun         2     -1   \n",
       "2    3      others        3        0     0   cellular   may         1    352   \n",
       "4    1      others        0        1     0  telephone   nov         4     -1   \n",
       "6    1      others        3        0     0   cellular   jan         2     -1   \n",
       "7    1  technician        2        1     1   cellular   may         2     21   \n",
       "\n",
       "  poutcome deposit  \n",
       "0  unknown     yes  \n",
       "2    other     yes  \n",
       "4  unknown      no  \n",
       "6  unknown     yes  \n",
       "7  failure     yes  "
      ]
     },
     "execution_count": 38,
     "metadata": {},
     "output_type": "execute_result"
    }
   ],
   "source": [
    "df.head()"
   ]
  },
  {
   "cell_type": "markdown",
   "id": "33839717",
   "metadata": {},
   "source": [
    "`month`"
   ]
  },
  {
   "cell_type": "code",
   "execution_count": 39,
   "id": "98038b88",
   "metadata": {},
   "outputs": [
    {
     "data": {
      "text/plain": [
       "array(['jun', 'may', 'nov', 'jan', 'sep', 'feb', 'mar', 'aug', 'apr',\n",
       "       'jul', 'oct', 'dec'], dtype=object)"
      ]
     },
     "execution_count": 39,
     "metadata": {},
     "output_type": "execute_result"
    }
   ],
   "source": [
    "## Kita akan melihat bulan di mana bank melakukan telemarketing\n",
    "df['month'].unique()"
   ]
  },
  {
   "cell_type": "code",
   "execution_count": 40,
   "id": "697c2bba",
   "metadata": {},
   "outputs": [],
   "source": [
    "## Untuk memudahkan sistem, dibuat function untuk mengubah tiap-tiap bulan menjadi numerikal\n",
    "def month_cat(x):\n",
    "    if x == 'jan' :\n",
    "        return 1\n",
    "    elif x == 'feb' :\n",
    "        return 2\n",
    "    elif x == 'mar' :\n",
    "        return 3\n",
    "    elif x == 'apr' :\n",
    "        return 4\n",
    "    elif x == 'may' :\n",
    "        return 5\n",
    "    elif x == 'jun' :\n",
    "        return 6\n",
    "    elif x == 'jul' :\n",
    "        return 7\n",
    "    elif x == 'aug' :\n",
    "        return 8\n",
    "    elif x == 'sep' :\n",
    "        return 9\n",
    "    elif x == 'oct' :\n",
    "        return 10\n",
    "    elif x == 'nov' :\n",
    "        return 11\n",
    "    else:\n",
    "        return 12"
   ]
  },
  {
   "cell_type": "code",
   "execution_count": 41,
   "id": "69690bb8",
   "metadata": {},
   "outputs": [],
   "source": [
    "## Mengaplikasikan function month_cat ke dalam kolom 'month'\n",
    "df['month'] = df['month'].apply(month_cat)"
   ]
  },
  {
   "cell_type": "code",
   "execution_count": 42,
   "id": "36560756",
   "metadata": {},
   "outputs": [
    {
     "data": {
      "text/html": [
       "<div>\n",
       "<style scoped>\n",
       "    .dataframe tbody tr th:only-of-type {\n",
       "        vertical-align: middle;\n",
       "    }\n",
       "\n",
       "    .dataframe tbody tr th {\n",
       "        vertical-align: top;\n",
       "    }\n",
       "\n",
       "    .dataframe thead th {\n",
       "        text-align: right;\n",
       "    }\n",
       "</style>\n",
       "<table border=\"1\" class=\"dataframe\">\n",
       "  <thead>\n",
       "    <tr style=\"text-align: right;\">\n",
       "      <th></th>\n",
       "      <th>age</th>\n",
       "      <th>job</th>\n",
       "      <th>balance</th>\n",
       "      <th>housing</th>\n",
       "      <th>loan</th>\n",
       "      <th>contact</th>\n",
       "      <th>month</th>\n",
       "      <th>campaign</th>\n",
       "      <th>pdays</th>\n",
       "      <th>poutcome</th>\n",
       "      <th>deposit</th>\n",
       "    </tr>\n",
       "  </thead>\n",
       "  <tbody>\n",
       "    <tr>\n",
       "      <th>0</th>\n",
       "      <td>3</td>\n",
       "      <td>others</td>\n",
       "      <td>2</td>\n",
       "      <td>0</td>\n",
       "      <td>0</td>\n",
       "      <td>cellular</td>\n",
       "      <td>6</td>\n",
       "      <td>2</td>\n",
       "      <td>-1</td>\n",
       "      <td>unknown</td>\n",
       "      <td>yes</td>\n",
       "    </tr>\n",
       "    <tr>\n",
       "      <th>2</th>\n",
       "      <td>3</td>\n",
       "      <td>others</td>\n",
       "      <td>3</td>\n",
       "      <td>0</td>\n",
       "      <td>0</td>\n",
       "      <td>cellular</td>\n",
       "      <td>5</td>\n",
       "      <td>1</td>\n",
       "      <td>352</td>\n",
       "      <td>other</td>\n",
       "      <td>yes</td>\n",
       "    </tr>\n",
       "    <tr>\n",
       "      <th>4</th>\n",
       "      <td>1</td>\n",
       "      <td>others</td>\n",
       "      <td>0</td>\n",
       "      <td>1</td>\n",
       "      <td>0</td>\n",
       "      <td>telephone</td>\n",
       "      <td>11</td>\n",
       "      <td>4</td>\n",
       "      <td>-1</td>\n",
       "      <td>unknown</td>\n",
       "      <td>no</td>\n",
       "    </tr>\n",
       "    <tr>\n",
       "      <th>6</th>\n",
       "      <td>1</td>\n",
       "      <td>others</td>\n",
       "      <td>3</td>\n",
       "      <td>0</td>\n",
       "      <td>0</td>\n",
       "      <td>cellular</td>\n",
       "      <td>1</td>\n",
       "      <td>2</td>\n",
       "      <td>-1</td>\n",
       "      <td>unknown</td>\n",
       "      <td>yes</td>\n",
       "    </tr>\n",
       "    <tr>\n",
       "      <th>7</th>\n",
       "      <td>1</td>\n",
       "      <td>technician</td>\n",
       "      <td>2</td>\n",
       "      <td>1</td>\n",
       "      <td>1</td>\n",
       "      <td>cellular</td>\n",
       "      <td>5</td>\n",
       "      <td>2</td>\n",
       "      <td>21</td>\n",
       "      <td>failure</td>\n",
       "      <td>yes</td>\n",
       "    </tr>\n",
       "  </tbody>\n",
       "</table>\n",
       "</div>"
      ],
      "text/plain": [
       "   age         job  balance  housing  loan    contact  month  campaign  pdays  \\\n",
       "0    3      others        2        0     0   cellular      6         2     -1   \n",
       "2    3      others        3        0     0   cellular      5         1    352   \n",
       "4    1      others        0        1     0  telephone     11         4     -1   \n",
       "6    1      others        3        0     0   cellular      1         2     -1   \n",
       "7    1  technician        2        1     1   cellular      5         2     21   \n",
       "\n",
       "  poutcome deposit  \n",
       "0  unknown     yes  \n",
       "2    other     yes  \n",
       "4  unknown      no  \n",
       "6  unknown     yes  \n",
       "7  failure     yes  "
      ]
     },
     "execution_count": 42,
     "metadata": {},
     "output_type": "execute_result"
    }
   ],
   "source": [
    "## Kita ingin memastikan bahwa proses re-categorize sudah benar\n",
    "df.head()"
   ]
  },
  {
   "cell_type": "markdown",
   "id": "e095c674",
   "metadata": {},
   "source": [
    "`campaign`"
   ]
  },
  {
   "cell_type": "code",
   "execution_count": 43,
   "id": "00309bf0",
   "metadata": {},
   "outputs": [
    {
     "data": {
      "text/plain": [
       "array([ 2,  1,  4,  5,  3,  6,  7, 30,  9,  8, 11, 14, 10, 28, 63, 12, 17,\n",
       "       18, 19, 13, 15, 21, 22, 33, 24, 16, 23, 25, 26, 29, 20, 43],\n",
       "      dtype=int64)"
      ]
     },
     "execution_count": 43,
     "metadata": {},
     "output_type": "execute_result"
    }
   ],
   "source": [
    "## Kolom ini menjelaskan mengenai jumlah telepon yang dilakukan selama campaign\n",
    "df['campaign'].unique()"
   ]
  },
  {
   "cell_type": "code",
   "execution_count": 44,
   "id": "aa955426",
   "metadata": {},
   "outputs": [],
   "source": [
    "## Tidak perlu dilakukan proses encoding karena kolom sudah dalam bentuk integer"
   ]
  },
  {
   "cell_type": "markdown",
   "id": "e8809fd9",
   "metadata": {},
   "source": [
    "`pdays`"
   ]
  },
  {
   "cell_type": "code",
   "execution_count": 45,
   "id": "61859588",
   "metadata": {},
   "outputs": [
    {
     "data": {
      "text/plain": [
       "array([ -1, 352,  21,  91, 186, 263,  96, 355, 294, 412,  89, 114, 276,\n",
       "        93, 175,  57, 323, 156,  86,  95, 271, 182, 289, 334, 269, 309,\n",
       "       144, 183, 417, 138, 254, 337, 389,  87, 170, 165, 372, 247,  98,\n",
       "       469, 272, 104, 587, 336, 145, 130, 202, 324, 147,  94, 328, 420,\n",
       "       179,  90,  81, 298, 356, 357, 267, 430,  52, 181, 365, 237, 330,\n",
       "       103, 374,  75, 133, 321, 204, 266, 197, 270, 318, 349, 187, 359,\n",
       "       490, 192, 227, 100, 168, 177, 251, 301, 350,  92, 184, 345, 199,\n",
       "       333, 169, 474,  13, 136, 305, 277, 466, 185, 504, 749,  84,  88,\n",
       "       344, 188, 300, 126, 264, 244, 449, 128, 152, 368, 113, 433,  43,\n",
       "       210, 105, 329, 189, 154, 148, 458,   5,   1, 348, 195, 340, 331,\n",
       "       339,  70,  24,   9, 106, 287,  80,  85, 190, 316, 285, 373, 119,\n",
       "       242, 320, 342, 205, 164, 139, 278, 250, 261, 118, 171, 115, 384,\n",
       "       174, 196, 149, 178, 293, 121, 280, 828,  97, 338, 134,  73, 259,\n",
       "       312, 308, 353, 160,  71, 166, 363, 362, 778,  99,  74, 291, 335,\n",
       "       367, 225, 297,  72, 120, 109, 281, 358, 224, 369, 129, 208, 194,\n",
       "       651, 116,  36, 167, 370, 180,  14, 274, 207,  66, 425, 521,   2,\n",
       "       376,  35, 203, 273, 347, 193, 346, 127, 325, 544, 239,  69,  28,\n",
       "       690, 162, 262, 140,  61,  58, 444, 213, 551, 275, 256, 124, 245,\n",
       "       378, 238, 176,  33, 206, 307,  64, 243,  55, 541, 311, 354, 137,\n",
       "       198, 101, 302, 303, 230,  44, 515, 503, 102, 200, 366, 260,  63,\n",
       "       491, 150, 364, 343, 440,  83, 173, 407, 391, 351,  29, 223, 392,\n",
       "       360,  60, 255, 394, 322, 427, 326, 442, 415, 257, 222, 253, 217,\n",
       "       212,  37, 388,  48, 232, 561, 283,   6, 771, 286, 450, 595, 216,\n",
       "       776, 390, 172, 385, 143, 371, 555, 209,  62, 265, 122, 375, 252,\n",
       "       135,  82, 131, 332, 288, 268, 107, 163, 110, 319, 228,  12, 317,\n",
       "        53,  79, 191, 520, 461, 479,  56,  10, 327,  34, 435, 246, 234,\n",
       "       141, 361,  76, 426, 201, 761, 258, 304,  59, 457, 421, 214, 405,\n",
       "       157, 439, 341, 594,  50, 315, 235, 314, 132, 161, 111, 221,  17,\n",
       "       399,  20,  78,  41, 772, 455, 437,   4, 123, 386, 241, 279,  38,\n",
       "       117,  68, 683, 381,  67, 306, 626, 446, 414, 299, 146, 532, 805,\n",
       "        31, 153,  40,  77, 769, 284, 462, 295, 854, 478, 310, 236, 397,\n",
       "         8, 728, 717, 535, 296, 422, 155], dtype=int64)"
      ]
     },
     "execution_count": 45,
     "metadata": {},
     "output_type": "execute_result"
    }
   ],
   "source": [
    "## Kolom ini menjelaskan mengenai jumlah telepon yang dilakukan selama campaign\n",
    "df['pdays'].unique()"
   ]
  },
  {
   "cell_type": "code",
   "execution_count": 46,
   "id": "ccf8628a",
   "metadata": {},
   "outputs": [],
   "source": [
    "## Terdapat data yang negatif, mustahil karena tidak ada hari yang negatif\n",
    "df=df[df['pdays'] > 0]"
   ]
  },
  {
   "cell_type": "code",
   "execution_count": 47,
   "id": "a8bbc8bf",
   "metadata": {},
   "outputs": [
    {
     "data": {
      "text/plain": [
       "array([352,  21,  91, 186, 263,  96, 355, 294, 412,  89, 114, 276,  93,\n",
       "       175,  57, 323, 156,  86,  95, 271, 182, 289, 334, 269, 309, 144,\n",
       "       183, 417, 138, 254, 337, 389,  87, 170, 165, 372, 247,  98, 469,\n",
       "       272, 104, 587, 336, 145, 130, 202, 324, 147,  94, 328, 420, 179,\n",
       "        90,  81, 298, 356, 357, 267, 430,  52, 181, 365, 237, 330, 103,\n",
       "       374,  75, 133, 321, 204, 266, 197, 270, 318, 349, 187, 359, 490,\n",
       "       192, 227, 100, 168, 177, 251, 301, 350,  92, 184, 345, 199, 333,\n",
       "       169, 474,  13, 136, 305, 277, 466, 185, 504, 749,  84,  88, 344,\n",
       "       188, 300, 126, 264, 244, 449, 128, 152, 368, 113, 433,  43, 210,\n",
       "       105, 329, 189, 154, 148, 458,   5,   1, 348, 195, 340, 331, 339,\n",
       "        70,  24,   9, 106, 287,  80,  85, 190, 316, 285, 373, 119, 242,\n",
       "       320, 342, 205, 164, 139, 278, 250, 261, 118, 171, 115, 384, 174,\n",
       "       196, 149, 178, 293, 121, 280, 828,  97, 338, 134,  73, 259, 312,\n",
       "       308, 353, 160,  71, 166, 363, 362, 778,  99,  74, 291, 335, 367,\n",
       "       225, 297,  72, 120, 109, 281, 358, 224, 369, 129, 208, 194, 651,\n",
       "       116,  36, 167, 370, 180,  14, 274, 207,  66, 425, 521,   2, 376,\n",
       "        35, 203, 273, 347, 193, 346, 127, 325, 544, 239,  69,  28, 690,\n",
       "       162, 262, 140,  61,  58, 444, 213, 551, 275, 256, 124, 245, 378,\n",
       "       238, 176,  33, 206, 307,  64, 243,  55, 541, 311, 354, 137, 198,\n",
       "       101, 302, 303, 230,  44, 515, 503, 102, 200, 366, 260,  63, 491,\n",
       "       150, 364, 343, 440,  83, 173, 407, 391, 351,  29, 223, 392, 360,\n",
       "        60, 255, 394, 322, 427, 326, 442, 415, 257, 222, 253, 217, 212,\n",
       "        37, 388,  48, 232, 561, 283,   6, 771, 286, 450, 595, 216, 776,\n",
       "       390, 172, 385, 143, 371, 555, 209,  62, 265, 122, 375, 252, 135,\n",
       "        82, 131, 332, 288, 268, 107, 163, 110, 319, 228,  12, 317,  53,\n",
       "        79, 191, 520, 461, 479,  56,  10, 327,  34, 435, 246, 234, 141,\n",
       "       361,  76, 426, 201, 761, 258, 304,  59, 457, 421, 214, 405, 157,\n",
       "       439, 341, 594,  50, 315, 235, 314, 132, 161, 111, 221,  17, 399,\n",
       "        20,  78,  41, 772, 455, 437,   4, 123, 386, 241, 279,  38, 117,\n",
       "        68, 683, 381,  67, 306, 626, 446, 414, 299, 146, 532, 805,  31,\n",
       "       153,  40,  77, 769, 284, 462, 295, 854, 478, 310, 236, 397,   8,\n",
       "       728, 717, 535, 296, 422, 155], dtype=int64)"
      ]
     },
     "execution_count": 47,
     "metadata": {},
     "output_type": "execute_result"
    }
   ],
   "source": [
    "## Kita memastikan proses drop hari yang negatif sudah berhasil\n",
    "df['pdays'].unique()"
   ]
  },
  {
   "cell_type": "code",
   "execution_count": 48,
   "id": "d2cdfdf2",
   "metadata": {},
   "outputs": [],
   "source": [
    "## Kita tidak yakin bahwa penyebab outliers ini diakibatkan dari adanya error\n",
    "## Sehingga disarankan outliers tidak didrop"
   ]
  },
  {
   "cell_type": "markdown",
   "id": "3a0d850e",
   "metadata": {},
   "source": [
    "`poutcome`"
   ]
  },
  {
   "cell_type": "code",
   "execution_count": 49,
   "id": "21364f7e",
   "metadata": {},
   "outputs": [
    {
     "data": {
      "text/plain": [
       "array(['other', 'failure', 'success', 'unknown'], dtype=object)"
      ]
     },
     "execution_count": 49,
     "metadata": {},
     "output_type": "execute_result"
    }
   ],
   "source": [
    "## Kita akan melihat hasil dari campaign sebelumnya\n",
    "df['poutcome'].unique()"
   ]
  },
  {
   "cell_type": "code",
   "execution_count": 50,
   "id": "8cbb6093",
   "metadata": {},
   "outputs": [
    {
     "data": {
      "text/html": [
       "<div>\n",
       "<style scoped>\n",
       "    .dataframe tbody tr th:only-of-type {\n",
       "        vertical-align: middle;\n",
       "    }\n",
       "\n",
       "    .dataframe tbody tr th {\n",
       "        vertical-align: top;\n",
       "    }\n",
       "\n",
       "    .dataframe thead th {\n",
       "        text-align: right;\n",
       "    }\n",
       "</style>\n",
       "<table border=\"1\" class=\"dataframe\">\n",
       "  <thead>\n",
       "    <tr style=\"text-align: right;\">\n",
       "      <th>col_0</th>\n",
       "      <th>Customer Outcome</th>\n",
       "    </tr>\n",
       "    <tr>\n",
       "      <th>poutcome</th>\n",
       "      <th></th>\n",
       "    </tr>\n",
       "  </thead>\n",
       "  <tbody>\n",
       "    <tr>\n",
       "      <th>failure</th>\n",
       "      <td>41.23</td>\n",
       "    </tr>\n",
       "    <tr>\n",
       "      <th>success</th>\n",
       "      <td>39.64</td>\n",
       "    </tr>\n",
       "    <tr>\n",
       "      <th>other</th>\n",
       "      <td>19.02</td>\n",
       "    </tr>\n",
       "    <tr>\n",
       "      <th>unknown</th>\n",
       "      <td>0.11</td>\n",
       "    </tr>\n",
       "  </tbody>\n",
       "</table>\n",
       "</div>"
      ],
      "text/plain": [
       "col_0     Customer Outcome\n",
       "poutcome                  \n",
       "failure              41.23\n",
       "success              39.64\n",
       "other                19.02\n",
       "unknown               0.11"
      ]
     },
     "execution_count": 50,
     "metadata": {},
     "output_type": "execute_result"
    }
   ],
   "source": [
    "## Kita melihat persentase berhasil dan gagal dari campaign sebelumnya\n",
    "(pd.crosstab(index=df['poutcome'], columns='Customer Outcome', normalize=True)*100).round(2).sort_values('Customer Outcome', ascending=False)"
   ]
  },
  {
   "cell_type": "code",
   "execution_count": 51,
   "id": "76799bbf",
   "metadata": {},
   "outputs": [],
   "source": [
    "## Karena terdapat kategori unknown, function ini membuat agar kategori unknown masuk ke dalam kategori others\n",
    "def poutcome_cat(x):\n",
    "    if x == 'failure' :\n",
    "        return x\n",
    "    elif x == 'success' :\n",
    "        return x\n",
    "    else:\n",
    "        return 'others'"
   ]
  },
  {
   "cell_type": "code",
   "execution_count": 52,
   "id": "6e9b608f",
   "metadata": {},
   "outputs": [],
   "source": [
    "## Mengaplikasikan function poutcome_cat ke dalam kolom 'poutcome'\n",
    "df['poutcome'] = df['poutcome'].apply(poutcome_cat)"
   ]
  },
  {
   "cell_type": "code",
   "execution_count": 53,
   "id": "f4c9eb7b",
   "metadata": {},
   "outputs": [
    {
     "data": {
      "text/html": [
       "<div>\n",
       "<style scoped>\n",
       "    .dataframe tbody tr th:only-of-type {\n",
       "        vertical-align: middle;\n",
       "    }\n",
       "\n",
       "    .dataframe tbody tr th {\n",
       "        vertical-align: top;\n",
       "    }\n",
       "\n",
       "    .dataframe thead th {\n",
       "        text-align: right;\n",
       "    }\n",
       "</style>\n",
       "<table border=\"1\" class=\"dataframe\">\n",
       "  <thead>\n",
       "    <tr style=\"text-align: right;\">\n",
       "      <th></th>\n",
       "      <th>age</th>\n",
       "      <th>job</th>\n",
       "      <th>balance</th>\n",
       "      <th>housing</th>\n",
       "      <th>loan</th>\n",
       "      <th>contact</th>\n",
       "      <th>month</th>\n",
       "      <th>campaign</th>\n",
       "      <th>pdays</th>\n",
       "      <th>poutcome</th>\n",
       "      <th>deposit</th>\n",
       "    </tr>\n",
       "  </thead>\n",
       "  <tbody>\n",
       "    <tr>\n",
       "      <th>2</th>\n",
       "      <td>3</td>\n",
       "      <td>others</td>\n",
       "      <td>3</td>\n",
       "      <td>0</td>\n",
       "      <td>0</td>\n",
       "      <td>cellular</td>\n",
       "      <td>5</td>\n",
       "      <td>1</td>\n",
       "      <td>352</td>\n",
       "      <td>others</td>\n",
       "      <td>yes</td>\n",
       "    </tr>\n",
       "    <tr>\n",
       "      <th>7</th>\n",
       "      <td>1</td>\n",
       "      <td>technician</td>\n",
       "      <td>2</td>\n",
       "      <td>1</td>\n",
       "      <td>1</td>\n",
       "      <td>cellular</td>\n",
       "      <td>5</td>\n",
       "      <td>2</td>\n",
       "      <td>21</td>\n",
       "      <td>failure</td>\n",
       "      <td>yes</td>\n",
       "    </tr>\n",
       "    <tr>\n",
       "      <th>10</th>\n",
       "      <td>0</td>\n",
       "      <td>others</td>\n",
       "      <td>2</td>\n",
       "      <td>0</td>\n",
       "      <td>0</td>\n",
       "      <td>cellular</td>\n",
       "      <td>2</td>\n",
       "      <td>1</td>\n",
       "      <td>91</td>\n",
       "      <td>success</td>\n",
       "      <td>yes</td>\n",
       "    </tr>\n",
       "    <tr>\n",
       "      <th>15</th>\n",
       "      <td>1</td>\n",
       "      <td>technician</td>\n",
       "      <td>0</td>\n",
       "      <td>0</td>\n",
       "      <td>0</td>\n",
       "      <td>cellular</td>\n",
       "      <td>11</td>\n",
       "      <td>2</td>\n",
       "      <td>186</td>\n",
       "      <td>success</td>\n",
       "      <td>yes</td>\n",
       "    </tr>\n",
       "    <tr>\n",
       "      <th>18</th>\n",
       "      <td>0</td>\n",
       "      <td>technician</td>\n",
       "      <td>2</td>\n",
       "      <td>1</td>\n",
       "      <td>0</td>\n",
       "      <td>cellular</td>\n",
       "      <td>2</td>\n",
       "      <td>1</td>\n",
       "      <td>263</td>\n",
       "      <td>success</td>\n",
       "      <td>no</td>\n",
       "    </tr>\n",
       "  </tbody>\n",
       "</table>\n",
       "</div>"
      ],
      "text/plain": [
       "    age         job  balance  housing  loan   contact  month  campaign  pdays  \\\n",
       "2     3      others        3        0     0  cellular      5         1    352   \n",
       "7     1  technician        2        1     1  cellular      5         2     21   \n",
       "10    0      others        2        0     0  cellular      2         1     91   \n",
       "15    1  technician        0        0     0  cellular     11         2    186   \n",
       "18    0  technician        2        1     0  cellular      2         1    263   \n",
       "\n",
       "   poutcome deposit  \n",
       "2    others     yes  \n",
       "7   failure     yes  \n",
       "10  success     yes  \n",
       "15  success     yes  \n",
       "18  success      no  "
      ]
     },
     "execution_count": 53,
     "metadata": {},
     "output_type": "execute_result"
    }
   ],
   "source": [
    "## Kita memastikan apakah proses re-categorize sudah benar\n",
    "df.head()"
   ]
  },
  {
   "cell_type": "markdown",
   "id": "de8860a9",
   "metadata": {},
   "source": [
    "### Target Column"
   ]
  },
  {
   "cell_type": "markdown",
   "id": "28355bde",
   "metadata": {},
   "source": [
    "`deposit`"
   ]
  },
  {
   "cell_type": "code",
   "execution_count": 54,
   "id": "9d2f0073",
   "metadata": {},
   "outputs": [
    {
     "data": {
      "text/plain": [
       "array(['yes', 'no'], dtype=object)"
      ]
     },
     "execution_count": 54,
     "metadata": {},
     "output_type": "execute_result"
    }
   ],
   "source": [
    "## Kita akan melihat kolom deposit, yang kita jadikan target dalam pembuatan model Machine Learning\n",
    "df['deposit'].unique()"
   ]
  },
  {
   "cell_type": "code",
   "execution_count": 55,
   "id": "28fd13d3",
   "metadata": {},
   "outputs": [],
   "source": [
    "## Untuk memudahkan sistem, dibuat function untuk mengubah kolom deposit dari kategorikal menjadi numerikal\n",
    "def deposit_cat(x):\n",
    "    if x == 'yes' :\n",
    "        return 1\n",
    "    else:\n",
    "        return 0"
   ]
  },
  {
   "cell_type": "code",
   "execution_count": 56,
   "id": "ddf79f37",
   "metadata": {},
   "outputs": [],
   "source": [
    "## Mengaplikasikan function deposit_cat ke dalam kolom 'deposit'\n",
    "df['deposit'] = df['deposit'].apply(deposit_cat)"
   ]
  },
  {
   "cell_type": "code",
   "execution_count": 57,
   "id": "bd78258d",
   "metadata": {},
   "outputs": [
    {
     "data": {
      "text/html": [
       "<div>\n",
       "<style scoped>\n",
       "    .dataframe tbody tr th:only-of-type {\n",
       "        vertical-align: middle;\n",
       "    }\n",
       "\n",
       "    .dataframe tbody tr th {\n",
       "        vertical-align: top;\n",
       "    }\n",
       "\n",
       "    .dataframe thead th {\n",
       "        text-align: right;\n",
       "    }\n",
       "</style>\n",
       "<table border=\"1\" class=\"dataframe\">\n",
       "  <thead>\n",
       "    <tr style=\"text-align: right;\">\n",
       "      <th></th>\n",
       "      <th>age</th>\n",
       "      <th>job</th>\n",
       "      <th>balance</th>\n",
       "      <th>housing</th>\n",
       "      <th>loan</th>\n",
       "      <th>contact</th>\n",
       "      <th>month</th>\n",
       "      <th>campaign</th>\n",
       "      <th>pdays</th>\n",
       "      <th>poutcome</th>\n",
       "      <th>deposit</th>\n",
       "    </tr>\n",
       "  </thead>\n",
       "  <tbody>\n",
       "    <tr>\n",
       "      <th>2</th>\n",
       "      <td>3</td>\n",
       "      <td>others</td>\n",
       "      <td>3</td>\n",
       "      <td>0</td>\n",
       "      <td>0</td>\n",
       "      <td>cellular</td>\n",
       "      <td>5</td>\n",
       "      <td>1</td>\n",
       "      <td>352</td>\n",
       "      <td>others</td>\n",
       "      <td>1</td>\n",
       "    </tr>\n",
       "    <tr>\n",
       "      <th>7</th>\n",
       "      <td>1</td>\n",
       "      <td>technician</td>\n",
       "      <td>2</td>\n",
       "      <td>1</td>\n",
       "      <td>1</td>\n",
       "      <td>cellular</td>\n",
       "      <td>5</td>\n",
       "      <td>2</td>\n",
       "      <td>21</td>\n",
       "      <td>failure</td>\n",
       "      <td>1</td>\n",
       "    </tr>\n",
       "    <tr>\n",
       "      <th>10</th>\n",
       "      <td>0</td>\n",
       "      <td>others</td>\n",
       "      <td>2</td>\n",
       "      <td>0</td>\n",
       "      <td>0</td>\n",
       "      <td>cellular</td>\n",
       "      <td>2</td>\n",
       "      <td>1</td>\n",
       "      <td>91</td>\n",
       "      <td>success</td>\n",
       "      <td>1</td>\n",
       "    </tr>\n",
       "    <tr>\n",
       "      <th>15</th>\n",
       "      <td>1</td>\n",
       "      <td>technician</td>\n",
       "      <td>0</td>\n",
       "      <td>0</td>\n",
       "      <td>0</td>\n",
       "      <td>cellular</td>\n",
       "      <td>11</td>\n",
       "      <td>2</td>\n",
       "      <td>186</td>\n",
       "      <td>success</td>\n",
       "      <td>1</td>\n",
       "    </tr>\n",
       "    <tr>\n",
       "      <th>18</th>\n",
       "      <td>0</td>\n",
       "      <td>technician</td>\n",
       "      <td>2</td>\n",
       "      <td>1</td>\n",
       "      <td>0</td>\n",
       "      <td>cellular</td>\n",
       "      <td>2</td>\n",
       "      <td>1</td>\n",
       "      <td>263</td>\n",
       "      <td>success</td>\n",
       "      <td>0</td>\n",
       "    </tr>\n",
       "  </tbody>\n",
       "</table>\n",
       "</div>"
      ],
      "text/plain": [
       "    age         job  balance  housing  loan   contact  month  campaign  pdays  \\\n",
       "2     3      others        3        0     0  cellular      5         1    352   \n",
       "7     1  technician        2        1     1  cellular      5         2     21   \n",
       "10    0      others        2        0     0  cellular      2         1     91   \n",
       "15    1  technician        0        0     0  cellular     11         2    186   \n",
       "18    0  technician        2        1     0  cellular      2         1    263   \n",
       "\n",
       "   poutcome  deposit  \n",
       "2    others        1  \n",
       "7   failure        1  \n",
       "10  success        1  \n",
       "15  success        1  \n",
       "18  success        0  "
      ]
     },
     "execution_count": 57,
     "metadata": {},
     "output_type": "execute_result"
    }
   ],
   "source": [
    "## Kita memastikan apakah proses re-categorize sudah benar\n",
    "df.head()"
   ]
  },
  {
   "cell_type": "markdown",
   "id": "5c0c4102",
   "metadata": {},
   "source": [
    "## Feature Selection"
   ]
  },
  {
   "cell_type": "markdown",
   "id": "c8bcde75",
   "metadata": {},
   "source": [
    "### Quick EDA with Domain Knowledge"
   ]
  },
  {
   "cell_type": "code",
   "execution_count": 58,
   "id": "422f8d44",
   "metadata": {},
   "outputs": [],
   "source": [
    "## Pengaruh Umur terhadap Keputusan untuk Deposito"
   ]
  },
  {
   "cell_type": "code",
   "execution_count": 59,
   "id": "100b9ee3",
   "metadata": {},
   "outputs": [
    {
     "data": {
      "text/html": [
       "<div>\n",
       "<style scoped>\n",
       "    .dataframe tbody tr th:only-of-type {\n",
       "        vertical-align: middle;\n",
       "    }\n",
       "\n",
       "    .dataframe tbody tr th {\n",
       "        vertical-align: top;\n",
       "    }\n",
       "\n",
       "    .dataframe thead th {\n",
       "        text-align: right;\n",
       "    }\n",
       "</style>\n",
       "<table border=\"1\" class=\"dataframe\">\n",
       "  <thead>\n",
       "    <tr style=\"text-align: right;\">\n",
       "      <th>deposit</th>\n",
       "      <th>0</th>\n",
       "      <th>1</th>\n",
       "    </tr>\n",
       "    <tr>\n",
       "      <th>age</th>\n",
       "      <th></th>\n",
       "      <th></th>\n",
       "    </tr>\n",
       "  </thead>\n",
       "  <tbody>\n",
       "    <tr>\n",
       "      <th>0</th>\n",
       "      <td>145</td>\n",
       "      <td>341</td>\n",
       "    </tr>\n",
       "    <tr>\n",
       "      <th>1</th>\n",
       "      <td>191</td>\n",
       "      <td>327</td>\n",
       "    </tr>\n",
       "    <tr>\n",
       "      <th>2</th>\n",
       "      <td>124</td>\n",
       "      <td>228</td>\n",
       "    </tr>\n",
       "    <tr>\n",
       "      <th>3</th>\n",
       "      <td>101</td>\n",
       "      <td>362</td>\n",
       "    </tr>\n",
       "  </tbody>\n",
       "</table>\n",
       "</div>"
      ],
      "text/plain": [
       "deposit    0    1\n",
       "age              \n",
       "0        145  341\n",
       "1        191  327\n",
       "2        124  228\n",
       "3        101  362"
      ]
     },
     "execution_count": 59,
     "metadata": {},
     "output_type": "execute_result"
    }
   ],
   "source": [
    "pd.crosstab(index=df['age'], columns=df['deposit'])"
   ]
  },
  {
   "cell_type": "markdown",
   "id": "f6da01f8",
   "metadata": {},
   "source": [
    "- Kelompok usia adolescence memiliki kecenderungan untuk deposito paling tinggi\n",
    "- Hal ini menunjukkan bahwa umur dari nasabah mempengaruhi keputusan untuk melakukan deposito"
   ]
  },
  {
   "cell_type": "code",
   "execution_count": 60,
   "id": "33c6a8f1",
   "metadata": {},
   "outputs": [],
   "source": [
    "## Pengaruh Pekerjaan terhadap Keputusan untuk Deposito"
   ]
  },
  {
   "cell_type": "code",
   "execution_count": 61,
   "id": "22b51bbc",
   "metadata": {},
   "outputs": [
    {
     "data": {
      "text/html": [
       "<div>\n",
       "<style scoped>\n",
       "    .dataframe tbody tr th:only-of-type {\n",
       "        vertical-align: middle;\n",
       "    }\n",
       "\n",
       "    .dataframe tbody tr th {\n",
       "        vertical-align: top;\n",
       "    }\n",
       "\n",
       "    .dataframe thead th {\n",
       "        text-align: right;\n",
       "    }\n",
       "</style>\n",
       "<table border=\"1\" class=\"dataframe\">\n",
       "  <thead>\n",
       "    <tr style=\"text-align: right;\">\n",
       "      <th>deposit</th>\n",
       "      <th>0</th>\n",
       "      <th>1</th>\n",
       "    </tr>\n",
       "    <tr>\n",
       "      <th>job</th>\n",
       "      <th></th>\n",
       "      <th></th>\n",
       "    </tr>\n",
       "  </thead>\n",
       "  <tbody>\n",
       "    <tr>\n",
       "      <th>blue-collar</th>\n",
       "      <td>112</td>\n",
       "      <td>114</td>\n",
       "    </tr>\n",
       "    <tr>\n",
       "      <th>management</th>\n",
       "      <td>120</td>\n",
       "      <td>358</td>\n",
       "    </tr>\n",
       "    <tr>\n",
       "      <th>others</th>\n",
       "      <td>233</td>\n",
       "      <td>602</td>\n",
       "    </tr>\n",
       "    <tr>\n",
       "      <th>technician</th>\n",
       "      <td>96</td>\n",
       "      <td>184</td>\n",
       "    </tr>\n",
       "  </tbody>\n",
       "</table>\n",
       "</div>"
      ],
      "text/plain": [
       "deposit        0    1\n",
       "job                  \n",
       "blue-collar  112  114\n",
       "management   120  358\n",
       "others       233  602\n",
       "technician    96  184"
      ]
     },
     "execution_count": 61,
     "metadata": {},
     "output_type": "execute_result"
    }
   ],
   "source": [
    "pd.crosstab(index=df['job'], columns=df['deposit'])"
   ]
  },
  {
   "cell_type": "markdown",
   "id": "701f968d",
   "metadata": {},
   "source": [
    "- Nasabah yang berprofesi selain blue-collar, management, dan technician memiliki kecenderungan yang paling besar untuk menabung deposito\n",
    "- Hal ini menunjukkan bahwa pekerjaan mempengaruhi keputusan untuk deposito"
   ]
  },
  {
   "cell_type": "code",
   "execution_count": 62,
   "id": "df55fcfa",
   "metadata": {},
   "outputs": [],
   "source": [
    "## Pengaruh balance terhadap keputusan untuk deposito"
   ]
  },
  {
   "cell_type": "code",
   "execution_count": 63,
   "id": "3f5f514c",
   "metadata": {},
   "outputs": [
    {
     "data": {
      "text/html": [
       "<div>\n",
       "<style scoped>\n",
       "    .dataframe tbody tr th:only-of-type {\n",
       "        vertical-align: middle;\n",
       "    }\n",
       "\n",
       "    .dataframe tbody tr th {\n",
       "        vertical-align: top;\n",
       "    }\n",
       "\n",
       "    .dataframe thead th {\n",
       "        text-align: right;\n",
       "    }\n",
       "</style>\n",
       "<table border=\"1\" class=\"dataframe\">\n",
       "  <thead>\n",
       "    <tr style=\"text-align: right;\">\n",
       "      <th>deposit</th>\n",
       "      <th>0</th>\n",
       "      <th>1</th>\n",
       "    </tr>\n",
       "    <tr>\n",
       "      <th>balance</th>\n",
       "      <th></th>\n",
       "      <th></th>\n",
       "    </tr>\n",
       "  </thead>\n",
       "  <tbody>\n",
       "    <tr>\n",
       "      <th>0</th>\n",
       "      <td>138</td>\n",
       "      <td>229</td>\n",
       "    </tr>\n",
       "    <tr>\n",
       "      <th>1</th>\n",
       "      <td>146</td>\n",
       "      <td>303</td>\n",
       "    </tr>\n",
       "    <tr>\n",
       "      <th>2</th>\n",
       "      <td>157</td>\n",
       "      <td>332</td>\n",
       "    </tr>\n",
       "    <tr>\n",
       "      <th>3</th>\n",
       "      <td>120</td>\n",
       "      <td>394</td>\n",
       "    </tr>\n",
       "  </tbody>\n",
       "</table>\n",
       "</div>"
      ],
      "text/plain": [
       "deposit    0    1\n",
       "balance          \n",
       "0        138  229\n",
       "1        146  303\n",
       "2        157  332\n",
       "3        120  394"
      ]
     },
     "execution_count": 63,
     "metadata": {},
     "output_type": "execute_result"
    }
   ],
   "source": [
    "pd.crosstab(index=df['balance'], columns=df['deposit'])"
   ]
  },
  {
   "cell_type": "markdown",
   "id": "c71a9cbe",
   "metadata": {},
   "source": [
    "- Kelompok platinum memiliki kecenderungan paling tinggi untuk deposito\n",
    "- Hal ini menunjukkan bahwa balance dari nasabah mempengaruhi keputusan untuk deposito"
   ]
  },
  {
   "cell_type": "code",
   "execution_count": 64,
   "id": "607cf799",
   "metadata": {},
   "outputs": [],
   "source": [
    "## Pengaruh housing terhadap keputusan untuk deposito"
   ]
  },
  {
   "cell_type": "code",
   "execution_count": 65,
   "id": "e2d79e19",
   "metadata": {},
   "outputs": [
    {
     "data": {
      "text/html": [
       "<div>\n",
       "<style scoped>\n",
       "    .dataframe tbody tr th:only-of-type {\n",
       "        vertical-align: middle;\n",
       "    }\n",
       "\n",
       "    .dataframe tbody tr th {\n",
       "        vertical-align: top;\n",
       "    }\n",
       "\n",
       "    .dataframe thead th {\n",
       "        text-align: right;\n",
       "    }\n",
       "</style>\n",
       "<table border=\"1\" class=\"dataframe\">\n",
       "  <thead>\n",
       "    <tr style=\"text-align: right;\">\n",
       "      <th>deposit</th>\n",
       "      <th>0</th>\n",
       "      <th>1</th>\n",
       "    </tr>\n",
       "    <tr>\n",
       "      <th>housing</th>\n",
       "      <th></th>\n",
       "      <th></th>\n",
       "    </tr>\n",
       "  </thead>\n",
       "  <tbody>\n",
       "    <tr>\n",
       "      <th>0</th>\n",
       "      <td>184</td>\n",
       "      <td>865</td>\n",
       "    </tr>\n",
       "    <tr>\n",
       "      <th>1</th>\n",
       "      <td>377</td>\n",
       "      <td>393</td>\n",
       "    </tr>\n",
       "  </tbody>\n",
       "</table>\n",
       "</div>"
      ],
      "text/plain": [
       "deposit    0    1\n",
       "housing          \n",
       "0        184  865\n",
       "1        377  393"
      ]
     },
     "execution_count": 65,
     "metadata": {},
     "output_type": "execute_result"
    }
   ],
   "source": [
    "pd.crosstab(index=df['housing'], columns=df['deposit'])"
   ]
  },
  {
   "cell_type": "markdown",
   "id": "eedd0cd3",
   "metadata": {},
   "source": [
    "- Nasabah yang yang tidak memiliki pinjaman KPR memiliki kecenderungan paling tinggi untuk deposit\n",
    "- Hal ini menunjukkan status pinjaman KPR nasabah mempengaruhi keputusan untuk deposito"
   ]
  },
  {
   "cell_type": "code",
   "execution_count": 66,
   "id": "7de0c2a1",
   "metadata": {},
   "outputs": [],
   "source": [
    "## Pengaruh loan terhadap keputusan untuk deposito"
   ]
  },
  {
   "cell_type": "code",
   "execution_count": 67,
   "id": "c55a92cd",
   "metadata": {},
   "outputs": [
    {
     "data": {
      "text/html": [
       "<div>\n",
       "<style scoped>\n",
       "    .dataframe tbody tr th:only-of-type {\n",
       "        vertical-align: middle;\n",
       "    }\n",
       "\n",
       "    .dataframe tbody tr th {\n",
       "        vertical-align: top;\n",
       "    }\n",
       "\n",
       "    .dataframe thead th {\n",
       "        text-align: right;\n",
       "    }\n",
       "</style>\n",
       "<table border=\"1\" class=\"dataframe\">\n",
       "  <thead>\n",
       "    <tr style=\"text-align: right;\">\n",
       "      <th>deposit</th>\n",
       "      <th>0</th>\n",
       "      <th>1</th>\n",
       "    </tr>\n",
       "    <tr>\n",
       "      <th>loan</th>\n",
       "      <th></th>\n",
       "      <th></th>\n",
       "    </tr>\n",
       "  </thead>\n",
       "  <tbody>\n",
       "    <tr>\n",
       "      <th>0</th>\n",
       "      <td>467</td>\n",
       "      <td>1188</td>\n",
       "    </tr>\n",
       "    <tr>\n",
       "      <th>1</th>\n",
       "      <td>94</td>\n",
       "      <td>70</td>\n",
       "    </tr>\n",
       "  </tbody>\n",
       "</table>\n",
       "</div>"
      ],
      "text/plain": [
       "deposit    0     1\n",
       "loan              \n",
       "0        467  1188\n",
       "1         94    70"
      ]
     },
     "execution_count": 67,
     "metadata": {},
     "output_type": "execute_result"
    }
   ],
   "source": [
    "pd.crosstab(index=df['loan'], columns=df['deposit'])"
   ]
  },
  {
   "cell_type": "markdown",
   "id": "e3c9e7ca",
   "metadata": {},
   "source": [
    "- Nasabah yang tidak memiliki pinjaman memiliki kecenderungan paling tinggi untuk deposito\n",
    "- Hal ini menunjukkan status pinjaman nasabah mempengaruhi keputusan nasabah untuk deposito"
   ]
  },
  {
   "cell_type": "code",
   "execution_count": 68,
   "id": "3e9efd12",
   "metadata": {},
   "outputs": [],
   "source": [
    "## Pengaruh contact terhadap keputusan untuk deposito"
   ]
  },
  {
   "cell_type": "code",
   "execution_count": 69,
   "id": "75c6a062",
   "metadata": {},
   "outputs": [
    {
     "data": {
      "text/html": [
       "<div>\n",
       "<style scoped>\n",
       "    .dataframe tbody tr th:only-of-type {\n",
       "        vertical-align: middle;\n",
       "    }\n",
       "\n",
       "    .dataframe tbody tr th {\n",
       "        vertical-align: top;\n",
       "    }\n",
       "\n",
       "    .dataframe thead th {\n",
       "        text-align: right;\n",
       "    }\n",
       "</style>\n",
       "<table border=\"1\" class=\"dataframe\">\n",
       "  <thead>\n",
       "    <tr style=\"text-align: right;\">\n",
       "      <th>deposit</th>\n",
       "      <th>0</th>\n",
       "      <th>1</th>\n",
       "    </tr>\n",
       "    <tr>\n",
       "      <th>contact</th>\n",
       "      <th></th>\n",
       "      <th></th>\n",
       "    </tr>\n",
       "  </thead>\n",
       "  <tbody>\n",
       "    <tr>\n",
       "      <th>cellular</th>\n",
       "      <td>518</td>\n",
       "      <td>1158</td>\n",
       "    </tr>\n",
       "    <tr>\n",
       "      <th>telephone</th>\n",
       "      <td>38</td>\n",
       "      <td>90</td>\n",
       "    </tr>\n",
       "    <tr>\n",
       "      <th>unknown</th>\n",
       "      <td>5</td>\n",
       "      <td>10</td>\n",
       "    </tr>\n",
       "  </tbody>\n",
       "</table>\n",
       "</div>"
      ],
      "text/plain": [
       "deposit      0     1\n",
       "contact             \n",
       "cellular   518  1158\n",
       "telephone   38    90\n",
       "unknown      5    10"
      ]
     },
     "execution_count": 69,
     "metadata": {},
     "output_type": "execute_result"
    }
   ],
   "source": [
    "pd.crosstab(index=df['contact'], columns=df['deposit'])"
   ]
  },
  {
   "cell_type": "markdown",
   "id": "1b7e7b84",
   "metadata": {},
   "source": [
    "- Nasabah yang dihubungi menggunakan hp memiliki kecenderungan paling tinggi untuk deposito\n",
    "- Hal ini menunjukkan contact mempengaruhi keputusan nasabah untuk deposito"
   ]
  },
  {
   "cell_type": "code",
   "execution_count": 70,
   "id": "cfe5c52e",
   "metadata": {},
   "outputs": [],
   "source": [
    "## Pengaruh month terhadap keputusan untuk deposito"
   ]
  },
  {
   "cell_type": "code",
   "execution_count": 71,
   "id": "ab4eb297",
   "metadata": {},
   "outputs": [
    {
     "data": {
      "text/html": [
       "<div>\n",
       "<style scoped>\n",
       "    .dataframe tbody tr th:only-of-type {\n",
       "        vertical-align: middle;\n",
       "    }\n",
       "\n",
       "    .dataframe tbody tr th {\n",
       "        vertical-align: top;\n",
       "    }\n",
       "\n",
       "    .dataframe thead th {\n",
       "        text-align: right;\n",
       "    }\n",
       "</style>\n",
       "<table border=\"1\" class=\"dataframe\">\n",
       "  <thead>\n",
       "    <tr style=\"text-align: right;\">\n",
       "      <th>deposit</th>\n",
       "      <th>0</th>\n",
       "      <th>1</th>\n",
       "    </tr>\n",
       "    <tr>\n",
       "      <th>month</th>\n",
       "      <th></th>\n",
       "      <th></th>\n",
       "    </tr>\n",
       "  </thead>\n",
       "  <tbody>\n",
       "    <tr>\n",
       "      <th>1</th>\n",
       "      <td>35</td>\n",
       "      <td>40</td>\n",
       "    </tr>\n",
       "    <tr>\n",
       "      <th>2</th>\n",
       "      <td>74</td>\n",
       "      <td>114</td>\n",
       "    </tr>\n",
       "    <tr>\n",
       "      <th>3</th>\n",
       "      <td>5</td>\n",
       "      <td>63</td>\n",
       "    </tr>\n",
       "    <tr>\n",
       "      <th>4</th>\n",
       "      <td>90</td>\n",
       "      <td>120</td>\n",
       "    </tr>\n",
       "    <tr>\n",
       "      <th>5</th>\n",
       "      <td>178</td>\n",
       "      <td>196</td>\n",
       "    </tr>\n",
       "    <tr>\n",
       "      <th>6</th>\n",
       "      <td>12</td>\n",
       "      <td>105</td>\n",
       "    </tr>\n",
       "    <tr>\n",
       "      <th>7</th>\n",
       "      <td>11</td>\n",
       "      <td>89</td>\n",
       "    </tr>\n",
       "    <tr>\n",
       "      <th>8</th>\n",
       "      <td>29</td>\n",
       "      <td>151</td>\n",
       "    </tr>\n",
       "    <tr>\n",
       "      <th>9</th>\n",
       "      <td>13</td>\n",
       "      <td>106</td>\n",
       "    </tr>\n",
       "    <tr>\n",
       "      <th>10</th>\n",
       "      <td>16</td>\n",
       "      <td>127</td>\n",
       "    </tr>\n",
       "    <tr>\n",
       "      <th>11</th>\n",
       "      <td>94</td>\n",
       "      <td>107</td>\n",
       "    </tr>\n",
       "    <tr>\n",
       "      <th>12</th>\n",
       "      <td>4</td>\n",
       "      <td>40</td>\n",
       "    </tr>\n",
       "  </tbody>\n",
       "</table>\n",
       "</div>"
      ],
      "text/plain": [
       "deposit    0    1\n",
       "month            \n",
       "1         35   40\n",
       "2         74  114\n",
       "3          5   63\n",
       "4         90  120\n",
       "5        178  196\n",
       "6         12  105\n",
       "7         11   89\n",
       "8         29  151\n",
       "9         13  106\n",
       "10        16  127\n",
       "11        94  107\n",
       "12         4   40"
      ]
     },
     "execution_count": 71,
     "metadata": {},
     "output_type": "execute_result"
    }
   ],
   "source": [
    "pd.crosstab(index=df['month'], columns=df['deposit'])"
   ]
  },
  {
   "cell_type": "markdown",
   "id": "618c5f1a",
   "metadata": {},
   "source": [
    "- Hal ini menunjukkan bulan mempengaruhi keputusan nasabah untuk menabung deposito"
   ]
  },
  {
   "cell_type": "code",
   "execution_count": 72,
   "id": "caabb2a7",
   "metadata": {},
   "outputs": [],
   "source": [
    "## Pengaruh campaign terhadap keputusan untuk deposito"
   ]
  },
  {
   "cell_type": "code",
   "execution_count": 73,
   "id": "84817adc",
   "metadata": {},
   "outputs": [
    {
     "data": {
      "text/html": [
       "<div>\n",
       "<style scoped>\n",
       "    .dataframe tbody tr th:only-of-type {\n",
       "        vertical-align: middle;\n",
       "    }\n",
       "\n",
       "    .dataframe tbody tr th {\n",
       "        vertical-align: top;\n",
       "    }\n",
       "\n",
       "    .dataframe thead th {\n",
       "        text-align: right;\n",
       "    }\n",
       "</style>\n",
       "<table border=\"1\" class=\"dataframe\">\n",
       "  <thead>\n",
       "    <tr style=\"text-align: right;\">\n",
       "      <th>deposit</th>\n",
       "      <th>0</th>\n",
       "      <th>1</th>\n",
       "    </tr>\n",
       "    <tr>\n",
       "      <th>campaign</th>\n",
       "      <th></th>\n",
       "      <th></th>\n",
       "    </tr>\n",
       "  </thead>\n",
       "  <tbody>\n",
       "    <tr>\n",
       "      <th>1</th>\n",
       "      <td>259</td>\n",
       "      <td>678</td>\n",
       "    </tr>\n",
       "    <tr>\n",
       "      <th>2</th>\n",
       "      <td>167</td>\n",
       "      <td>340</td>\n",
       "    </tr>\n",
       "    <tr>\n",
       "      <th>3</th>\n",
       "      <td>54</td>\n",
       "      <td>144</td>\n",
       "    </tr>\n",
       "    <tr>\n",
       "      <th>4</th>\n",
       "      <td>36</td>\n",
       "      <td>53</td>\n",
       "    </tr>\n",
       "    <tr>\n",
       "      <th>5</th>\n",
       "      <td>19</td>\n",
       "      <td>20</td>\n",
       "    </tr>\n",
       "    <tr>\n",
       "      <th>6</th>\n",
       "      <td>14</td>\n",
       "      <td>12</td>\n",
       "    </tr>\n",
       "    <tr>\n",
       "      <th>7</th>\n",
       "      <td>5</td>\n",
       "      <td>6</td>\n",
       "    </tr>\n",
       "    <tr>\n",
       "      <th>8</th>\n",
       "      <td>5</td>\n",
       "      <td>4</td>\n",
       "    </tr>\n",
       "    <tr>\n",
       "      <th>9</th>\n",
       "      <td>2</td>\n",
       "      <td>1</td>\n",
       "    </tr>\n",
       "  </tbody>\n",
       "</table>\n",
       "</div>"
      ],
      "text/plain": [
       "deposit     0    1\n",
       "campaign          \n",
       "1         259  678\n",
       "2         167  340\n",
       "3          54  144\n",
       "4          36   53\n",
       "5          19   20\n",
       "6          14   12\n",
       "7           5    6\n",
       "8           5    4\n",
       "9           2    1"
      ]
     },
     "execution_count": 73,
     "metadata": {},
     "output_type": "execute_result"
    }
   ],
   "source": [
    "pd.crosstab(index=df['campaign'], columns=df['deposit'])"
   ]
  },
  {
   "cell_type": "markdown",
   "id": "e634846d",
   "metadata": {},
   "source": [
    "- Hal ini menunjukkan campaign mempengaruhi keputusan nasabah untuk menabung deposito"
   ]
  },
  {
   "cell_type": "code",
   "execution_count": 74,
   "id": "90a0438c",
   "metadata": {},
   "outputs": [],
   "source": [
    "## Pengaruh pdays terhadap keputusan untuk deposito"
   ]
  },
  {
   "cell_type": "code",
   "execution_count": 75,
   "id": "1d0fee8f",
   "metadata": {},
   "outputs": [
    {
     "data": {
      "text/html": [
       "<div>\n",
       "<style scoped>\n",
       "    .dataframe tbody tr th:only-of-type {\n",
       "        vertical-align: middle;\n",
       "    }\n",
       "\n",
       "    .dataframe tbody tr th {\n",
       "        vertical-align: top;\n",
       "    }\n",
       "\n",
       "    .dataframe thead th {\n",
       "        text-align: right;\n",
       "    }\n",
       "</style>\n",
       "<table border=\"1\" class=\"dataframe\">\n",
       "  <thead>\n",
       "    <tr style=\"text-align: right;\">\n",
       "      <th>deposit</th>\n",
       "      <th>0</th>\n",
       "      <th>1</th>\n",
       "    </tr>\n",
       "    <tr>\n",
       "      <th>pdays</th>\n",
       "      <th></th>\n",
       "      <th></th>\n",
       "    </tr>\n",
       "  </thead>\n",
       "  <tbody>\n",
       "    <tr>\n",
       "      <th>1</th>\n",
       "      <td>1</td>\n",
       "      <td>2</td>\n",
       "    </tr>\n",
       "    <tr>\n",
       "      <th>2</th>\n",
       "      <td>3</td>\n",
       "      <td>0</td>\n",
       "    </tr>\n",
       "    <tr>\n",
       "      <th>4</th>\n",
       "      <td>0</td>\n",
       "      <td>1</td>\n",
       "    </tr>\n",
       "    <tr>\n",
       "      <th>5</th>\n",
       "      <td>1</td>\n",
       "      <td>0</td>\n",
       "    </tr>\n",
       "    <tr>\n",
       "      <th>6</th>\n",
       "      <td>1</td>\n",
       "      <td>1</td>\n",
       "    </tr>\n",
       "    <tr>\n",
       "      <th>...</th>\n",
       "      <td>...</td>\n",
       "      <td>...</td>\n",
       "    </tr>\n",
       "    <tr>\n",
       "      <th>776</th>\n",
       "      <td>0</td>\n",
       "      <td>1</td>\n",
       "    </tr>\n",
       "    <tr>\n",
       "      <th>778</th>\n",
       "      <td>1</td>\n",
       "      <td>0</td>\n",
       "    </tr>\n",
       "    <tr>\n",
       "      <th>805</th>\n",
       "      <td>0</td>\n",
       "      <td>1</td>\n",
       "    </tr>\n",
       "    <tr>\n",
       "      <th>828</th>\n",
       "      <td>0</td>\n",
       "      <td>1</td>\n",
       "    </tr>\n",
       "    <tr>\n",
       "      <th>854</th>\n",
       "      <td>0</td>\n",
       "      <td>1</td>\n",
       "    </tr>\n",
       "  </tbody>\n",
       "</table>\n",
       "<p>409 rows × 2 columns</p>\n",
       "</div>"
      ],
      "text/plain": [
       "deposit  0  1\n",
       "pdays        \n",
       "1        1  2\n",
       "2        3  0\n",
       "4        0  1\n",
       "5        1  0\n",
       "6        1  1\n",
       "...     .. ..\n",
       "776      0  1\n",
       "778      1  0\n",
       "805      0  1\n",
       "828      0  1\n",
       "854      0  1\n",
       "\n",
       "[409 rows x 2 columns]"
      ]
     },
     "execution_count": 75,
     "metadata": {},
     "output_type": "execute_result"
    }
   ],
   "source": [
    "pd.crosstab(index=df['pdays'], columns=df['deposit'])"
   ]
  },
  {
   "cell_type": "markdown",
   "id": "212ea744",
   "metadata": {},
   "source": [
    "- Hal ini menunjukkan pdays mempengaruhi keputusan nasabah untuk menabung deposito"
   ]
  },
  {
   "cell_type": "code",
   "execution_count": 76,
   "id": "e8a0f0c2",
   "metadata": {},
   "outputs": [],
   "source": [
    "## Pengaruh poutcome terhadap keputusan untuk deposito"
   ]
  },
  {
   "cell_type": "code",
   "execution_count": 77,
   "id": "be1803fc",
   "metadata": {},
   "outputs": [
    {
     "data": {
      "text/html": [
       "<div>\n",
       "<style scoped>\n",
       "    .dataframe tbody tr th:only-of-type {\n",
       "        vertical-align: middle;\n",
       "    }\n",
       "\n",
       "    .dataframe tbody tr th {\n",
       "        vertical-align: top;\n",
       "    }\n",
       "\n",
       "    .dataframe thead th {\n",
       "        text-align: right;\n",
       "    }\n",
       "</style>\n",
       "<table border=\"1\" class=\"dataframe\">\n",
       "  <thead>\n",
       "    <tr style=\"text-align: right;\">\n",
       "      <th>deposit</th>\n",
       "      <th>0</th>\n",
       "      <th>1</th>\n",
       "    </tr>\n",
       "    <tr>\n",
       "      <th>poutcome</th>\n",
       "      <th></th>\n",
       "      <th></th>\n",
       "    </tr>\n",
       "  </thead>\n",
       "  <tbody>\n",
       "    <tr>\n",
       "      <th>failure</th>\n",
       "      <td>360</td>\n",
       "      <td>390</td>\n",
       "    </tr>\n",
       "    <tr>\n",
       "      <th>others</th>\n",
       "      <td>139</td>\n",
       "      <td>209</td>\n",
       "    </tr>\n",
       "    <tr>\n",
       "      <th>success</th>\n",
       "      <td>62</td>\n",
       "      <td>659</td>\n",
       "    </tr>\n",
       "  </tbody>\n",
       "</table>\n",
       "</div>"
      ],
      "text/plain": [
       "deposit     0    1\n",
       "poutcome          \n",
       "failure   360  390\n",
       "others    139  209\n",
       "success    62  659"
      ]
     },
     "execution_count": 77,
     "metadata": {},
     "output_type": "execute_result"
    }
   ],
   "source": [
    "pd.crosstab(index=df['poutcome'], columns=df['deposit'])"
   ]
  },
  {
   "cell_type": "markdown",
   "id": "90922633",
   "metadata": {},
   "source": [
    "- Outcome dari campaign telemarketing sebelumnya mempengaruhi keputusan nasabah untuk menabung deposito"
   ]
  },
  {
   "cell_type": "markdown",
   "id": "9d88a9ea",
   "metadata": {},
   "source": [
    "#### Quick EDA conclusion:\n",
    "- usia nasabah mempengaruhi keputusan nasabah untuk menabung deposito\n",
    "- pekerjaan nasabah mempengaruhi keputusan nasabah untuk menabung deposito\n",
    "- balance dari nasabah mempengaruhi keputusan nasabah untuk menabung deposito\n",
    "- status KPR nasabah mempengaruhi keputusan nasabah untuk menabung deposito\n",
    "- status pinjaman nasabah mempengaruhi keputusan nasabah untuk menabung deposito\n",
    "- metode telemarketing mempengaruhi keputusan nasabah untuk menabung deposito\n",
    "- bulan dilakukannya telemarketing mempengaruhi keputusan nasabah untuk menabung deposito\n",
    "- jumlah campaign mempengaruhi keputusan nasabah untuk menabung deposito\n",
    "- jumlah hari yang terlewat setelah nasabah terakhir kali dihubungi mempengaruhi keputusan nasabah untuk menabung deposito\n",
    "- outcome dari campaigntelemarketing sebelumnya mempengaruhi keputusan nasabah untuk menabung deposito"
   ]
  },
  {
   "cell_type": "markdown",
   "id": "a07c3754",
   "metadata": {},
   "source": [
    "## Data Encoding"
   ]
  },
  {
   "cell_type": "markdown",
   "id": "17ed974c",
   "metadata": {},
   "source": [
    "`job`"
   ]
  },
  {
   "cell_type": "code",
   "execution_count": 78,
   "id": "e27a2f55",
   "metadata": {},
   "outputs": [],
   "source": [
    "## Kita melakukan One Hot Encoding untuk mempermudah proses permodelan Machine Learning\n",
    "df = pd.get_dummies(df, columns=['job'])"
   ]
  },
  {
   "cell_type": "code",
   "execution_count": 79,
   "id": "d065e541",
   "metadata": {
    "scrolled": true
   },
   "outputs": [
    {
     "data": {
      "text/html": [
       "<div>\n",
       "<style scoped>\n",
       "    .dataframe tbody tr th:only-of-type {\n",
       "        vertical-align: middle;\n",
       "    }\n",
       "\n",
       "    .dataframe tbody tr th {\n",
       "        vertical-align: top;\n",
       "    }\n",
       "\n",
       "    .dataframe thead th {\n",
       "        text-align: right;\n",
       "    }\n",
       "</style>\n",
       "<table border=\"1\" class=\"dataframe\">\n",
       "  <thead>\n",
       "    <tr style=\"text-align: right;\">\n",
       "      <th></th>\n",
       "      <th>age</th>\n",
       "      <th>balance</th>\n",
       "      <th>housing</th>\n",
       "      <th>loan</th>\n",
       "      <th>contact</th>\n",
       "      <th>month</th>\n",
       "      <th>campaign</th>\n",
       "      <th>pdays</th>\n",
       "      <th>poutcome</th>\n",
       "      <th>deposit</th>\n",
       "      <th>job_blue-collar</th>\n",
       "      <th>job_management</th>\n",
       "      <th>job_others</th>\n",
       "      <th>job_technician</th>\n",
       "    </tr>\n",
       "  </thead>\n",
       "  <tbody>\n",
       "    <tr>\n",
       "      <th>2</th>\n",
       "      <td>3</td>\n",
       "      <td>3</td>\n",
       "      <td>0</td>\n",
       "      <td>0</td>\n",
       "      <td>cellular</td>\n",
       "      <td>5</td>\n",
       "      <td>1</td>\n",
       "      <td>352</td>\n",
       "      <td>others</td>\n",
       "      <td>1</td>\n",
       "      <td>0</td>\n",
       "      <td>0</td>\n",
       "      <td>1</td>\n",
       "      <td>0</td>\n",
       "    </tr>\n",
       "    <tr>\n",
       "      <th>7</th>\n",
       "      <td>1</td>\n",
       "      <td>2</td>\n",
       "      <td>1</td>\n",
       "      <td>1</td>\n",
       "      <td>cellular</td>\n",
       "      <td>5</td>\n",
       "      <td>2</td>\n",
       "      <td>21</td>\n",
       "      <td>failure</td>\n",
       "      <td>1</td>\n",
       "      <td>0</td>\n",
       "      <td>0</td>\n",
       "      <td>0</td>\n",
       "      <td>1</td>\n",
       "    </tr>\n",
       "    <tr>\n",
       "      <th>10</th>\n",
       "      <td>0</td>\n",
       "      <td>2</td>\n",
       "      <td>0</td>\n",
       "      <td>0</td>\n",
       "      <td>cellular</td>\n",
       "      <td>2</td>\n",
       "      <td>1</td>\n",
       "      <td>91</td>\n",
       "      <td>success</td>\n",
       "      <td>1</td>\n",
       "      <td>0</td>\n",
       "      <td>0</td>\n",
       "      <td>1</td>\n",
       "      <td>0</td>\n",
       "    </tr>\n",
       "    <tr>\n",
       "      <th>15</th>\n",
       "      <td>1</td>\n",
       "      <td>0</td>\n",
       "      <td>0</td>\n",
       "      <td>0</td>\n",
       "      <td>cellular</td>\n",
       "      <td>11</td>\n",
       "      <td>2</td>\n",
       "      <td>186</td>\n",
       "      <td>success</td>\n",
       "      <td>1</td>\n",
       "      <td>0</td>\n",
       "      <td>0</td>\n",
       "      <td>0</td>\n",
       "      <td>1</td>\n",
       "    </tr>\n",
       "    <tr>\n",
       "      <th>18</th>\n",
       "      <td>0</td>\n",
       "      <td>2</td>\n",
       "      <td>1</td>\n",
       "      <td>0</td>\n",
       "      <td>cellular</td>\n",
       "      <td>2</td>\n",
       "      <td>1</td>\n",
       "      <td>263</td>\n",
       "      <td>success</td>\n",
       "      <td>0</td>\n",
       "      <td>0</td>\n",
       "      <td>0</td>\n",
       "      <td>0</td>\n",
       "      <td>1</td>\n",
       "    </tr>\n",
       "  </tbody>\n",
       "</table>\n",
       "</div>"
      ],
      "text/plain": [
       "    age  balance  housing  loan   contact  month  campaign  pdays poutcome  \\\n",
       "2     3        3        0     0  cellular      5         1    352   others   \n",
       "7     1        2        1     1  cellular      5         2     21  failure   \n",
       "10    0        2        0     0  cellular      2         1     91  success   \n",
       "15    1        0        0     0  cellular     11         2    186  success   \n",
       "18    0        2        1     0  cellular      2         1    263  success   \n",
       "\n",
       "    deposit  job_blue-collar  job_management  job_others  job_technician  \n",
       "2         1                0               0           1               0  \n",
       "7         1                0               0           0               1  \n",
       "10        1                0               0           1               0  \n",
       "15        1                0               0           0               1  \n",
       "18        0                0               0           0               1  "
      ]
     },
     "execution_count": 79,
     "metadata": {},
     "output_type": "execute_result"
    }
   ],
   "source": [
    "## Kita ingin memastikan bahwa proses one hot encoding berhasil\n",
    "df.head()"
   ]
  },
  {
   "cell_type": "markdown",
   "id": "ff37649a",
   "metadata": {},
   "source": [
    "`contact`"
   ]
  },
  {
   "cell_type": "code",
   "execution_count": 80,
   "id": "193b30d5",
   "metadata": {},
   "outputs": [],
   "source": [
    "## Kita melakukan One Hot Encoding untuk mempermudah proses permodelan Machine Learning\n",
    "df = pd.get_dummies(df, columns=['contact'])"
   ]
  },
  {
   "cell_type": "code",
   "execution_count": 81,
   "id": "1fac8b0c",
   "metadata": {},
   "outputs": [
    {
     "data": {
      "text/html": [
       "<div>\n",
       "<style scoped>\n",
       "    .dataframe tbody tr th:only-of-type {\n",
       "        vertical-align: middle;\n",
       "    }\n",
       "\n",
       "    .dataframe tbody tr th {\n",
       "        vertical-align: top;\n",
       "    }\n",
       "\n",
       "    .dataframe thead th {\n",
       "        text-align: right;\n",
       "    }\n",
       "</style>\n",
       "<table border=\"1\" class=\"dataframe\">\n",
       "  <thead>\n",
       "    <tr style=\"text-align: right;\">\n",
       "      <th></th>\n",
       "      <th>age</th>\n",
       "      <th>balance</th>\n",
       "      <th>housing</th>\n",
       "      <th>loan</th>\n",
       "      <th>month</th>\n",
       "      <th>campaign</th>\n",
       "      <th>pdays</th>\n",
       "      <th>poutcome</th>\n",
       "      <th>deposit</th>\n",
       "      <th>job_blue-collar</th>\n",
       "      <th>job_management</th>\n",
       "      <th>job_others</th>\n",
       "      <th>job_technician</th>\n",
       "      <th>contact_cellular</th>\n",
       "      <th>contact_telephone</th>\n",
       "      <th>contact_unknown</th>\n",
       "    </tr>\n",
       "  </thead>\n",
       "  <tbody>\n",
       "    <tr>\n",
       "      <th>2</th>\n",
       "      <td>3</td>\n",
       "      <td>3</td>\n",
       "      <td>0</td>\n",
       "      <td>0</td>\n",
       "      <td>5</td>\n",
       "      <td>1</td>\n",
       "      <td>352</td>\n",
       "      <td>others</td>\n",
       "      <td>1</td>\n",
       "      <td>0</td>\n",
       "      <td>0</td>\n",
       "      <td>1</td>\n",
       "      <td>0</td>\n",
       "      <td>1</td>\n",
       "      <td>0</td>\n",
       "      <td>0</td>\n",
       "    </tr>\n",
       "    <tr>\n",
       "      <th>7</th>\n",
       "      <td>1</td>\n",
       "      <td>2</td>\n",
       "      <td>1</td>\n",
       "      <td>1</td>\n",
       "      <td>5</td>\n",
       "      <td>2</td>\n",
       "      <td>21</td>\n",
       "      <td>failure</td>\n",
       "      <td>1</td>\n",
       "      <td>0</td>\n",
       "      <td>0</td>\n",
       "      <td>0</td>\n",
       "      <td>1</td>\n",
       "      <td>1</td>\n",
       "      <td>0</td>\n",
       "      <td>0</td>\n",
       "    </tr>\n",
       "    <tr>\n",
       "      <th>10</th>\n",
       "      <td>0</td>\n",
       "      <td>2</td>\n",
       "      <td>0</td>\n",
       "      <td>0</td>\n",
       "      <td>2</td>\n",
       "      <td>1</td>\n",
       "      <td>91</td>\n",
       "      <td>success</td>\n",
       "      <td>1</td>\n",
       "      <td>0</td>\n",
       "      <td>0</td>\n",
       "      <td>1</td>\n",
       "      <td>0</td>\n",
       "      <td>1</td>\n",
       "      <td>0</td>\n",
       "      <td>0</td>\n",
       "    </tr>\n",
       "    <tr>\n",
       "      <th>15</th>\n",
       "      <td>1</td>\n",
       "      <td>0</td>\n",
       "      <td>0</td>\n",
       "      <td>0</td>\n",
       "      <td>11</td>\n",
       "      <td>2</td>\n",
       "      <td>186</td>\n",
       "      <td>success</td>\n",
       "      <td>1</td>\n",
       "      <td>0</td>\n",
       "      <td>0</td>\n",
       "      <td>0</td>\n",
       "      <td>1</td>\n",
       "      <td>1</td>\n",
       "      <td>0</td>\n",
       "      <td>0</td>\n",
       "    </tr>\n",
       "    <tr>\n",
       "      <th>18</th>\n",
       "      <td>0</td>\n",
       "      <td>2</td>\n",
       "      <td>1</td>\n",
       "      <td>0</td>\n",
       "      <td>2</td>\n",
       "      <td>1</td>\n",
       "      <td>263</td>\n",
       "      <td>success</td>\n",
       "      <td>0</td>\n",
       "      <td>0</td>\n",
       "      <td>0</td>\n",
       "      <td>0</td>\n",
       "      <td>1</td>\n",
       "      <td>1</td>\n",
       "      <td>0</td>\n",
       "      <td>0</td>\n",
       "    </tr>\n",
       "  </tbody>\n",
       "</table>\n",
       "</div>"
      ],
      "text/plain": [
       "    age  balance  housing  loan  month  campaign  pdays poutcome  deposit  \\\n",
       "2     3        3        0     0      5         1    352   others        1   \n",
       "7     1        2        1     1      5         2     21  failure        1   \n",
       "10    0        2        0     0      2         1     91  success        1   \n",
       "15    1        0        0     0     11         2    186  success        1   \n",
       "18    0        2        1     0      2         1    263  success        0   \n",
       "\n",
       "    job_blue-collar  job_management  job_others  job_technician  \\\n",
       "2                 0               0           1               0   \n",
       "7                 0               0           0               1   \n",
       "10                0               0           1               0   \n",
       "15                0               0           0               1   \n",
       "18                0               0           0               1   \n",
       "\n",
       "    contact_cellular  contact_telephone  contact_unknown  \n",
       "2                  1                  0                0  \n",
       "7                  1                  0                0  \n",
       "10                 1                  0                0  \n",
       "15                 1                  0                0  \n",
       "18                 1                  0                0  "
      ]
     },
     "execution_count": 81,
     "metadata": {},
     "output_type": "execute_result"
    }
   ],
   "source": [
    "## Kita ingin memastikan bahwa proses one hot encoding berhasil\n",
    "df.head()"
   ]
  },
  {
   "cell_type": "markdown",
   "id": "154a0668",
   "metadata": {},
   "source": [
    "### Domain Knowledge"
   ]
  },
  {
   "cell_type": "code",
   "execution_count": 82,
   "id": "eac327e2",
   "metadata": {},
   "outputs": [],
   "source": [
    "df.drop(columns=['poutcome'], inplace = True)\n",
    "## Kita drop karena kolom poutcome karena memiliki pengaruh yang terlalu pasti/obvious"
   ]
  },
  {
   "cell_type": "code",
   "execution_count": 83,
   "id": "14502ea1",
   "metadata": {},
   "outputs": [
    {
     "data": {
      "text/html": [
       "<div>\n",
       "<style scoped>\n",
       "    .dataframe tbody tr th:only-of-type {\n",
       "        vertical-align: middle;\n",
       "    }\n",
       "\n",
       "    .dataframe tbody tr th {\n",
       "        vertical-align: top;\n",
       "    }\n",
       "\n",
       "    .dataframe thead th {\n",
       "        text-align: right;\n",
       "    }\n",
       "</style>\n",
       "<table border=\"1\" class=\"dataframe\">\n",
       "  <thead>\n",
       "    <tr style=\"text-align: right;\">\n",
       "      <th></th>\n",
       "      <th>age</th>\n",
       "      <th>balance</th>\n",
       "      <th>housing</th>\n",
       "      <th>loan</th>\n",
       "      <th>month</th>\n",
       "      <th>campaign</th>\n",
       "      <th>pdays</th>\n",
       "      <th>deposit</th>\n",
       "      <th>job_blue-collar</th>\n",
       "      <th>job_management</th>\n",
       "      <th>job_others</th>\n",
       "      <th>job_technician</th>\n",
       "      <th>contact_cellular</th>\n",
       "      <th>contact_telephone</th>\n",
       "      <th>contact_unknown</th>\n",
       "    </tr>\n",
       "  </thead>\n",
       "  <tbody>\n",
       "    <tr>\n",
       "      <th>2</th>\n",
       "      <td>3</td>\n",
       "      <td>3</td>\n",
       "      <td>0</td>\n",
       "      <td>0</td>\n",
       "      <td>5</td>\n",
       "      <td>1</td>\n",
       "      <td>352</td>\n",
       "      <td>1</td>\n",
       "      <td>0</td>\n",
       "      <td>0</td>\n",
       "      <td>1</td>\n",
       "      <td>0</td>\n",
       "      <td>1</td>\n",
       "      <td>0</td>\n",
       "      <td>0</td>\n",
       "    </tr>\n",
       "    <tr>\n",
       "      <th>7</th>\n",
       "      <td>1</td>\n",
       "      <td>2</td>\n",
       "      <td>1</td>\n",
       "      <td>1</td>\n",
       "      <td>5</td>\n",
       "      <td>2</td>\n",
       "      <td>21</td>\n",
       "      <td>1</td>\n",
       "      <td>0</td>\n",
       "      <td>0</td>\n",
       "      <td>0</td>\n",
       "      <td>1</td>\n",
       "      <td>1</td>\n",
       "      <td>0</td>\n",
       "      <td>0</td>\n",
       "    </tr>\n",
       "    <tr>\n",
       "      <th>10</th>\n",
       "      <td>0</td>\n",
       "      <td>2</td>\n",
       "      <td>0</td>\n",
       "      <td>0</td>\n",
       "      <td>2</td>\n",
       "      <td>1</td>\n",
       "      <td>91</td>\n",
       "      <td>1</td>\n",
       "      <td>0</td>\n",
       "      <td>0</td>\n",
       "      <td>1</td>\n",
       "      <td>0</td>\n",
       "      <td>1</td>\n",
       "      <td>0</td>\n",
       "      <td>0</td>\n",
       "    </tr>\n",
       "    <tr>\n",
       "      <th>15</th>\n",
       "      <td>1</td>\n",
       "      <td>0</td>\n",
       "      <td>0</td>\n",
       "      <td>0</td>\n",
       "      <td>11</td>\n",
       "      <td>2</td>\n",
       "      <td>186</td>\n",
       "      <td>1</td>\n",
       "      <td>0</td>\n",
       "      <td>0</td>\n",
       "      <td>0</td>\n",
       "      <td>1</td>\n",
       "      <td>1</td>\n",
       "      <td>0</td>\n",
       "      <td>0</td>\n",
       "    </tr>\n",
       "    <tr>\n",
       "      <th>18</th>\n",
       "      <td>0</td>\n",
       "      <td>2</td>\n",
       "      <td>1</td>\n",
       "      <td>0</td>\n",
       "      <td>2</td>\n",
       "      <td>1</td>\n",
       "      <td>263</td>\n",
       "      <td>0</td>\n",
       "      <td>0</td>\n",
       "      <td>0</td>\n",
       "      <td>0</td>\n",
       "      <td>1</td>\n",
       "      <td>1</td>\n",
       "      <td>0</td>\n",
       "      <td>0</td>\n",
       "    </tr>\n",
       "  </tbody>\n",
       "</table>\n",
       "</div>"
      ],
      "text/plain": [
       "    age  balance  housing  loan  month  campaign  pdays  deposit  \\\n",
       "2     3        3        0     0      5         1    352        1   \n",
       "7     1        2        1     1      5         2     21        1   \n",
       "10    0        2        0     0      2         1     91        1   \n",
       "15    1        0        0     0     11         2    186        1   \n",
       "18    0        2        1     0      2         1    263        0   \n",
       "\n",
       "    job_blue-collar  job_management  job_others  job_technician  \\\n",
       "2                 0               0           1               0   \n",
       "7                 0               0           0               1   \n",
       "10                0               0           1               0   \n",
       "15                0               0           0               1   \n",
       "18                0               0           0               1   \n",
       "\n",
       "    contact_cellular  contact_telephone  contact_unknown  \n",
       "2                  1                  0                0  \n",
       "7                  1                  0                0  \n",
       "10                 1                  0                0  \n",
       "15                 1                  0                0  \n",
       "18                 1                  0                0  "
      ]
     },
     "execution_count": 83,
     "metadata": {},
     "output_type": "execute_result"
    }
   ],
   "source": [
    "## Kita ingin memastikan bahwa kolom poutcome berhasil didrop\n",
    "df.head()"
   ]
  },
  {
   "cell_type": "markdown",
   "id": "6ffe32cb",
   "metadata": {},
   "source": [
    "## Machine Learning Modelling\n",
    "\n",
    "Pertama-tama dilakukan dengan model yang paling dasar, yaitu Logistic Regression, tanpa ada parameter tuning."
   ]
  },
  {
   "cell_type": "markdown",
   "id": "b27fedaa",
   "metadata": {},
   "source": [
    "### Splitting Data"
   ]
  },
  {
   "cell_type": "code",
   "execution_count": 84,
   "id": "b8a1c588",
   "metadata": {},
   "outputs": [],
   "source": [
    "## Menjabarkan features dan target\n",
    "X = df.drop(columns='deposit') ## semua kolom kecuali target\n",
    "y = df['deposit'] ## kolom target"
   ]
  },
  {
   "cell_type": "code",
   "execution_count": 85,
   "id": "852e1fc2",
   "metadata": {},
   "outputs": [],
   "source": [
    "## Import package untuk splitting data\n",
    "from sklearn.model_selection import train_test_split"
   ]
  },
  {
   "cell_type": "code",
   "execution_count": 86,
   "id": "27a55b4d",
   "metadata": {},
   "outputs": [],
   "source": [
    "## Melakukan splitting data\n",
    "## Kita melakukan splitting dengan proporsi 80% training, 20% testing\n",
    "X_train, X_test, y_train, y_test = train_test_split(X, y, train_size=.80, random_state=42, stratify=y)"
   ]
  },
  {
   "cell_type": "markdown",
   "id": "20b9835a",
   "metadata": {},
   "source": [
    "### Base Model : Logistic Regression"
   ]
  },
  {
   "cell_type": "code",
   "execution_count": 87,
   "id": "c877290d",
   "metadata": {},
   "outputs": [],
   "source": [
    "## Import Package\n",
    "from sklearn.linear_model import LogisticRegression"
   ]
  },
  {
   "cell_type": "code",
   "execution_count": 88,
   "id": "5598edb6",
   "metadata": {},
   "outputs": [],
   "source": [
    "## Membentuk model Logistic Regression\n",
    "model_LR = LogisticRegression()"
   ]
  },
  {
   "cell_type": "code",
   "execution_count": 89,
   "id": "70d04728",
   "metadata": {},
   "outputs": [
    {
     "data": {
      "text/html": [
       "<style>#sk-container-id-1 {color: black;background-color: white;}#sk-container-id-1 pre{padding: 0;}#sk-container-id-1 div.sk-toggleable {background-color: white;}#sk-container-id-1 label.sk-toggleable__label {cursor: pointer;display: block;width: 100%;margin-bottom: 0;padding: 0.3em;box-sizing: border-box;text-align: center;}#sk-container-id-1 label.sk-toggleable__label-arrow:before {content: \"▸\";float: left;margin-right: 0.25em;color: #696969;}#sk-container-id-1 label.sk-toggleable__label-arrow:hover:before {color: black;}#sk-container-id-1 div.sk-estimator:hover label.sk-toggleable__label-arrow:before {color: black;}#sk-container-id-1 div.sk-toggleable__content {max-height: 0;max-width: 0;overflow: hidden;text-align: left;background-color: #f0f8ff;}#sk-container-id-1 div.sk-toggleable__content pre {margin: 0.2em;color: black;border-radius: 0.25em;background-color: #f0f8ff;}#sk-container-id-1 input.sk-toggleable__control:checked~div.sk-toggleable__content {max-height: 200px;max-width: 100%;overflow: auto;}#sk-container-id-1 input.sk-toggleable__control:checked~label.sk-toggleable__label-arrow:before {content: \"▾\";}#sk-container-id-1 div.sk-estimator input.sk-toggleable__control:checked~label.sk-toggleable__label {background-color: #d4ebff;}#sk-container-id-1 div.sk-label input.sk-toggleable__control:checked~label.sk-toggleable__label {background-color: #d4ebff;}#sk-container-id-1 input.sk-hidden--visually {border: 0;clip: rect(1px 1px 1px 1px);clip: rect(1px, 1px, 1px, 1px);height: 1px;margin: -1px;overflow: hidden;padding: 0;position: absolute;width: 1px;}#sk-container-id-1 div.sk-estimator {font-family: monospace;background-color: #f0f8ff;border: 1px dotted black;border-radius: 0.25em;box-sizing: border-box;margin-bottom: 0.5em;}#sk-container-id-1 div.sk-estimator:hover {background-color: #d4ebff;}#sk-container-id-1 div.sk-parallel-item::after {content: \"\";width: 100%;border-bottom: 1px solid gray;flex-grow: 1;}#sk-container-id-1 div.sk-label:hover label.sk-toggleable__label {background-color: #d4ebff;}#sk-container-id-1 div.sk-serial::before {content: \"\";position: absolute;border-left: 1px solid gray;box-sizing: border-box;top: 0;bottom: 0;left: 50%;z-index: 0;}#sk-container-id-1 div.sk-serial {display: flex;flex-direction: column;align-items: center;background-color: white;padding-right: 0.2em;padding-left: 0.2em;position: relative;}#sk-container-id-1 div.sk-item {position: relative;z-index: 1;}#sk-container-id-1 div.sk-parallel {display: flex;align-items: stretch;justify-content: center;background-color: white;position: relative;}#sk-container-id-1 div.sk-item::before, #sk-container-id-1 div.sk-parallel-item::before {content: \"\";position: absolute;border-left: 1px solid gray;box-sizing: border-box;top: 0;bottom: 0;left: 50%;z-index: -1;}#sk-container-id-1 div.sk-parallel-item {display: flex;flex-direction: column;z-index: 1;position: relative;background-color: white;}#sk-container-id-1 div.sk-parallel-item:first-child::after {align-self: flex-end;width: 50%;}#sk-container-id-1 div.sk-parallel-item:last-child::after {align-self: flex-start;width: 50%;}#sk-container-id-1 div.sk-parallel-item:only-child::after {width: 0;}#sk-container-id-1 div.sk-dashed-wrapped {border: 1px dashed gray;margin: 0 0.4em 0.5em 0.4em;box-sizing: border-box;padding-bottom: 0.4em;background-color: white;}#sk-container-id-1 div.sk-label label {font-family: monospace;font-weight: bold;display: inline-block;line-height: 1.2em;}#sk-container-id-1 div.sk-label-container {text-align: center;}#sk-container-id-1 div.sk-container {/* jupyter's `normalize.less` sets `[hidden] { display: none; }` but bootstrap.min.css set `[hidden] { display: none !important; }` so we also need the `!important` here to be able to override the default hidden behavior on the sphinx rendered scikit-learn.org. See: https://github.com/scikit-learn/scikit-learn/issues/21755 */display: inline-block !important;position: relative;}#sk-container-id-1 div.sk-text-repr-fallback {display: none;}</style><div id=\"sk-container-id-1\" class=\"sk-top-container\"><div class=\"sk-text-repr-fallback\"><pre>LogisticRegression()</pre><b>In a Jupyter environment, please rerun this cell to show the HTML representation or trust the notebook. <br />On GitHub, the HTML representation is unable to render, please try loading this page with nbviewer.org.</b></div><div class=\"sk-container\" hidden><div class=\"sk-item\"><div class=\"sk-estimator sk-toggleable\"><input class=\"sk-toggleable__control sk-hidden--visually\" id=\"sk-estimator-id-1\" type=\"checkbox\" checked><label for=\"sk-estimator-id-1\" class=\"sk-toggleable__label sk-toggleable__label-arrow\">LogisticRegression</label><div class=\"sk-toggleable__content\"><pre>LogisticRegression()</pre></div></div></div></div></div>"
      ],
      "text/plain": [
       "LogisticRegression()"
      ]
     },
     "execution_count": 89,
     "metadata": {},
     "output_type": "execute_result"
    }
   ],
   "source": [
    "## Melakukan fitting model\n",
    "model_LR.fit(X_train, y_train)"
   ]
  },
  {
   "cell_type": "markdown",
   "id": "53753460",
   "metadata": {},
   "source": [
    "### Kembali ke fokus kita dalam pembuatan model Machine Learning:\n",
    "\n",
    "#### False Positive (FP) : \n",
    "\n",
    "\"Kita memprediksi pelanggan setuju menabung, padahal aktualnya tidak setuju.\"\n",
    "\n",
    "**Impact:** Hal ini merugikan karena proses *telemarketing* menjadi sia-sia dan menyebabkan marketing expenses justru meningkat.\n",
    "\n",
    "#### False Negative (FN) : \n",
    "\n",
    "\"Kita memprediksi pelanggan tidak setuju menabung, padahal aktualnya setuju.\"\n",
    "\n",
    "**Impact:** Hal ini merugikan karena kita baru saja kehilangan pelanggan potensial.\n",
    "\n",
    "Berdasarkan kosekuensinya, False Positive dan False Positive memiliki risiko yang sama-sama tinggi bagi perusahaan."
   ]
  },
  {
   "cell_type": "code",
   "execution_count": 90,
   "id": "1f9e71b9",
   "metadata": {},
   "outputs": [],
   "source": [
    "## Import Package untuk Evaluation Matrix\n",
    "from sklearn.metrics import confusion_matrix, classification_report, accuracy_score, recall_score, precision_score, f1_score"
   ]
  },
  {
   "cell_type": "code",
   "execution_count": 127,
   "id": "95edef21",
   "metadata": {},
   "outputs": [],
   "source": [
    "## Kemudian kita membuat function untuk menampilkan Evaluation Matrix\n",
    "def Eva_Matrix_Base_Class(model, X_train, X_test, y_train, y_test, Nama):\n",
    "    Model = model.fit(X_train, y_train)\n",
    "    y_pred_train = Model.predict(X_train)\n",
    "    Acc_train = accuracy_score(y_train, y_pred_train)\n",
    "    Rec_train = recall_score(y_train, y_pred_train)\n",
    "    Prec_train = precision_score(y_train, y_pred_train)\n",
    "    F1_train = f1_score(y_train, y_pred_train)\n",
    "    y_pred_test = Model.predict(X_test)\n",
    "    Acc_test = accuracy_score(y_test, y_pred_test)\n",
    "    Rec_test = recall_score(y_test, y_pred_test)\n",
    "    Prec_test = precision_score(y_test, y_pred_test)\n",
    "    F1_test = f1_score(y_test, y_pred_test)\n",
    "    data = {\n",
    "    Nama + \"Training\" : [Acc_train, Rec_train, Prec_train, F1_train],\n",
    "    Nama + \"Testing\" : [Acc_test, Rec_test, Prec_test, F1_test]\n",
    "}\n",
    "    \n",
    "    df = pd.DataFrame(data, index=[\"Accuracy\", \"Recall\", \"Precision\", \"F1\"])\n",
    "    cr_tr = classification_report(y_train, y_pred_train)\n",
    "    cm_tr = confusion_matrix(y_train, y_pred_train, labels=[1, 0])\n",
    "    df_tr = pd.DataFrame(data = cm_tr, columns=['Pred 1', 'Pred 0'], index=['Akt 1', 'Akt 0'])\n",
    "    cr_ts = classification_report(y_test, y_pred_test)\n",
    "    cm_ts = confusion_matrix(y_test, y_pred_test, labels=[1, 0])\n",
    "    df_ts = pd.DataFrame(data = cm_ts, columns=['Pred 1', 'Pred 0'], index=['Akt 1', 'Akt 0'])\n",
    "    return df, cr_tr, df_tr, cr_ts, df_ts"
   ]
  },
  {
   "cell_type": "code",
   "execution_count": 128,
   "id": "f0aff444",
   "metadata": {},
   "outputs": [],
   "source": [
    "## Menjalankan Function Eva_Matrix\n",
    "df_LR, cr_LR_tr, cm_LR_tr, cr_LR_ts, cm_LR_ts = Eva_Matrix_Base_Class(model_LR,X_train,X_test,y_train,y_test,'Logistic Regression')"
   ]
  },
  {
   "cell_type": "code",
   "execution_count": 129,
   "id": "6549b7c0",
   "metadata": {},
   "outputs": [
    {
     "data": {
      "text/html": [
       "<div>\n",
       "<style scoped>\n",
       "    .dataframe tbody tr th:only-of-type {\n",
       "        vertical-align: middle;\n",
       "    }\n",
       "\n",
       "    .dataframe tbody tr th {\n",
       "        vertical-align: top;\n",
       "    }\n",
       "\n",
       "    .dataframe thead th {\n",
       "        text-align: right;\n",
       "    }\n",
       "</style>\n",
       "<table border=\"1\" class=\"dataframe\">\n",
       "  <thead>\n",
       "    <tr style=\"text-align: right;\">\n",
       "      <th></th>\n",
       "      <th>Logistic RegressionTraining</th>\n",
       "      <th>Logistic RegressionTesting</th>\n",
       "    </tr>\n",
       "  </thead>\n",
       "  <tbody>\n",
       "    <tr>\n",
       "      <th>Accuracy</th>\n",
       "      <td>0.732646</td>\n",
       "      <td>0.706044</td>\n",
       "    </tr>\n",
       "    <tr>\n",
       "      <th>Recall</th>\n",
       "      <td>0.889662</td>\n",
       "      <td>0.896825</td>\n",
       "    </tr>\n",
       "    <tr>\n",
       "      <th>Precision</th>\n",
       "      <td>0.763001</td>\n",
       "      <td>0.736156</td>\n",
       "    </tr>\n",
       "    <tr>\n",
       "      <th>F1</th>\n",
       "      <td>0.821478</td>\n",
       "      <td>0.808587</td>\n",
       "    </tr>\n",
       "  </tbody>\n",
       "</table>\n",
       "</div>"
      ],
      "text/plain": [
       "           Logistic RegressionTraining  Logistic RegressionTesting\n",
       "Accuracy                      0.732646                    0.706044\n",
       "Recall                        0.889662                    0.896825\n",
       "Precision                     0.763001                    0.736156\n",
       "F1                            0.821478                    0.808587"
      ]
     },
     "execution_count": 129,
     "metadata": {},
     "output_type": "execute_result"
    }
   ],
   "source": [
    "## Menampilkan evaluation matrix\n",
    "df_LR\n",
    "## Ingat bahwa kita fokus dengan measure f1 score"
   ]
  },
  {
   "cell_type": "code",
   "execution_count": 130,
   "id": "8a8104b9",
   "metadata": {},
   "outputs": [
    {
     "name": "stdout",
     "output_type": "stream",
     "text": [
      "              precision    recall  f1-score   support\n",
      "\n",
      "           0       0.61      0.38      0.47       449\n",
      "           1       0.76      0.89      0.82      1006\n",
      "\n",
      "    accuracy                           0.73      1455\n",
      "   macro avg       0.68      0.64      0.64      1455\n",
      "weighted avg       0.71      0.73      0.71      1455\n",
      "               precision    recall  f1-score   support\n",
      "\n",
      "           0       0.54      0.28      0.37       112\n",
      "           1       0.74      0.90      0.81       252\n",
      "\n",
      "    accuracy                           0.71       364\n",
      "   macro avg       0.64      0.59      0.59       364\n",
      "weighted avg       0.68      0.71      0.67       364\n",
      "\n"
     ]
    }
   ],
   "source": [
    "## MEenampilkan Classification Report\n",
    "print(cr_LR_tr, cr_LR_ts)"
   ]
  },
  {
   "cell_type": "markdown",
   "id": "666f7760",
   "metadata": {},
   "source": [
    "f1 score pada training set dan testing set dari Base Model sebesar 0.82 dan 0.81. Nilai ini sudah cukup ideal. Namun, kita perlu mencoba 'memodifikasi' Base Model dengan beberapa algoritma"
   ]
  },
  {
   "cell_type": "code",
   "execution_count": 95,
   "id": "f6c413b4",
   "metadata": {},
   "outputs": [
    {
     "data": {
      "text/html": [
       "<div>\n",
       "<style scoped>\n",
       "    .dataframe tbody tr th:only-of-type {\n",
       "        vertical-align: middle;\n",
       "    }\n",
       "\n",
       "    .dataframe tbody tr th {\n",
       "        vertical-align: top;\n",
       "    }\n",
       "\n",
       "    .dataframe thead th {\n",
       "        text-align: right;\n",
       "    }\n",
       "</style>\n",
       "<table border=\"1\" class=\"dataframe\">\n",
       "  <thead>\n",
       "    <tr style=\"text-align: right;\">\n",
       "      <th></th>\n",
       "      <th>Pred 1</th>\n",
       "      <th>Pred 0</th>\n",
       "    </tr>\n",
       "  </thead>\n",
       "  <tbody>\n",
       "    <tr>\n",
       "      <th>Akt 1</th>\n",
       "      <td>226</td>\n",
       "      <td>26</td>\n",
       "    </tr>\n",
       "    <tr>\n",
       "      <th>Akt 0</th>\n",
       "      <td>81</td>\n",
       "      <td>31</td>\n",
       "    </tr>\n",
       "  </tbody>\n",
       "</table>\n",
       "</div>"
      ],
      "text/plain": [
       "       Pred 1  Pred 0\n",
       "Akt 1     226      26\n",
       "Akt 0      81      31"
      ]
     },
     "execution_count": 95,
     "metadata": {},
     "output_type": "execute_result"
    }
   ],
   "source": [
    "## Confusion Matrix Testing\n",
    "cm_LR_ts"
   ]
  },
  {
   "cell_type": "markdown",
   "id": "887bc5c7",
   "metadata": {},
   "source": [
    "Jumlah False Positive dan False Negative termasuk sedikit bila dilihat secara proporsinya. Namun, perlu dicoba untuk memperkecil False Positive dan False Negative untuk menemukan model yang ideal."
   ]
  },
  {
   "cell_type": "markdown",
   "id": "605b0ba1",
   "metadata": {},
   "source": [
    "### Base Model with K-Nearest Neighbors"
   ]
  },
  {
   "cell_type": "code",
   "execution_count": 96,
   "id": "d511a6b5",
   "metadata": {},
   "outputs": [],
   "source": [
    "## Import Package\n",
    "from sklearn.neighbors import KNeighborsClassifier"
   ]
  },
  {
   "cell_type": "code",
   "execution_count": 97,
   "id": "28d33642",
   "metadata": {},
   "outputs": [],
   "source": [
    "## Membentuk model KNearest Neighbors\n",
    "model_KNN = KNeighborsClassifier()"
   ]
  },
  {
   "cell_type": "code",
   "execution_count": 98,
   "id": "08b98dfe",
   "metadata": {},
   "outputs": [
    {
     "data": {
      "text/html": [
       "<style>#sk-container-id-2 {color: black;background-color: white;}#sk-container-id-2 pre{padding: 0;}#sk-container-id-2 div.sk-toggleable {background-color: white;}#sk-container-id-2 label.sk-toggleable__label {cursor: pointer;display: block;width: 100%;margin-bottom: 0;padding: 0.3em;box-sizing: border-box;text-align: center;}#sk-container-id-2 label.sk-toggleable__label-arrow:before {content: \"▸\";float: left;margin-right: 0.25em;color: #696969;}#sk-container-id-2 label.sk-toggleable__label-arrow:hover:before {color: black;}#sk-container-id-2 div.sk-estimator:hover label.sk-toggleable__label-arrow:before {color: black;}#sk-container-id-2 div.sk-toggleable__content {max-height: 0;max-width: 0;overflow: hidden;text-align: left;background-color: #f0f8ff;}#sk-container-id-2 div.sk-toggleable__content pre {margin: 0.2em;color: black;border-radius: 0.25em;background-color: #f0f8ff;}#sk-container-id-2 input.sk-toggleable__control:checked~div.sk-toggleable__content {max-height: 200px;max-width: 100%;overflow: auto;}#sk-container-id-2 input.sk-toggleable__control:checked~label.sk-toggleable__label-arrow:before {content: \"▾\";}#sk-container-id-2 div.sk-estimator input.sk-toggleable__control:checked~label.sk-toggleable__label {background-color: #d4ebff;}#sk-container-id-2 div.sk-label input.sk-toggleable__control:checked~label.sk-toggleable__label {background-color: #d4ebff;}#sk-container-id-2 input.sk-hidden--visually {border: 0;clip: rect(1px 1px 1px 1px);clip: rect(1px, 1px, 1px, 1px);height: 1px;margin: -1px;overflow: hidden;padding: 0;position: absolute;width: 1px;}#sk-container-id-2 div.sk-estimator {font-family: monospace;background-color: #f0f8ff;border: 1px dotted black;border-radius: 0.25em;box-sizing: border-box;margin-bottom: 0.5em;}#sk-container-id-2 div.sk-estimator:hover {background-color: #d4ebff;}#sk-container-id-2 div.sk-parallel-item::after {content: \"\";width: 100%;border-bottom: 1px solid gray;flex-grow: 1;}#sk-container-id-2 div.sk-label:hover label.sk-toggleable__label {background-color: #d4ebff;}#sk-container-id-2 div.sk-serial::before {content: \"\";position: absolute;border-left: 1px solid gray;box-sizing: border-box;top: 0;bottom: 0;left: 50%;z-index: 0;}#sk-container-id-2 div.sk-serial {display: flex;flex-direction: column;align-items: center;background-color: white;padding-right: 0.2em;padding-left: 0.2em;position: relative;}#sk-container-id-2 div.sk-item {position: relative;z-index: 1;}#sk-container-id-2 div.sk-parallel {display: flex;align-items: stretch;justify-content: center;background-color: white;position: relative;}#sk-container-id-2 div.sk-item::before, #sk-container-id-2 div.sk-parallel-item::before {content: \"\";position: absolute;border-left: 1px solid gray;box-sizing: border-box;top: 0;bottom: 0;left: 50%;z-index: -1;}#sk-container-id-2 div.sk-parallel-item {display: flex;flex-direction: column;z-index: 1;position: relative;background-color: white;}#sk-container-id-2 div.sk-parallel-item:first-child::after {align-self: flex-end;width: 50%;}#sk-container-id-2 div.sk-parallel-item:last-child::after {align-self: flex-start;width: 50%;}#sk-container-id-2 div.sk-parallel-item:only-child::after {width: 0;}#sk-container-id-2 div.sk-dashed-wrapped {border: 1px dashed gray;margin: 0 0.4em 0.5em 0.4em;box-sizing: border-box;padding-bottom: 0.4em;background-color: white;}#sk-container-id-2 div.sk-label label {font-family: monospace;font-weight: bold;display: inline-block;line-height: 1.2em;}#sk-container-id-2 div.sk-label-container {text-align: center;}#sk-container-id-2 div.sk-container {/* jupyter's `normalize.less` sets `[hidden] { display: none; }` but bootstrap.min.css set `[hidden] { display: none !important; }` so we also need the `!important` here to be able to override the default hidden behavior on the sphinx rendered scikit-learn.org. See: https://github.com/scikit-learn/scikit-learn/issues/21755 */display: inline-block !important;position: relative;}#sk-container-id-2 div.sk-text-repr-fallback {display: none;}</style><div id=\"sk-container-id-2\" class=\"sk-top-container\"><div class=\"sk-text-repr-fallback\"><pre>KNeighborsClassifier()</pre><b>In a Jupyter environment, please rerun this cell to show the HTML representation or trust the notebook. <br />On GitHub, the HTML representation is unable to render, please try loading this page with nbviewer.org.</b></div><div class=\"sk-container\" hidden><div class=\"sk-item\"><div class=\"sk-estimator sk-toggleable\"><input class=\"sk-toggleable__control sk-hidden--visually\" id=\"sk-estimator-id-2\" type=\"checkbox\" checked><label for=\"sk-estimator-id-2\" class=\"sk-toggleable__label sk-toggleable__label-arrow\">KNeighborsClassifier</label><div class=\"sk-toggleable__content\"><pre>KNeighborsClassifier()</pre></div></div></div></div></div>"
      ],
      "text/plain": [
       "KNeighborsClassifier()"
      ]
     },
     "execution_count": 98,
     "metadata": {},
     "output_type": "execute_result"
    }
   ],
   "source": [
    "## Fitting Model\n",
    "model_KNN.fit(X_train, y_train)"
   ]
  },
  {
   "cell_type": "code",
   "execution_count": 131,
   "id": "74184e4e",
   "metadata": {},
   "outputs": [],
   "source": [
    "## Menjalankan function\n",
    "df_KNN, cr_KNN_tr, cm_KNN_tr, cr_KNN_ts, cm_KNN_ts = Eva_Matrix_Base_Class(model_KNN, X_train, X_test, y_train, y_test, 'KNN Base Model')"
   ]
  },
  {
   "cell_type": "code",
   "execution_count": 132,
   "id": "3acdfb10",
   "metadata": {},
   "outputs": [
    {
     "data": {
      "text/html": [
       "<div>\n",
       "<style scoped>\n",
       "    .dataframe tbody tr th:only-of-type {\n",
       "        vertical-align: middle;\n",
       "    }\n",
       "\n",
       "    .dataframe tbody tr th {\n",
       "        vertical-align: top;\n",
       "    }\n",
       "\n",
       "    .dataframe thead th {\n",
       "        text-align: right;\n",
       "    }\n",
       "</style>\n",
       "<table border=\"1\" class=\"dataframe\">\n",
       "  <thead>\n",
       "    <tr style=\"text-align: right;\">\n",
       "      <th></th>\n",
       "      <th>KNN Base ModelTraining</th>\n",
       "      <th>KNN Base ModelTesting</th>\n",
       "    </tr>\n",
       "  </thead>\n",
       "  <tbody>\n",
       "    <tr>\n",
       "      <th>Accuracy</th>\n",
       "      <td>0.810997</td>\n",
       "      <td>0.659341</td>\n",
       "    </tr>\n",
       "    <tr>\n",
       "      <th>Recall</th>\n",
       "      <td>0.892644</td>\n",
       "      <td>0.805556</td>\n",
       "    </tr>\n",
       "    <tr>\n",
       "      <th>Precision</th>\n",
       "      <td>0.843192</td>\n",
       "      <td>0.730216</td>\n",
       "    </tr>\n",
       "    <tr>\n",
       "      <th>F1</th>\n",
       "      <td>0.867214</td>\n",
       "      <td>0.766038</td>\n",
       "    </tr>\n",
       "  </tbody>\n",
       "</table>\n",
       "</div>"
      ],
      "text/plain": [
       "           KNN Base ModelTraining  KNN Base ModelTesting\n",
       "Accuracy                 0.810997               0.659341\n",
       "Recall                   0.892644               0.805556\n",
       "Precision                0.843192               0.730216\n",
       "F1                       0.867214               0.766038"
      ]
     },
     "execution_count": 132,
     "metadata": {},
     "output_type": "execute_result"
    }
   ],
   "source": [
    "## Menampilkan evaluation matrix\n",
    "df_KNN\n",
    "## Ingat bahwa kita fokus dengan measure f1 score"
   ]
  },
  {
   "cell_type": "code",
   "execution_count": 133,
   "id": "f8b8f9bf",
   "metadata": {},
   "outputs": [
    {
     "name": "stdout",
     "output_type": "stream",
     "text": [
      "              precision    recall  f1-score   support\n",
      "\n",
      "           0       0.72      0.63      0.67       449\n",
      "           1       0.84      0.89      0.87      1006\n",
      "\n",
      "    accuracy                           0.81      1455\n",
      "   macro avg       0.78      0.76      0.77      1455\n",
      "weighted avg       0.81      0.81      0.81      1455\n",
      "               precision    recall  f1-score   support\n",
      "\n",
      "           0       0.43      0.33      0.37       112\n",
      "           1       0.73      0.81      0.77       252\n",
      "\n",
      "    accuracy                           0.66       364\n",
      "   macro avg       0.58      0.57      0.57       364\n",
      "weighted avg       0.64      0.66      0.65       364\n",
      "\n"
     ]
    }
   ],
   "source": [
    "## Menampilkan classification report\n",
    "print(cr_KNN_tr, cr_KNN_ts)"
   ]
  },
  {
   "cell_type": "markdown",
   "id": "295bce8c",
   "metadata": {},
   "source": [
    "Bila dibangingkan dengan Base Model sebelumnya, Base Model dengan KNN menghasilkan nilai f1 score testing yang lebih kecil, yaitu di angka 0.77. Untuk hasilnya optimal, model ini perlu dilakukan tuning."
   ]
  },
  {
   "cell_type": "code",
   "execution_count": 134,
   "id": "85fd327e",
   "metadata": {},
   "outputs": [
    {
     "data": {
      "text/html": [
       "<div>\n",
       "<style scoped>\n",
       "    .dataframe tbody tr th:only-of-type {\n",
       "        vertical-align: middle;\n",
       "    }\n",
       "\n",
       "    .dataframe tbody tr th {\n",
       "        vertical-align: top;\n",
       "    }\n",
       "\n",
       "    .dataframe thead th {\n",
       "        text-align: right;\n",
       "    }\n",
       "</style>\n",
       "<table border=\"1\" class=\"dataframe\">\n",
       "  <thead>\n",
       "    <tr style=\"text-align: right;\">\n",
       "      <th></th>\n",
       "      <th>Pred 1</th>\n",
       "      <th>Pred 0</th>\n",
       "    </tr>\n",
       "  </thead>\n",
       "  <tbody>\n",
       "    <tr>\n",
       "      <th>Akt 1</th>\n",
       "      <td>203</td>\n",
       "      <td>49</td>\n",
       "    </tr>\n",
       "    <tr>\n",
       "      <th>Akt 0</th>\n",
       "      <td>75</td>\n",
       "      <td>37</td>\n",
       "    </tr>\n",
       "  </tbody>\n",
       "</table>\n",
       "</div>"
      ],
      "text/plain": [
       "       Pred 1  Pred 0\n",
       "Akt 1     203      49\n",
       "Akt 0      75      37"
      ]
     },
     "execution_count": 134,
     "metadata": {},
     "output_type": "execute_result"
    }
   ],
   "source": [
    "## Menampilkan Confusion Matrix - Testing\n",
    "cm_KNN_ts"
   ]
  },
  {
   "cell_type": "markdown",
   "id": "22858dc8",
   "metadata": {},
   "source": [
    "Jumlah false negatif dalam model ini menjadi lebih besar dibandingkan dengan base model. Namun, jumlah false positive di dalam model ini menjadi lebih kecil dibandingkan dengan Base Model. Kita perlu mencoba dengan algoritma lainnya."
   ]
  },
  {
   "cell_type": "markdown",
   "id": "c3b67854",
   "metadata": {},
   "source": [
    "### Base Model with Support Vector Machine"
   ]
  },
  {
   "cell_type": "code",
   "execution_count": 103,
   "id": "84782539",
   "metadata": {},
   "outputs": [],
   "source": [
    "## Import Package\n",
    "from sklearn.svm import SVC"
   ]
  },
  {
   "cell_type": "code",
   "execution_count": 104,
   "id": "a5464929",
   "metadata": {},
   "outputs": [],
   "source": [
    "## Membentuk model\n",
    "model_SVM = SVC()"
   ]
  },
  {
   "cell_type": "code",
   "execution_count": 105,
   "id": "d6e7999b",
   "metadata": {},
   "outputs": [
    {
     "data": {
      "text/html": [
       "<style>#sk-container-id-3 {color: black;background-color: white;}#sk-container-id-3 pre{padding: 0;}#sk-container-id-3 div.sk-toggleable {background-color: white;}#sk-container-id-3 label.sk-toggleable__label {cursor: pointer;display: block;width: 100%;margin-bottom: 0;padding: 0.3em;box-sizing: border-box;text-align: center;}#sk-container-id-3 label.sk-toggleable__label-arrow:before {content: \"▸\";float: left;margin-right: 0.25em;color: #696969;}#sk-container-id-3 label.sk-toggleable__label-arrow:hover:before {color: black;}#sk-container-id-3 div.sk-estimator:hover label.sk-toggleable__label-arrow:before {color: black;}#sk-container-id-3 div.sk-toggleable__content {max-height: 0;max-width: 0;overflow: hidden;text-align: left;background-color: #f0f8ff;}#sk-container-id-3 div.sk-toggleable__content pre {margin: 0.2em;color: black;border-radius: 0.25em;background-color: #f0f8ff;}#sk-container-id-3 input.sk-toggleable__control:checked~div.sk-toggleable__content {max-height: 200px;max-width: 100%;overflow: auto;}#sk-container-id-3 input.sk-toggleable__control:checked~label.sk-toggleable__label-arrow:before {content: \"▾\";}#sk-container-id-3 div.sk-estimator input.sk-toggleable__control:checked~label.sk-toggleable__label {background-color: #d4ebff;}#sk-container-id-3 div.sk-label input.sk-toggleable__control:checked~label.sk-toggleable__label {background-color: #d4ebff;}#sk-container-id-3 input.sk-hidden--visually {border: 0;clip: rect(1px 1px 1px 1px);clip: rect(1px, 1px, 1px, 1px);height: 1px;margin: -1px;overflow: hidden;padding: 0;position: absolute;width: 1px;}#sk-container-id-3 div.sk-estimator {font-family: monospace;background-color: #f0f8ff;border: 1px dotted black;border-radius: 0.25em;box-sizing: border-box;margin-bottom: 0.5em;}#sk-container-id-3 div.sk-estimator:hover {background-color: #d4ebff;}#sk-container-id-3 div.sk-parallel-item::after {content: \"\";width: 100%;border-bottom: 1px solid gray;flex-grow: 1;}#sk-container-id-3 div.sk-label:hover label.sk-toggleable__label {background-color: #d4ebff;}#sk-container-id-3 div.sk-serial::before {content: \"\";position: absolute;border-left: 1px solid gray;box-sizing: border-box;top: 0;bottom: 0;left: 50%;z-index: 0;}#sk-container-id-3 div.sk-serial {display: flex;flex-direction: column;align-items: center;background-color: white;padding-right: 0.2em;padding-left: 0.2em;position: relative;}#sk-container-id-3 div.sk-item {position: relative;z-index: 1;}#sk-container-id-3 div.sk-parallel {display: flex;align-items: stretch;justify-content: center;background-color: white;position: relative;}#sk-container-id-3 div.sk-item::before, #sk-container-id-3 div.sk-parallel-item::before {content: \"\";position: absolute;border-left: 1px solid gray;box-sizing: border-box;top: 0;bottom: 0;left: 50%;z-index: -1;}#sk-container-id-3 div.sk-parallel-item {display: flex;flex-direction: column;z-index: 1;position: relative;background-color: white;}#sk-container-id-3 div.sk-parallel-item:first-child::after {align-self: flex-end;width: 50%;}#sk-container-id-3 div.sk-parallel-item:last-child::after {align-self: flex-start;width: 50%;}#sk-container-id-3 div.sk-parallel-item:only-child::after {width: 0;}#sk-container-id-3 div.sk-dashed-wrapped {border: 1px dashed gray;margin: 0 0.4em 0.5em 0.4em;box-sizing: border-box;padding-bottom: 0.4em;background-color: white;}#sk-container-id-3 div.sk-label label {font-family: monospace;font-weight: bold;display: inline-block;line-height: 1.2em;}#sk-container-id-3 div.sk-label-container {text-align: center;}#sk-container-id-3 div.sk-container {/* jupyter's `normalize.less` sets `[hidden] { display: none; }` but bootstrap.min.css set `[hidden] { display: none !important; }` so we also need the `!important` here to be able to override the default hidden behavior on the sphinx rendered scikit-learn.org. See: https://github.com/scikit-learn/scikit-learn/issues/21755 */display: inline-block !important;position: relative;}#sk-container-id-3 div.sk-text-repr-fallback {display: none;}</style><div id=\"sk-container-id-3\" class=\"sk-top-container\"><div class=\"sk-text-repr-fallback\"><pre>SVC()</pre><b>In a Jupyter environment, please rerun this cell to show the HTML representation or trust the notebook. <br />On GitHub, the HTML representation is unable to render, please try loading this page with nbviewer.org.</b></div><div class=\"sk-container\" hidden><div class=\"sk-item\"><div class=\"sk-estimator sk-toggleable\"><input class=\"sk-toggleable__control sk-hidden--visually\" id=\"sk-estimator-id-3\" type=\"checkbox\" checked><label for=\"sk-estimator-id-3\" class=\"sk-toggleable__label sk-toggleable__label-arrow\">SVC</label><div class=\"sk-toggleable__content\"><pre>SVC()</pre></div></div></div></div></div>"
      ],
      "text/plain": [
       "SVC()"
      ]
     },
     "execution_count": 105,
     "metadata": {},
     "output_type": "execute_result"
    }
   ],
   "source": [
    "## Melakukan fitting pada model\n",
    "model_SVM.fit(X_train, y_train)"
   ]
  },
  {
   "cell_type": "code",
   "execution_count": 135,
   "id": "44c3c99e",
   "metadata": {},
   "outputs": [],
   "source": [
    "## Menjalankan fungsi\n",
    "df_SVM, cr_SVM_tr, cm_SVM_tr, cr_SVM_ts, cm_SVM_ts = Eva_Matrix_Base_Class(model_SVM, X_train, X_test, y_train, y_test,'SVM Base')\n"
   ]
  },
  {
   "cell_type": "code",
   "execution_count": 136,
   "id": "88477407",
   "metadata": {},
   "outputs": [
    {
     "data": {
      "text/html": [
       "<div>\n",
       "<style scoped>\n",
       "    .dataframe tbody tr th:only-of-type {\n",
       "        vertical-align: middle;\n",
       "    }\n",
       "\n",
       "    .dataframe tbody tr th {\n",
       "        vertical-align: top;\n",
       "    }\n",
       "\n",
       "    .dataframe thead th {\n",
       "        text-align: right;\n",
       "    }\n",
       "</style>\n",
       "<table border=\"1\" class=\"dataframe\">\n",
       "  <thead>\n",
       "    <tr style=\"text-align: right;\">\n",
       "      <th></th>\n",
       "      <th>SVM BaseTraining</th>\n",
       "      <th>SVM BaseTesting</th>\n",
       "    </tr>\n",
       "  </thead>\n",
       "  <tbody>\n",
       "    <tr>\n",
       "      <th>Accuracy</th>\n",
       "      <td>0.691409</td>\n",
       "      <td>0.692308</td>\n",
       "    </tr>\n",
       "    <tr>\n",
       "      <th>Recall</th>\n",
       "      <td>1.000000</td>\n",
       "      <td>1.000000</td>\n",
       "    </tr>\n",
       "    <tr>\n",
       "      <th>Precision</th>\n",
       "      <td>0.691409</td>\n",
       "      <td>0.692308</td>\n",
       "    </tr>\n",
       "    <tr>\n",
       "      <th>F1</th>\n",
       "      <td>0.817554</td>\n",
       "      <td>0.818182</td>\n",
       "    </tr>\n",
       "  </tbody>\n",
       "</table>\n",
       "</div>"
      ],
      "text/plain": [
       "           SVM BaseTraining  SVM BaseTesting\n",
       "Accuracy           0.691409         0.692308\n",
       "Recall             1.000000         1.000000\n",
       "Precision          0.691409         0.692308\n",
       "F1                 0.817554         0.818182"
      ]
     },
     "execution_count": 136,
     "metadata": {},
     "output_type": "execute_result"
    }
   ],
   "source": [
    "## Menampilkan evaluation matrix\n",
    "df_SVM\n",
    "## Ingat bahwa kita fokus dengan measure f1 score"
   ]
  },
  {
   "cell_type": "code",
   "execution_count": 137,
   "id": "edba480b",
   "metadata": {},
   "outputs": [
    {
     "name": "stdout",
     "output_type": "stream",
     "text": [
      "              precision    recall  f1-score   support\n",
      "\n",
      "           0       0.00      0.00      0.00       449\n",
      "           1       0.69      1.00      0.82      1006\n",
      "\n",
      "    accuracy                           0.69      1455\n",
      "   macro avg       0.35      0.50      0.41      1455\n",
      "weighted avg       0.48      0.69      0.57      1455\n",
      "               precision    recall  f1-score   support\n",
      "\n",
      "           0       0.00      0.00      0.00       112\n",
      "           1       0.69      1.00      0.82       252\n",
      "\n",
      "    accuracy                           0.69       364\n",
      "   macro avg       0.35      0.50      0.41       364\n",
      "weighted avg       0.48      0.69      0.57       364\n",
      "\n"
     ]
    }
   ],
   "source": [
    "## Menampilkan Classification Report\n",
    "print(cr_SVM_tr, cr_SVM_ts)"
   ]
  },
  {
   "cell_type": "markdown",
   "id": "bcf9e34e",
   "metadata": {},
   "source": [
    "Nilai f1 score pada training set dan testing set bernilai sama, yaitu 0.82. Hasilnya cukup ideal dan menunjukkan bahwa model stabil bila dibandingkan dengan algoritma sebelumnya."
   ]
  },
  {
   "cell_type": "code",
   "execution_count": 109,
   "id": "ebfecded",
   "metadata": {},
   "outputs": [
    {
     "data": {
      "text/html": [
       "<div>\n",
       "<style scoped>\n",
       "    .dataframe tbody tr th:only-of-type {\n",
       "        vertical-align: middle;\n",
       "    }\n",
       "\n",
       "    .dataframe tbody tr th {\n",
       "        vertical-align: top;\n",
       "    }\n",
       "\n",
       "    .dataframe thead th {\n",
       "        text-align: right;\n",
       "    }\n",
       "</style>\n",
       "<table border=\"1\" class=\"dataframe\">\n",
       "  <thead>\n",
       "    <tr style=\"text-align: right;\">\n",
       "      <th></th>\n",
       "      <th>Pred 1</th>\n",
       "      <th>Pred 0</th>\n",
       "    </tr>\n",
       "  </thead>\n",
       "  <tbody>\n",
       "    <tr>\n",
       "      <th>Akt 1</th>\n",
       "      <td>252</td>\n",
       "      <td>0</td>\n",
       "    </tr>\n",
       "    <tr>\n",
       "      <th>Akt 0</th>\n",
       "      <td>112</td>\n",
       "      <td>0</td>\n",
       "    </tr>\n",
       "  </tbody>\n",
       "</table>\n",
       "</div>"
      ],
      "text/plain": [
       "       Pred 1  Pred 0\n",
       "Akt 1     252       0\n",
       "Akt 0     112       0"
      ]
     },
     "execution_count": 109,
     "metadata": {},
     "output_type": "execute_result"
    }
   ],
   "source": [
    "## Menampilkan confusion matrix - testing\n",
    "cm_SVM_ts"
   ]
  },
  {
   "cell_type": "markdown",
   "id": "344c5728",
   "metadata": {},
   "source": [
    "Jumlah false positive justru bertambah banyak, dan sebaliknya jumlah false negatif menjadi 0. Dari hasil confusion matrix ini, dapat menghasilkan model yang buruk, meminimalkan terjadinya customer pergi, namun memaksimalkan terjadinya expense yang berlebih."
   ]
  },
  {
   "cell_type": "markdown",
   "id": "f517da0f",
   "metadata": {},
   "source": [
    "### Base Model with Decision Tree"
   ]
  },
  {
   "cell_type": "code",
   "execution_count": 110,
   "id": "0813b82b",
   "metadata": {},
   "outputs": [],
   "source": [
    "## Import Package\n",
    "from sklearn.tree import DecisionTreeClassifier"
   ]
  },
  {
   "cell_type": "code",
   "execution_count": 111,
   "id": "f2179086",
   "metadata": {},
   "outputs": [],
   "source": [
    "## Membentuk model\n",
    "model_DT = DecisionTreeClassifier()"
   ]
  },
  {
   "cell_type": "code",
   "execution_count": 112,
   "id": "ceef7da6",
   "metadata": {},
   "outputs": [
    {
     "data": {
      "text/html": [
       "<style>#sk-container-id-4 {color: black;background-color: white;}#sk-container-id-4 pre{padding: 0;}#sk-container-id-4 div.sk-toggleable {background-color: white;}#sk-container-id-4 label.sk-toggleable__label {cursor: pointer;display: block;width: 100%;margin-bottom: 0;padding: 0.3em;box-sizing: border-box;text-align: center;}#sk-container-id-4 label.sk-toggleable__label-arrow:before {content: \"▸\";float: left;margin-right: 0.25em;color: #696969;}#sk-container-id-4 label.sk-toggleable__label-arrow:hover:before {color: black;}#sk-container-id-4 div.sk-estimator:hover label.sk-toggleable__label-arrow:before {color: black;}#sk-container-id-4 div.sk-toggleable__content {max-height: 0;max-width: 0;overflow: hidden;text-align: left;background-color: #f0f8ff;}#sk-container-id-4 div.sk-toggleable__content pre {margin: 0.2em;color: black;border-radius: 0.25em;background-color: #f0f8ff;}#sk-container-id-4 input.sk-toggleable__control:checked~div.sk-toggleable__content {max-height: 200px;max-width: 100%;overflow: auto;}#sk-container-id-4 input.sk-toggleable__control:checked~label.sk-toggleable__label-arrow:before {content: \"▾\";}#sk-container-id-4 div.sk-estimator input.sk-toggleable__control:checked~label.sk-toggleable__label {background-color: #d4ebff;}#sk-container-id-4 div.sk-label input.sk-toggleable__control:checked~label.sk-toggleable__label {background-color: #d4ebff;}#sk-container-id-4 input.sk-hidden--visually {border: 0;clip: rect(1px 1px 1px 1px);clip: rect(1px, 1px, 1px, 1px);height: 1px;margin: -1px;overflow: hidden;padding: 0;position: absolute;width: 1px;}#sk-container-id-4 div.sk-estimator {font-family: monospace;background-color: #f0f8ff;border: 1px dotted black;border-radius: 0.25em;box-sizing: border-box;margin-bottom: 0.5em;}#sk-container-id-4 div.sk-estimator:hover {background-color: #d4ebff;}#sk-container-id-4 div.sk-parallel-item::after {content: \"\";width: 100%;border-bottom: 1px solid gray;flex-grow: 1;}#sk-container-id-4 div.sk-label:hover label.sk-toggleable__label {background-color: #d4ebff;}#sk-container-id-4 div.sk-serial::before {content: \"\";position: absolute;border-left: 1px solid gray;box-sizing: border-box;top: 0;bottom: 0;left: 50%;z-index: 0;}#sk-container-id-4 div.sk-serial {display: flex;flex-direction: column;align-items: center;background-color: white;padding-right: 0.2em;padding-left: 0.2em;position: relative;}#sk-container-id-4 div.sk-item {position: relative;z-index: 1;}#sk-container-id-4 div.sk-parallel {display: flex;align-items: stretch;justify-content: center;background-color: white;position: relative;}#sk-container-id-4 div.sk-item::before, #sk-container-id-4 div.sk-parallel-item::before {content: \"\";position: absolute;border-left: 1px solid gray;box-sizing: border-box;top: 0;bottom: 0;left: 50%;z-index: -1;}#sk-container-id-4 div.sk-parallel-item {display: flex;flex-direction: column;z-index: 1;position: relative;background-color: white;}#sk-container-id-4 div.sk-parallel-item:first-child::after {align-self: flex-end;width: 50%;}#sk-container-id-4 div.sk-parallel-item:last-child::after {align-self: flex-start;width: 50%;}#sk-container-id-4 div.sk-parallel-item:only-child::after {width: 0;}#sk-container-id-4 div.sk-dashed-wrapped {border: 1px dashed gray;margin: 0 0.4em 0.5em 0.4em;box-sizing: border-box;padding-bottom: 0.4em;background-color: white;}#sk-container-id-4 div.sk-label label {font-family: monospace;font-weight: bold;display: inline-block;line-height: 1.2em;}#sk-container-id-4 div.sk-label-container {text-align: center;}#sk-container-id-4 div.sk-container {/* jupyter's `normalize.less` sets `[hidden] { display: none; }` but bootstrap.min.css set `[hidden] { display: none !important; }` so we also need the `!important` here to be able to override the default hidden behavior on the sphinx rendered scikit-learn.org. See: https://github.com/scikit-learn/scikit-learn/issues/21755 */display: inline-block !important;position: relative;}#sk-container-id-4 div.sk-text-repr-fallback {display: none;}</style><div id=\"sk-container-id-4\" class=\"sk-top-container\"><div class=\"sk-text-repr-fallback\"><pre>DecisionTreeClassifier()</pre><b>In a Jupyter environment, please rerun this cell to show the HTML representation or trust the notebook. <br />On GitHub, the HTML representation is unable to render, please try loading this page with nbviewer.org.</b></div><div class=\"sk-container\" hidden><div class=\"sk-item\"><div class=\"sk-estimator sk-toggleable\"><input class=\"sk-toggleable__control sk-hidden--visually\" id=\"sk-estimator-id-4\" type=\"checkbox\" checked><label for=\"sk-estimator-id-4\" class=\"sk-toggleable__label sk-toggleable__label-arrow\">DecisionTreeClassifier</label><div class=\"sk-toggleable__content\"><pre>DecisionTreeClassifier()</pre></div></div></div></div></div>"
      ],
      "text/plain": [
       "DecisionTreeClassifier()"
      ]
     },
     "execution_count": 112,
     "metadata": {},
     "output_type": "execute_result"
    }
   ],
   "source": [
    "## Melakukan fitting pada model\n",
    "model_DT.fit(X_train, y_train)"
   ]
  },
  {
   "cell_type": "code",
   "execution_count": 138,
   "id": "97f0c9b6",
   "metadata": {},
   "outputs": [],
   "source": [
    "## Menjalankan fungsi\n",
    "df_DT, cr_DT_tr, cm_DT_tr, cr_DT_ts, cm_DT_ts = Eva_Matrix_Base_Class(model_DT, X_train, X_test, y_train, y_test,'Decision Tree Base')"
   ]
  },
  {
   "cell_type": "code",
   "execution_count": 139,
   "id": "5f0b37b3",
   "metadata": {},
   "outputs": [
    {
     "data": {
      "text/html": [
       "<div>\n",
       "<style scoped>\n",
       "    .dataframe tbody tr th:only-of-type {\n",
       "        vertical-align: middle;\n",
       "    }\n",
       "\n",
       "    .dataframe tbody tr th {\n",
       "        vertical-align: top;\n",
       "    }\n",
       "\n",
       "    .dataframe thead th {\n",
       "        text-align: right;\n",
       "    }\n",
       "</style>\n",
       "<table border=\"1\" class=\"dataframe\">\n",
       "  <thead>\n",
       "    <tr style=\"text-align: right;\">\n",
       "      <th></th>\n",
       "      <th>Decision Tree BaseTraining</th>\n",
       "      <th>Decision Tree BaseTesting</th>\n",
       "    </tr>\n",
       "  </thead>\n",
       "  <tbody>\n",
       "    <tr>\n",
       "      <th>Accuracy</th>\n",
       "      <td>0.997938</td>\n",
       "      <td>0.700549</td>\n",
       "    </tr>\n",
       "    <tr>\n",
       "      <th>Recall</th>\n",
       "      <td>0.997018</td>\n",
       "      <td>0.801587</td>\n",
       "    </tr>\n",
       "    <tr>\n",
       "      <th>Precision</th>\n",
       "      <td>1.000000</td>\n",
       "      <td>0.773946</td>\n",
       "    </tr>\n",
       "    <tr>\n",
       "      <th>F1</th>\n",
       "      <td>0.998507</td>\n",
       "      <td>0.787524</td>\n",
       "    </tr>\n",
       "  </tbody>\n",
       "</table>\n",
       "</div>"
      ],
      "text/plain": [
       "           Decision Tree BaseTraining  Decision Tree BaseTesting\n",
       "Accuracy                     0.997938                   0.700549\n",
       "Recall                       0.997018                   0.801587\n",
       "Precision                    1.000000                   0.773946\n",
       "F1                           0.998507                   0.787524"
      ]
     },
     "execution_count": 139,
     "metadata": {},
     "output_type": "execute_result"
    }
   ],
   "source": [
    "## Menampilkan evaluation matrix\n",
    "df_DT\n",
    "## Ingat bahwa kita fokus dengan measure f1 score"
   ]
  },
  {
   "cell_type": "code",
   "execution_count": 142,
   "id": "6010c324",
   "metadata": {},
   "outputs": [
    {
     "name": "stdout",
     "output_type": "stream",
     "text": [
      "              precision    recall  f1-score   support\n",
      "\n",
      "           0       0.99      1.00      1.00       449\n",
      "           1       1.00      1.00      1.00      1006\n",
      "\n",
      "    accuracy                           1.00      1455\n",
      "   macro avg       1.00      1.00      1.00      1455\n",
      "weighted avg       1.00      1.00      1.00      1455\n",
      "               precision    recall  f1-score   support\n",
      "\n",
      "           0       0.51      0.47      0.49       112\n",
      "           1       0.77      0.80      0.79       252\n",
      "\n",
      "    accuracy                           0.70       364\n",
      "   macro avg       0.64      0.64      0.64       364\n",
      "weighted avg       0.69      0.70      0.70       364\n",
      "\n"
     ]
    }
   ],
   "source": [
    "## Menampilkan Classification Report\n",
    "print(cr_DT_tr, cr_DT_ts)"
   ]
  },
  {
   "cell_type": "markdown",
   "id": "64414b27",
   "metadata": {},
   "source": [
    "Nilai f1 score pada model ini terlalu bagus (too good to be true) pada saat training, yaitu sebesar 1.00, dan menurun menjadi sebesar 0.70. Hal ini menunjukkan bahwa terjadi overfitting pada model."
   ]
  },
  {
   "cell_type": "code",
   "execution_count": 141,
   "id": "2810edc4",
   "metadata": {},
   "outputs": [
    {
     "data": {
      "text/html": [
       "<div>\n",
       "<style scoped>\n",
       "    .dataframe tbody tr th:only-of-type {\n",
       "        vertical-align: middle;\n",
       "    }\n",
       "\n",
       "    .dataframe tbody tr th {\n",
       "        vertical-align: top;\n",
       "    }\n",
       "\n",
       "    .dataframe thead th {\n",
       "        text-align: right;\n",
       "    }\n",
       "</style>\n",
       "<table border=\"1\" class=\"dataframe\">\n",
       "  <thead>\n",
       "    <tr style=\"text-align: right;\">\n",
       "      <th></th>\n",
       "      <th>Pred 1</th>\n",
       "      <th>Pred 0</th>\n",
       "    </tr>\n",
       "  </thead>\n",
       "  <tbody>\n",
       "    <tr>\n",
       "      <th>Akt 1</th>\n",
       "      <td>202</td>\n",
       "      <td>50</td>\n",
       "    </tr>\n",
       "    <tr>\n",
       "      <th>Akt 0</th>\n",
       "      <td>59</td>\n",
       "      <td>53</td>\n",
       "    </tr>\n",
       "  </tbody>\n",
       "</table>\n",
       "</div>"
      ],
      "text/plain": [
       "       Pred 1  Pred 0\n",
       "Akt 1     202      50\n",
       "Akt 0      59      53"
      ]
     },
     "execution_count": 141,
     "metadata": {},
     "output_type": "execute_result"
    }
   ],
   "source": [
    "## Menampilkan confusion matrix - testing\n",
    "cm_DT_ts"
   ]
  },
  {
   "cell_type": "markdown",
   "id": "e1e0e8f4",
   "metadata": {},
   "source": [
    "Jumlah false positive dan false negative memiliki proporsi yang kecil bila dibandingkan dengan model lainnya. Besar false positive dan false negative juga cenderung stabil, tidak ada perbedaan yang terlalu signifikan."
   ]
  },
  {
   "cell_type": "markdown",
   "id": "353e51eb",
   "metadata": {},
   "source": [
    "### Base Model with Random Forest"
   ]
  },
  {
   "cell_type": "code",
   "execution_count": 117,
   "id": "1de0cc67",
   "metadata": {},
   "outputs": [],
   "source": [
    "## Import Package\n",
    "from sklearn.ensemble import RandomForestClassifier"
   ]
  },
  {
   "cell_type": "code",
   "execution_count": 118,
   "id": "3bbabf09",
   "metadata": {},
   "outputs": [],
   "source": [
    "## Membentuk model\n",
    "model_RF = RandomForestClassifier()"
   ]
  },
  {
   "cell_type": "code",
   "execution_count": 119,
   "id": "b264780c",
   "metadata": {},
   "outputs": [
    {
     "data": {
      "text/html": [
       "<style>#sk-container-id-5 {color: black;background-color: white;}#sk-container-id-5 pre{padding: 0;}#sk-container-id-5 div.sk-toggleable {background-color: white;}#sk-container-id-5 label.sk-toggleable__label {cursor: pointer;display: block;width: 100%;margin-bottom: 0;padding: 0.3em;box-sizing: border-box;text-align: center;}#sk-container-id-5 label.sk-toggleable__label-arrow:before {content: \"▸\";float: left;margin-right: 0.25em;color: #696969;}#sk-container-id-5 label.sk-toggleable__label-arrow:hover:before {color: black;}#sk-container-id-5 div.sk-estimator:hover label.sk-toggleable__label-arrow:before {color: black;}#sk-container-id-5 div.sk-toggleable__content {max-height: 0;max-width: 0;overflow: hidden;text-align: left;background-color: #f0f8ff;}#sk-container-id-5 div.sk-toggleable__content pre {margin: 0.2em;color: black;border-radius: 0.25em;background-color: #f0f8ff;}#sk-container-id-5 input.sk-toggleable__control:checked~div.sk-toggleable__content {max-height: 200px;max-width: 100%;overflow: auto;}#sk-container-id-5 input.sk-toggleable__control:checked~label.sk-toggleable__label-arrow:before {content: \"▾\";}#sk-container-id-5 div.sk-estimator input.sk-toggleable__control:checked~label.sk-toggleable__label {background-color: #d4ebff;}#sk-container-id-5 div.sk-label input.sk-toggleable__control:checked~label.sk-toggleable__label {background-color: #d4ebff;}#sk-container-id-5 input.sk-hidden--visually {border: 0;clip: rect(1px 1px 1px 1px);clip: rect(1px, 1px, 1px, 1px);height: 1px;margin: -1px;overflow: hidden;padding: 0;position: absolute;width: 1px;}#sk-container-id-5 div.sk-estimator {font-family: monospace;background-color: #f0f8ff;border: 1px dotted black;border-radius: 0.25em;box-sizing: border-box;margin-bottom: 0.5em;}#sk-container-id-5 div.sk-estimator:hover {background-color: #d4ebff;}#sk-container-id-5 div.sk-parallel-item::after {content: \"\";width: 100%;border-bottom: 1px solid gray;flex-grow: 1;}#sk-container-id-5 div.sk-label:hover label.sk-toggleable__label {background-color: #d4ebff;}#sk-container-id-5 div.sk-serial::before {content: \"\";position: absolute;border-left: 1px solid gray;box-sizing: border-box;top: 0;bottom: 0;left: 50%;z-index: 0;}#sk-container-id-5 div.sk-serial {display: flex;flex-direction: column;align-items: center;background-color: white;padding-right: 0.2em;padding-left: 0.2em;position: relative;}#sk-container-id-5 div.sk-item {position: relative;z-index: 1;}#sk-container-id-5 div.sk-parallel {display: flex;align-items: stretch;justify-content: center;background-color: white;position: relative;}#sk-container-id-5 div.sk-item::before, #sk-container-id-5 div.sk-parallel-item::before {content: \"\";position: absolute;border-left: 1px solid gray;box-sizing: border-box;top: 0;bottom: 0;left: 50%;z-index: -1;}#sk-container-id-5 div.sk-parallel-item {display: flex;flex-direction: column;z-index: 1;position: relative;background-color: white;}#sk-container-id-5 div.sk-parallel-item:first-child::after {align-self: flex-end;width: 50%;}#sk-container-id-5 div.sk-parallel-item:last-child::after {align-self: flex-start;width: 50%;}#sk-container-id-5 div.sk-parallel-item:only-child::after {width: 0;}#sk-container-id-5 div.sk-dashed-wrapped {border: 1px dashed gray;margin: 0 0.4em 0.5em 0.4em;box-sizing: border-box;padding-bottom: 0.4em;background-color: white;}#sk-container-id-5 div.sk-label label {font-family: monospace;font-weight: bold;display: inline-block;line-height: 1.2em;}#sk-container-id-5 div.sk-label-container {text-align: center;}#sk-container-id-5 div.sk-container {/* jupyter's `normalize.less` sets `[hidden] { display: none; }` but bootstrap.min.css set `[hidden] { display: none !important; }` so we also need the `!important` here to be able to override the default hidden behavior on the sphinx rendered scikit-learn.org. See: https://github.com/scikit-learn/scikit-learn/issues/21755 */display: inline-block !important;position: relative;}#sk-container-id-5 div.sk-text-repr-fallback {display: none;}</style><div id=\"sk-container-id-5\" class=\"sk-top-container\"><div class=\"sk-text-repr-fallback\"><pre>RandomForestClassifier()</pre><b>In a Jupyter environment, please rerun this cell to show the HTML representation or trust the notebook. <br />On GitHub, the HTML representation is unable to render, please try loading this page with nbviewer.org.</b></div><div class=\"sk-container\" hidden><div class=\"sk-item\"><div class=\"sk-estimator sk-toggleable\"><input class=\"sk-toggleable__control sk-hidden--visually\" id=\"sk-estimator-id-5\" type=\"checkbox\" checked><label for=\"sk-estimator-id-5\" class=\"sk-toggleable__label sk-toggleable__label-arrow\">RandomForestClassifier</label><div class=\"sk-toggleable__content\"><pre>RandomForestClassifier()</pre></div></div></div></div></div>"
      ],
      "text/plain": [
       "RandomForestClassifier()"
      ]
     },
     "execution_count": 119,
     "metadata": {},
     "output_type": "execute_result"
    }
   ],
   "source": [
    "## Melakukan fitting pada model\n",
    "model_RF.fit(X_train, y_train)"
   ]
  },
  {
   "cell_type": "code",
   "execution_count": 143,
   "id": "61451fb8",
   "metadata": {},
   "outputs": [],
   "source": [
    "## Menjalankan fungsi\n",
    "df_RF, cr_RF_tr, cm_RF_tr, cr_RF_ts, cm_RF_ts = Eva_Matrix_Base_Class(model_RF, X_train, X_test, y_train, y_test,'Random Forest Base')"
   ]
  },
  {
   "cell_type": "code",
   "execution_count": 145,
   "id": "bb04b9e6",
   "metadata": {},
   "outputs": [
    {
     "data": {
      "text/html": [
       "<div>\n",
       "<style scoped>\n",
       "    .dataframe tbody tr th:only-of-type {\n",
       "        vertical-align: middle;\n",
       "    }\n",
       "\n",
       "    .dataframe tbody tr th {\n",
       "        vertical-align: top;\n",
       "    }\n",
       "\n",
       "    .dataframe thead th {\n",
       "        text-align: right;\n",
       "    }\n",
       "</style>\n",
       "<table border=\"1\" class=\"dataframe\">\n",
       "  <thead>\n",
       "    <tr style=\"text-align: right;\">\n",
       "      <th></th>\n",
       "      <th>Random Forest BaseTraining</th>\n",
       "      <th>Random Forest BaseTesting</th>\n",
       "    </tr>\n",
       "  </thead>\n",
       "  <tbody>\n",
       "    <tr>\n",
       "      <th>Accuracy</th>\n",
       "      <td>0.997938</td>\n",
       "      <td>0.725275</td>\n",
       "    </tr>\n",
       "    <tr>\n",
       "      <th>Recall</th>\n",
       "      <td>0.999006</td>\n",
       "      <td>0.865079</td>\n",
       "    </tr>\n",
       "    <tr>\n",
       "      <th>Precision</th>\n",
       "      <td>0.998014</td>\n",
       "      <td>0.767606</td>\n",
       "    </tr>\n",
       "    <tr>\n",
       "      <th>F1</th>\n",
       "      <td>0.998510</td>\n",
       "      <td>0.813433</td>\n",
       "    </tr>\n",
       "  </tbody>\n",
       "</table>\n",
       "</div>"
      ],
      "text/plain": [
       "           Random Forest BaseTraining  Random Forest BaseTesting\n",
       "Accuracy                     0.997938                   0.725275\n",
       "Recall                       0.999006                   0.865079\n",
       "Precision                    0.998014                   0.767606\n",
       "F1                           0.998510                   0.813433"
      ]
     },
     "execution_count": 145,
     "metadata": {},
     "output_type": "execute_result"
    }
   ],
   "source": [
    "## Menampilkan evaluation matrix\n",
    "df_RF\n",
    "## Ingat bahwa kita fokus dengan measure f1 score"
   ]
  },
  {
   "cell_type": "code",
   "execution_count": 146,
   "id": "ed8c7b3e",
   "metadata": {},
   "outputs": [
    {
     "name": "stdout",
     "output_type": "stream",
     "text": [
      "              precision    recall  f1-score   support\n",
      "\n",
      "           0       1.00      1.00      1.00       449\n",
      "           1       1.00      1.00      1.00      1006\n",
      "\n",
      "    accuracy                           1.00      1455\n",
      "   macro avg       1.00      1.00      1.00      1455\n",
      "weighted avg       1.00      1.00      1.00      1455\n",
      "               precision    recall  f1-score   support\n",
      "\n",
      "           0       0.57      0.41      0.48       112\n",
      "           1       0.77      0.87      0.81       252\n",
      "\n",
      "    accuracy                           0.73       364\n",
      "   macro avg       0.67      0.64      0.65       364\n",
      "weighted avg       0.71      0.73      0.71       364\n",
      "\n"
     ]
    }
   ],
   "source": [
    "## Menampilkan Classification Report\n",
    "print(cr_RF_tr, cr_RF_ts)"
   ]
  },
  {
   "cell_type": "markdown",
   "id": "f118225c",
   "metadata": {},
   "source": [
    "Sama seperti model dengan Decision Tree, f1 score pada model ini terlalu bagus (too good to be true) pada saat training, yaitu sebesar 1.00, dan menurun menjadi sebesar 0.81. Hal ini menunjukkan bahwa terjadi overfitting pada model."
   ]
  },
  {
   "cell_type": "code",
   "execution_count": 123,
   "id": "7dff92cf",
   "metadata": {
    "scrolled": true
   },
   "outputs": [
    {
     "data": {
      "text/html": [
       "<div>\n",
       "<style scoped>\n",
       "    .dataframe tbody tr th:only-of-type {\n",
       "        vertical-align: middle;\n",
       "    }\n",
       "\n",
       "    .dataframe tbody tr th {\n",
       "        vertical-align: top;\n",
       "    }\n",
       "\n",
       "    .dataframe thead th {\n",
       "        text-align: right;\n",
       "    }\n",
       "</style>\n",
       "<table border=\"1\" class=\"dataframe\">\n",
       "  <thead>\n",
       "    <tr style=\"text-align: right;\">\n",
       "      <th></th>\n",
       "      <th>Pred 1</th>\n",
       "      <th>Pred 0</th>\n",
       "    </tr>\n",
       "  </thead>\n",
       "  <tbody>\n",
       "    <tr>\n",
       "      <th>Akt 1</th>\n",
       "      <td>215</td>\n",
       "      <td>37</td>\n",
       "    </tr>\n",
       "    <tr>\n",
       "      <th>Akt 0</th>\n",
       "      <td>67</td>\n",
       "      <td>45</td>\n",
       "    </tr>\n",
       "  </tbody>\n",
       "</table>\n",
       "</div>"
      ],
      "text/plain": [
       "       Pred 1  Pred 0\n",
       "Akt 1     215      37\n",
       "Akt 0      67      45"
      ]
     },
     "execution_count": 123,
     "metadata": {},
     "output_type": "execute_result"
    }
   ],
   "source": [
    "## Menampilkan confusion matrix - testing\n",
    "cm_RF_ts"
   ]
  },
  {
   "cell_type": "markdown",
   "id": "33e2bf03",
   "metadata": {},
   "source": [
    "Jumlah False Positive dan False Negative memiliki proporsi yang kecil. "
   ]
  },
  {
   "cell_type": "markdown",
   "id": "0240a535",
   "metadata": {},
   "source": [
    "### Base Model : Summary"
   ]
  },
  {
   "cell_type": "code",
   "execution_count": 124,
   "id": "58ddd29e",
   "metadata": {},
   "outputs": [],
   "source": [
    "## Evaluation Matrix"
   ]
  },
  {
   "cell_type": "code",
   "execution_count": 149,
   "id": "a70f18be",
   "metadata": {},
   "outputs": [
    {
     "data": {
      "text/html": [
       "<div>\n",
       "<style scoped>\n",
       "    .dataframe tbody tr th:only-of-type {\n",
       "        vertical-align: middle;\n",
       "    }\n",
       "\n",
       "    .dataframe tbody tr th {\n",
       "        vertical-align: top;\n",
       "    }\n",
       "\n",
       "    .dataframe thead th {\n",
       "        text-align: right;\n",
       "    }\n",
       "</style>\n",
       "<table border=\"1\" class=\"dataframe\">\n",
       "  <thead>\n",
       "    <tr style=\"text-align: right;\">\n",
       "      <th></th>\n",
       "      <th>Logistic RegressionTraining</th>\n",
       "      <th>Logistic RegressionTesting</th>\n",
       "      <th>KNN Base ModelTraining</th>\n",
       "      <th>KNN Base ModelTesting</th>\n",
       "      <th>SVM BaseTraining</th>\n",
       "      <th>SVM BaseTesting</th>\n",
       "      <th>Decision Tree BaseTraining</th>\n",
       "      <th>Decision Tree BaseTesting</th>\n",
       "      <th>Random Forest BaseTraining</th>\n",
       "      <th>Random Forest BaseTesting</th>\n",
       "    </tr>\n",
       "  </thead>\n",
       "  <tbody>\n",
       "    <tr>\n",
       "      <th>Accuracy</th>\n",
       "      <td>0.732646</td>\n",
       "      <td>0.706044</td>\n",
       "      <td>0.810997</td>\n",
       "      <td>0.659341</td>\n",
       "      <td>0.691409</td>\n",
       "      <td>0.692308</td>\n",
       "      <td>0.997938</td>\n",
       "      <td>0.700549</td>\n",
       "      <td>0.997938</td>\n",
       "      <td>0.725275</td>\n",
       "    </tr>\n",
       "    <tr>\n",
       "      <th>Recall</th>\n",
       "      <td>0.889662</td>\n",
       "      <td>0.896825</td>\n",
       "      <td>0.892644</td>\n",
       "      <td>0.805556</td>\n",
       "      <td>1.000000</td>\n",
       "      <td>1.000000</td>\n",
       "      <td>0.997018</td>\n",
       "      <td>0.801587</td>\n",
       "      <td>0.999006</td>\n",
       "      <td>0.865079</td>\n",
       "    </tr>\n",
       "    <tr>\n",
       "      <th>Precision</th>\n",
       "      <td>0.763001</td>\n",
       "      <td>0.736156</td>\n",
       "      <td>0.843192</td>\n",
       "      <td>0.730216</td>\n",
       "      <td>0.691409</td>\n",
       "      <td>0.692308</td>\n",
       "      <td>1.000000</td>\n",
       "      <td>0.773946</td>\n",
       "      <td>0.998014</td>\n",
       "      <td>0.767606</td>\n",
       "    </tr>\n",
       "    <tr>\n",
       "      <th>F1</th>\n",
       "      <td>0.821478</td>\n",
       "      <td>0.808587</td>\n",
       "      <td>0.867214</td>\n",
       "      <td>0.766038</td>\n",
       "      <td>0.817554</td>\n",
       "      <td>0.818182</td>\n",
       "      <td>0.998507</td>\n",
       "      <td>0.787524</td>\n",
       "      <td>0.998510</td>\n",
       "      <td>0.813433</td>\n",
       "    </tr>\n",
       "  </tbody>\n",
       "</table>\n",
       "</div>"
      ],
      "text/plain": [
       "           Logistic RegressionTraining  Logistic RegressionTesting  \\\n",
       "Accuracy                      0.732646                    0.706044   \n",
       "Recall                        0.889662                    0.896825   \n",
       "Precision                     0.763001                    0.736156   \n",
       "F1                            0.821478                    0.808587   \n",
       "\n",
       "           KNN Base ModelTraining  KNN Base ModelTesting  SVM BaseTraining  \\\n",
       "Accuracy                 0.810997               0.659341          0.691409   \n",
       "Recall                   0.892644               0.805556          1.000000   \n",
       "Precision                0.843192               0.730216          0.691409   \n",
       "F1                       0.867214               0.766038          0.817554   \n",
       "\n",
       "           SVM BaseTesting  Decision Tree BaseTraining  \\\n",
       "Accuracy          0.692308                    0.997938   \n",
       "Recall            1.000000                    0.997018   \n",
       "Precision         0.692308                    1.000000   \n",
       "F1                0.818182                    0.998507   \n",
       "\n",
       "           Decision Tree BaseTesting  Random Forest BaseTraining  \\\n",
       "Accuracy                    0.700549                    0.997938   \n",
       "Recall                      0.801587                    0.999006   \n",
       "Precision                   0.773946                    0.998014   \n",
       "F1                          0.787524                    0.998510   \n",
       "\n",
       "           Random Forest BaseTesting  \n",
       "Accuracy                    0.725275  \n",
       "Recall                      0.865079  \n",
       "Precision                   0.767606  \n",
       "F1                          0.813433  "
      ]
     },
     "execution_count": 149,
     "metadata": {},
     "output_type": "execute_result"
    }
   ],
   "source": [
    "pd.concat([df_LR, df_KNN, df_SVM, df_DT, df_RF], axis=1)"
   ]
  },
  {
   "cell_type": "markdown",
   "id": "8c9b29cb",
   "metadata": {},
   "source": [
    "Bila dilihat berdasarkan F1 Score, nilai dengan testing set paling baik adalah Base Model (0.80), SVM (0.82), RandomForest (0.81)"
   ]
  },
  {
   "cell_type": "code",
   "execution_count": 150,
   "id": "492c3806",
   "metadata": {},
   "outputs": [
    {
     "name": "stdout",
     "output_type": "stream",
     "text": [
      "Confusion Matrix - Testing using LogReg Base\n",
      "       Pred 1  Pred 0\n",
      "Akt 1     226      26\n",
      "Akt 0      81      31\n",
      "==============================\n",
      "Confusion Matrix - Testing using KNN Base\n",
      "       Pred 1  Pred 0\n",
      "Akt 1     203      49\n",
      "Akt 0      75      37\n",
      "==============================\n",
      "Confusion Matrix - Testing using SVM Base\n",
      "       Pred 1  Pred 0\n",
      "Akt 1     252       0\n",
      "Akt 0     112       0\n",
      "==============================\n",
      "Confusion Matrix - Testing using Decision Tree Base\n",
      "       Pred 1  Pred 0\n",
      "Akt 1     202      50\n",
      "Akt 0      59      53\n",
      "==============================\n",
      "Confusion Matrix - Testing using Random Forest Base\n",
      "       Pred 1  Pred 0\n",
      "Akt 1     218      34\n",
      "Akt 0      66      46\n"
     ]
    }
   ],
   "source": [
    "## Compare Confusion Matrix for Testing Set of every Base Model\n",
    "print('Confusion Matrix - Testing using LogReg Base')\n",
    "print(cm_LR_ts)\n",
    "print('='*30)\n",
    "\n",
    "print('Confusion Matrix - Testing using KNN Base')\n",
    "print(cm_KNN_ts)\n",
    "print('='*30)\n",
    "\n",
    "print('Confusion Matrix - Testing using SVM Base')\n",
    "print(cm_SVM_ts)\n",
    "print('='*30)\n",
    "\n",
    "print('Confusion Matrix - Testing using Decision Tree Base')\n",
    "print(cm_DT_ts)\n",
    "print('='*30)\n",
    "\n",
    "print('Confusion Matrix - Testing using Random Forest Base')\n",
    "print(cm_RF_ts)"
   ]
  },
  {
   "cell_type": "markdown",
   "id": "8f8b86ac",
   "metadata": {},
   "source": [
    "Bila dilihat dari confusion matrix, dengan yang kita fokuskan pada False Positive dan False Negative, model yang berpotensial adalah Base Model (107 kasus), Decision Tree (109 kasus), dan Random Forest (100 kasus)."
   ]
  },
  {
   "cell_type": "markdown",
   "id": "dbd3631c",
   "metadata": {},
   "source": [
    "### Base Model Benchmarking using Cross-Validation"
   ]
  },
  {
   "cell_type": "code",
   "execution_count": 151,
   "id": "ed6b54b1",
   "metadata": {},
   "outputs": [],
   "source": [
    "## Import Package\n",
    "from sklearn.model_selection import StratifiedKFold, cross_val_score"
   ]
  },
  {
   "cell_type": "code",
   "execution_count": 152,
   "id": "9aacfc8e",
   "metadata": {},
   "outputs": [],
   "source": [
    "## Create function to print mean of Cross-Validation score\n",
    "def Cross_Val(model,x,y,Nama):\n",
    "    skf = StratifiedKFold(n_splits=5)\n",
    "    cv_acc = cross_val_score(model, x, y, cv = skf, scoring='accuracy')\n",
    "    cv_rec = cross_val_score(model, x, y, cv = skf, scoring='recall')\n",
    "    cv_prec = cross_val_score(model, x, y, cv = skf, scoring='precision')\n",
    "    cv_f1 = cross_val_score(model, x, y, cv = skf, scoring='f1')\n",
    "    data={\n",
    "        Nama + ' Cross-Validation (Mean)':[cv_acc.mean(),cv_rec.mean(),cv_prec.mean(),cv_f1.mean()],\n",
    "        Nama + ' Cross-Validation (Standard Deviation)':[cv_acc.std(),cv_rec.std(),cv_prec.std(),cv_f1.std()]\n",
    "    }\n",
    "    ## Create DataFrame\n",
    "    df = pd.DataFrame(data,index=['Accuracy','Recall','Precision','F-1 Score']).T\n",
    "\n",
    "    return df"
   ]
  },
  {
   "cell_type": "markdown",
   "id": "0467409a",
   "metadata": {},
   "source": [
    "#### Logistic Regression - Testing Set"
   ]
  },
  {
   "cell_type": "code",
   "execution_count": 153,
   "id": "9d727b95",
   "metadata": {},
   "outputs": [
    {
     "data": {
      "text/html": [
       "<div>\n",
       "<style scoped>\n",
       "    .dataframe tbody tr th:only-of-type {\n",
       "        vertical-align: middle;\n",
       "    }\n",
       "\n",
       "    .dataframe tbody tr th {\n",
       "        vertical-align: top;\n",
       "    }\n",
       "\n",
       "    .dataframe thead th {\n",
       "        text-align: right;\n",
       "    }\n",
       "</style>\n",
       "<table border=\"1\" class=\"dataframe\">\n",
       "  <thead>\n",
       "    <tr style=\"text-align: right;\">\n",
       "      <th></th>\n",
       "      <th>Accuracy</th>\n",
       "      <th>Recall</th>\n",
       "      <th>Precision</th>\n",
       "      <th>F-1 Score</th>\n",
       "    </tr>\n",
       "  </thead>\n",
       "  <tbody>\n",
       "    <tr>\n",
       "      <th>Logistic Regression Cross-Validation (Mean)</th>\n",
       "      <td>0.72</td>\n",
       "      <td>0.88</td>\n",
       "      <td>0.75</td>\n",
       "      <td>0.81</td>\n",
       "    </tr>\n",
       "    <tr>\n",
       "      <th>Logistic Regression Cross-Validation (Standard Deviation)</th>\n",
       "      <td>0.03</td>\n",
       "      <td>0.01</td>\n",
       "      <td>0.02</td>\n",
       "      <td>0.02</td>\n",
       "    </tr>\n",
       "  </tbody>\n",
       "</table>\n",
       "</div>"
      ],
      "text/plain": [
       "                                                    Accuracy  Recall  \\\n",
       "Logistic Regression Cross-Validation (Mean)             0.72    0.88   \n",
       "Logistic Regression Cross-Validation (Standard ...      0.03    0.01   \n",
       "\n",
       "                                                    Precision  F-1 Score  \n",
       "Logistic Regression Cross-Validation (Mean)              0.75       0.81  \n",
       "Logistic Regression Cross-Validation (Standard ...       0.02       0.02  "
      ]
     },
     "execution_count": 153,
     "metadata": {},
     "output_type": "execute_result"
    }
   ],
   "source": [
    "## Menampilkan Cross-Validation untuk model base (Logistic Regression)\n",
    "cv_LR = Cross_Val(LogisticRegression(), X_train, y_train,'Logistic Regression').round(2)\n",
    "cv_LR"
   ]
  },
  {
   "cell_type": "markdown",
   "id": "adac2285",
   "metadata": {},
   "source": [
    "#### K-Nearest Neighbors (KNN) - Testing Set"
   ]
  },
  {
   "cell_type": "code",
   "execution_count": 154,
   "id": "27fb1a55",
   "metadata": {},
   "outputs": [
    {
     "data": {
      "text/html": [
       "<div>\n",
       "<style scoped>\n",
       "    .dataframe tbody tr th:only-of-type {\n",
       "        vertical-align: middle;\n",
       "    }\n",
       "\n",
       "    .dataframe tbody tr th {\n",
       "        vertical-align: top;\n",
       "    }\n",
       "\n",
       "    .dataframe thead th {\n",
       "        text-align: right;\n",
       "    }\n",
       "</style>\n",
       "<table border=\"1\" class=\"dataframe\">\n",
       "  <thead>\n",
       "    <tr style=\"text-align: right;\">\n",
       "      <th></th>\n",
       "      <th>Accuracy</th>\n",
       "      <th>Recall</th>\n",
       "      <th>Precision</th>\n",
       "      <th>F-1 Score</th>\n",
       "    </tr>\n",
       "  </thead>\n",
       "  <tbody>\n",
       "    <tr>\n",
       "      <th>KNN Base Cross-Validation (Mean)</th>\n",
       "      <td>0.72</td>\n",
       "      <td>0.83</td>\n",
       "      <td>0.79</td>\n",
       "      <td>0.81</td>\n",
       "    </tr>\n",
       "    <tr>\n",
       "      <th>KNN Base Cross-Validation (Standard Deviation)</th>\n",
       "      <td>0.02</td>\n",
       "      <td>0.02</td>\n",
       "      <td>0.01</td>\n",
       "      <td>0.01</td>\n",
       "    </tr>\n",
       "  </tbody>\n",
       "</table>\n",
       "</div>"
      ],
      "text/plain": [
       "                                                Accuracy  Recall  Precision  \\\n",
       "KNN Base Cross-Validation (Mean)                    0.72    0.83       0.79   \n",
       "KNN Base Cross-Validation (Standard Deviation)      0.02    0.02       0.01   \n",
       "\n",
       "                                                F-1 Score  \n",
       "KNN Base Cross-Validation (Mean)                     0.81  \n",
       "KNN Base Cross-Validation (Standard Deviation)       0.01  "
      ]
     },
     "execution_count": 154,
     "metadata": {},
     "output_type": "execute_result"
    }
   ],
   "source": [
    "## Menampilkan Cross-Validation untuk KNN\n",
    "cv_KNN = Cross_Val(KNeighborsClassifier(), X_train, y_train,'KNN Base').round(2)\n",
    "cv_KNN"
   ]
  },
  {
   "cell_type": "markdown",
   "id": "ba795786",
   "metadata": {},
   "source": [
    "#### SVM - Testing Set"
   ]
  },
  {
   "cell_type": "code",
   "execution_count": 155,
   "id": "66363bc0",
   "metadata": {},
   "outputs": [
    {
     "data": {
      "text/html": [
       "<div>\n",
       "<style scoped>\n",
       "    .dataframe tbody tr th:only-of-type {\n",
       "        vertical-align: middle;\n",
       "    }\n",
       "\n",
       "    .dataframe tbody tr th {\n",
       "        vertical-align: top;\n",
       "    }\n",
       "\n",
       "    .dataframe thead th {\n",
       "        text-align: right;\n",
       "    }\n",
       "</style>\n",
       "<table border=\"1\" class=\"dataframe\">\n",
       "  <thead>\n",
       "    <tr style=\"text-align: right;\">\n",
       "      <th></th>\n",
       "      <th>Accuracy</th>\n",
       "      <th>Recall</th>\n",
       "      <th>Precision</th>\n",
       "      <th>F-1 Score</th>\n",
       "    </tr>\n",
       "  </thead>\n",
       "  <tbody>\n",
       "    <tr>\n",
       "      <th>SVM Base Cross-Validation (Mean)</th>\n",
       "      <td>0.69</td>\n",
       "      <td>1.0</td>\n",
       "      <td>0.69</td>\n",
       "      <td>0.82</td>\n",
       "    </tr>\n",
       "    <tr>\n",
       "      <th>SVM Base Cross-Validation (Standard Deviation)</th>\n",
       "      <td>0.00</td>\n",
       "      <td>0.0</td>\n",
       "      <td>0.00</td>\n",
       "      <td>0.00</td>\n",
       "    </tr>\n",
       "  </tbody>\n",
       "</table>\n",
       "</div>"
      ],
      "text/plain": [
       "                                                Accuracy  Recall  Precision  \\\n",
       "SVM Base Cross-Validation (Mean)                    0.69     1.0       0.69   \n",
       "SVM Base Cross-Validation (Standard Deviation)      0.00     0.0       0.00   \n",
       "\n",
       "                                                F-1 Score  \n",
       "SVM Base Cross-Validation (Mean)                     0.82  \n",
       "SVM Base Cross-Validation (Standard Deviation)       0.00  "
      ]
     },
     "execution_count": 155,
     "metadata": {},
     "output_type": "execute_result"
    }
   ],
   "source": [
    "## Menampilkan Cross-Validation untuk SVM\n",
    "cv_SVM = Cross_Val(SVC(), X_train, y_train,'SVM Base').round(2)\n",
    "cv_SVM"
   ]
  },
  {
   "cell_type": "markdown",
   "id": "38e92fa9",
   "metadata": {},
   "source": [
    "#### Decision Tree - Testing Set"
   ]
  },
  {
   "cell_type": "code",
   "execution_count": 156,
   "id": "548603b1",
   "metadata": {},
   "outputs": [
    {
     "data": {
      "text/html": [
       "<div>\n",
       "<style scoped>\n",
       "    .dataframe tbody tr th:only-of-type {\n",
       "        vertical-align: middle;\n",
       "    }\n",
       "\n",
       "    .dataframe tbody tr th {\n",
       "        vertical-align: top;\n",
       "    }\n",
       "\n",
       "    .dataframe thead th {\n",
       "        text-align: right;\n",
       "    }\n",
       "</style>\n",
       "<table border=\"1\" class=\"dataframe\">\n",
       "  <thead>\n",
       "    <tr style=\"text-align: right;\">\n",
       "      <th></th>\n",
       "      <th>Accuracy</th>\n",
       "      <th>Recall</th>\n",
       "      <th>Precision</th>\n",
       "      <th>F-1 Score</th>\n",
       "    </tr>\n",
       "  </thead>\n",
       "  <tbody>\n",
       "    <tr>\n",
       "      <th>Decision Tree Base Cross-Validation (Mean)</th>\n",
       "      <td>0.68</td>\n",
       "      <td>0.76</td>\n",
       "      <td>0.78</td>\n",
       "      <td>0.77</td>\n",
       "    </tr>\n",
       "    <tr>\n",
       "      <th>Decision Tree Base Cross-Validation (Standard Deviation)</th>\n",
       "      <td>0.02</td>\n",
       "      <td>0.03</td>\n",
       "      <td>0.02</td>\n",
       "      <td>0.02</td>\n",
       "    </tr>\n",
       "  </tbody>\n",
       "</table>\n",
       "</div>"
      ],
      "text/plain": [
       "                                                    Accuracy  Recall  \\\n",
       "Decision Tree Base Cross-Validation (Mean)              0.68    0.76   \n",
       "Decision Tree Base Cross-Validation (Standard D...      0.02    0.03   \n",
       "\n",
       "                                                    Precision  F-1 Score  \n",
       "Decision Tree Base Cross-Validation (Mean)               0.78       0.77  \n",
       "Decision Tree Base Cross-Validation (Standard D...       0.02       0.02  "
      ]
     },
     "execution_count": 156,
     "metadata": {},
     "output_type": "execute_result"
    }
   ],
   "source": [
    "## Menampilkan Cross-Validation untuk Decision Tree\n",
    "cv_DT = Cross_Val(DecisionTreeClassifier(), X_train, y_train,'Decision Tree Base').round(2)\n",
    "cv_DT"
   ]
  },
  {
   "cell_type": "markdown",
   "id": "79b1a4a2",
   "metadata": {},
   "source": [
    "#### Random Forest - Testing Set"
   ]
  },
  {
   "cell_type": "code",
   "execution_count": 157,
   "id": "1655c7e2",
   "metadata": {},
   "outputs": [
    {
     "data": {
      "text/html": [
       "<div>\n",
       "<style scoped>\n",
       "    .dataframe tbody tr th:only-of-type {\n",
       "        vertical-align: middle;\n",
       "    }\n",
       "\n",
       "    .dataframe tbody tr th {\n",
       "        vertical-align: top;\n",
       "    }\n",
       "\n",
       "    .dataframe thead th {\n",
       "        text-align: right;\n",
       "    }\n",
       "</style>\n",
       "<table border=\"1\" class=\"dataframe\">\n",
       "  <thead>\n",
       "    <tr style=\"text-align: right;\">\n",
       "      <th></th>\n",
       "      <th>Accuracy</th>\n",
       "      <th>Recall</th>\n",
       "      <th>Precision</th>\n",
       "      <th>F-1 Score</th>\n",
       "    </tr>\n",
       "  </thead>\n",
       "  <tbody>\n",
       "    <tr>\n",
       "      <th>Random Forest Base Cross-Validation (Mean)</th>\n",
       "      <td>0.78</td>\n",
       "      <td>0.87</td>\n",
       "      <td>0.81</td>\n",
       "      <td>0.84</td>\n",
       "    </tr>\n",
       "    <tr>\n",
       "      <th>Random Forest Base Cross-Validation (Standard Deviation)</th>\n",
       "      <td>0.01</td>\n",
       "      <td>0.02</td>\n",
       "      <td>0.01</td>\n",
       "      <td>0.01</td>\n",
       "    </tr>\n",
       "  </tbody>\n",
       "</table>\n",
       "</div>"
      ],
      "text/plain": [
       "                                                    Accuracy  Recall  \\\n",
       "Random Forest Base Cross-Validation (Mean)              0.78    0.87   \n",
       "Random Forest Base Cross-Validation (Standard D...      0.01    0.02   \n",
       "\n",
       "                                                    Precision  F-1 Score  \n",
       "Random Forest Base Cross-Validation (Mean)               0.81       0.84  \n",
       "Random Forest Base Cross-Validation (Standard D...       0.01       0.01  "
      ]
     },
     "execution_count": 157,
     "metadata": {},
     "output_type": "execute_result"
    }
   ],
   "source": [
    "## Menampilkan Cross-Validation untuk Random Forest\n",
    "cv_RF = Cross_Val(RandomForestClassifier(), X_train, y_train,'Random Forest Base').round(2)\n",
    "cv_RF"
   ]
  },
  {
   "cell_type": "code",
   "execution_count": 158,
   "id": "033f7aab",
   "metadata": {},
   "outputs": [
    {
     "data": {
      "text/html": [
       "<div>\n",
       "<style scoped>\n",
       "    .dataframe tbody tr th:only-of-type {\n",
       "        vertical-align: middle;\n",
       "    }\n",
       "\n",
       "    .dataframe tbody tr th {\n",
       "        vertical-align: top;\n",
       "    }\n",
       "\n",
       "    .dataframe thead th {\n",
       "        text-align: right;\n",
       "    }\n",
       "</style>\n",
       "<table border=\"1\" class=\"dataframe\">\n",
       "  <thead>\n",
       "    <tr style=\"text-align: right;\">\n",
       "      <th></th>\n",
       "      <th>Accuracy</th>\n",
       "      <th>Recall</th>\n",
       "      <th>Precision</th>\n",
       "      <th>F-1 Score</th>\n",
       "    </tr>\n",
       "  </thead>\n",
       "  <tbody>\n",
       "    <tr>\n",
       "      <th>Logistic Regression Cross-Validation (Mean)</th>\n",
       "      <td>0.72</td>\n",
       "      <td>0.88</td>\n",
       "      <td>0.75</td>\n",
       "      <td>0.81</td>\n",
       "    </tr>\n",
       "    <tr>\n",
       "      <th>Logistic Regression Cross-Validation (Standard Deviation)</th>\n",
       "      <td>0.03</td>\n",
       "      <td>0.01</td>\n",
       "      <td>0.02</td>\n",
       "      <td>0.02</td>\n",
       "    </tr>\n",
       "    <tr>\n",
       "      <th>KNN Base Cross-Validation (Mean)</th>\n",
       "      <td>0.72</td>\n",
       "      <td>0.83</td>\n",
       "      <td>0.79</td>\n",
       "      <td>0.81</td>\n",
       "    </tr>\n",
       "    <tr>\n",
       "      <th>KNN Base Cross-Validation (Standard Deviation)</th>\n",
       "      <td>0.02</td>\n",
       "      <td>0.02</td>\n",
       "      <td>0.01</td>\n",
       "      <td>0.01</td>\n",
       "    </tr>\n",
       "    <tr>\n",
       "      <th>SVM Base Cross-Validation (Mean)</th>\n",
       "      <td>0.69</td>\n",
       "      <td>1.00</td>\n",
       "      <td>0.69</td>\n",
       "      <td>0.82</td>\n",
       "    </tr>\n",
       "    <tr>\n",
       "      <th>SVM Base Cross-Validation (Standard Deviation)</th>\n",
       "      <td>0.00</td>\n",
       "      <td>0.00</td>\n",
       "      <td>0.00</td>\n",
       "      <td>0.00</td>\n",
       "    </tr>\n",
       "    <tr>\n",
       "      <th>Decision Tree Base Cross-Validation (Mean)</th>\n",
       "      <td>0.68</td>\n",
       "      <td>0.76</td>\n",
       "      <td>0.78</td>\n",
       "      <td>0.77</td>\n",
       "    </tr>\n",
       "    <tr>\n",
       "      <th>Decision Tree Base Cross-Validation (Standard Deviation)</th>\n",
       "      <td>0.02</td>\n",
       "      <td>0.03</td>\n",
       "      <td>0.02</td>\n",
       "      <td>0.02</td>\n",
       "    </tr>\n",
       "    <tr>\n",
       "      <th>Random Forest Base Cross-Validation (Mean)</th>\n",
       "      <td>0.78</td>\n",
       "      <td>0.87</td>\n",
       "      <td>0.81</td>\n",
       "      <td>0.84</td>\n",
       "    </tr>\n",
       "    <tr>\n",
       "      <th>Random Forest Base Cross-Validation (Standard Deviation)</th>\n",
       "      <td>0.01</td>\n",
       "      <td>0.02</td>\n",
       "      <td>0.01</td>\n",
       "      <td>0.01</td>\n",
       "    </tr>\n",
       "  </tbody>\n",
       "</table>\n",
       "</div>"
      ],
      "text/plain": [
       "                                                    Accuracy  Recall  \\\n",
       "Logistic Regression Cross-Validation (Mean)             0.72    0.88   \n",
       "Logistic Regression Cross-Validation (Standard ...      0.03    0.01   \n",
       "KNN Base Cross-Validation (Mean)                        0.72    0.83   \n",
       "KNN Base Cross-Validation (Standard Deviation)          0.02    0.02   \n",
       "SVM Base Cross-Validation (Mean)                        0.69    1.00   \n",
       "SVM Base Cross-Validation (Standard Deviation)          0.00    0.00   \n",
       "Decision Tree Base Cross-Validation (Mean)              0.68    0.76   \n",
       "Decision Tree Base Cross-Validation (Standard D...      0.02    0.03   \n",
       "Random Forest Base Cross-Validation (Mean)              0.78    0.87   \n",
       "Random Forest Base Cross-Validation (Standard D...      0.01    0.02   \n",
       "\n",
       "                                                    Precision  F-1 Score  \n",
       "Logistic Regression Cross-Validation (Mean)              0.75       0.81  \n",
       "Logistic Regression Cross-Validation (Standard ...       0.02       0.02  \n",
       "KNN Base Cross-Validation (Mean)                         0.79       0.81  \n",
       "KNN Base Cross-Validation (Standard Deviation)           0.01       0.01  \n",
       "SVM Base Cross-Validation (Mean)                         0.69       0.82  \n",
       "SVM Base Cross-Validation (Standard Deviation)           0.00       0.00  \n",
       "Decision Tree Base Cross-Validation (Mean)               0.78       0.77  \n",
       "Decision Tree Base Cross-Validation (Standard D...       0.02       0.02  \n",
       "Random Forest Base Cross-Validation (Mean)               0.81       0.84  \n",
       "Random Forest Base Cross-Validation (Standard D...       0.01       0.01  "
      ]
     },
     "execution_count": 158,
     "metadata": {},
     "output_type": "execute_result"
    }
   ],
   "source": [
    "pd.concat([cv_LR, cv_KNN, cv_SVM, cv_DT, cv_RF])"
   ]
  },
  {
   "cell_type": "markdown",
   "id": "0fa192cf",
   "metadata": {},
   "source": [
    "Bila dilihat dari nilai f1 score, kita akan menggunakan model KNN, SVM, dan RandomForest."
   ]
  },
  {
   "cell_type": "markdown",
   "id": "e271ef19",
   "metadata": {},
   "source": [
    "## HyperParameter Tuning using GridSearch"
   ]
  },
  {
   "cell_type": "markdown",
   "id": "8a07fa3c",
   "metadata": {},
   "source": [
    "### HyperParameter Tuning for K-Nearest Neighbors (KNN)"
   ]
  },
  {
   "cell_type": "code",
   "execution_count": 161,
   "id": "1de58c11",
   "metadata": {},
   "outputs": [],
   "source": [
    "## Membuat Parameter untuk Model KNN\n",
    "param_KNN = {\n",
    "    \"n_neighbors\" : range(1, 70, 2),\n",
    "    \"weights\" : ['uniform', 'distance'],\n",
    "    \"p\" : [1, 2]\n",
    "}"
   ]
  },
  {
   "cell_type": "code",
   "execution_count": 162,
   "id": "5783c0c6",
   "metadata": {},
   "outputs": [],
   "source": [
    "## Import model\n",
    "from sklearn.model_selection import StratifiedKFold, GridSearchCV"
   ]
  },
  {
   "cell_type": "code",
   "execution_count": 163,
   "id": "e04629d9",
   "metadata": {},
   "outputs": [
    {
     "name": "stdout",
     "output_type": "stream",
     "text": [
      "Fitting 3 folds for each of 140 candidates, totalling 420 fits\n"
     ]
    },
    {
     "data": {
      "text/html": [
       "<style>#sk-container-id-6 {color: black;background-color: white;}#sk-container-id-6 pre{padding: 0;}#sk-container-id-6 div.sk-toggleable {background-color: white;}#sk-container-id-6 label.sk-toggleable__label {cursor: pointer;display: block;width: 100%;margin-bottom: 0;padding: 0.3em;box-sizing: border-box;text-align: center;}#sk-container-id-6 label.sk-toggleable__label-arrow:before {content: \"▸\";float: left;margin-right: 0.25em;color: #696969;}#sk-container-id-6 label.sk-toggleable__label-arrow:hover:before {color: black;}#sk-container-id-6 div.sk-estimator:hover label.sk-toggleable__label-arrow:before {color: black;}#sk-container-id-6 div.sk-toggleable__content {max-height: 0;max-width: 0;overflow: hidden;text-align: left;background-color: #f0f8ff;}#sk-container-id-6 div.sk-toggleable__content pre {margin: 0.2em;color: black;border-radius: 0.25em;background-color: #f0f8ff;}#sk-container-id-6 input.sk-toggleable__control:checked~div.sk-toggleable__content {max-height: 200px;max-width: 100%;overflow: auto;}#sk-container-id-6 input.sk-toggleable__control:checked~label.sk-toggleable__label-arrow:before {content: \"▾\";}#sk-container-id-6 div.sk-estimator input.sk-toggleable__control:checked~label.sk-toggleable__label {background-color: #d4ebff;}#sk-container-id-6 div.sk-label input.sk-toggleable__control:checked~label.sk-toggleable__label {background-color: #d4ebff;}#sk-container-id-6 input.sk-hidden--visually {border: 0;clip: rect(1px 1px 1px 1px);clip: rect(1px, 1px, 1px, 1px);height: 1px;margin: -1px;overflow: hidden;padding: 0;position: absolute;width: 1px;}#sk-container-id-6 div.sk-estimator {font-family: monospace;background-color: #f0f8ff;border: 1px dotted black;border-radius: 0.25em;box-sizing: border-box;margin-bottom: 0.5em;}#sk-container-id-6 div.sk-estimator:hover {background-color: #d4ebff;}#sk-container-id-6 div.sk-parallel-item::after {content: \"\";width: 100%;border-bottom: 1px solid gray;flex-grow: 1;}#sk-container-id-6 div.sk-label:hover label.sk-toggleable__label {background-color: #d4ebff;}#sk-container-id-6 div.sk-serial::before {content: \"\";position: absolute;border-left: 1px solid gray;box-sizing: border-box;top: 0;bottom: 0;left: 50%;z-index: 0;}#sk-container-id-6 div.sk-serial {display: flex;flex-direction: column;align-items: center;background-color: white;padding-right: 0.2em;padding-left: 0.2em;position: relative;}#sk-container-id-6 div.sk-item {position: relative;z-index: 1;}#sk-container-id-6 div.sk-parallel {display: flex;align-items: stretch;justify-content: center;background-color: white;position: relative;}#sk-container-id-6 div.sk-item::before, #sk-container-id-6 div.sk-parallel-item::before {content: \"\";position: absolute;border-left: 1px solid gray;box-sizing: border-box;top: 0;bottom: 0;left: 50%;z-index: -1;}#sk-container-id-6 div.sk-parallel-item {display: flex;flex-direction: column;z-index: 1;position: relative;background-color: white;}#sk-container-id-6 div.sk-parallel-item:first-child::after {align-self: flex-end;width: 50%;}#sk-container-id-6 div.sk-parallel-item:last-child::after {align-self: flex-start;width: 50%;}#sk-container-id-6 div.sk-parallel-item:only-child::after {width: 0;}#sk-container-id-6 div.sk-dashed-wrapped {border: 1px dashed gray;margin: 0 0.4em 0.5em 0.4em;box-sizing: border-box;padding-bottom: 0.4em;background-color: white;}#sk-container-id-6 div.sk-label label {font-family: monospace;font-weight: bold;display: inline-block;line-height: 1.2em;}#sk-container-id-6 div.sk-label-container {text-align: center;}#sk-container-id-6 div.sk-container {/* jupyter's `normalize.less` sets `[hidden] { display: none; }` but bootstrap.min.css set `[hidden] { display: none !important; }` so we also need the `!important` here to be able to override the default hidden behavior on the sphinx rendered scikit-learn.org. See: https://github.com/scikit-learn/scikit-learn/issues/21755 */display: inline-block !important;position: relative;}#sk-container-id-6 div.sk-text-repr-fallback {display: none;}</style><div id=\"sk-container-id-6\" class=\"sk-top-container\"><div class=\"sk-text-repr-fallback\"><pre>GridSearchCV(cv=StratifiedKFold(n_splits=3, random_state=None, shuffle=False),\n",
       "             estimator=KNeighborsClassifier(), n_jobs=3,\n",
       "             param_grid={&#x27;n_neighbors&#x27;: range(1, 70, 2), &#x27;p&#x27;: [1, 2],\n",
       "                         &#x27;weights&#x27;: [&#x27;uniform&#x27;, &#x27;distance&#x27;]},\n",
       "             scoring=&#x27;f1&#x27;, verbose=1)</pre><b>In a Jupyter environment, please rerun this cell to show the HTML representation or trust the notebook. <br />On GitHub, the HTML representation is unable to render, please try loading this page with nbviewer.org.</b></div><div class=\"sk-container\" hidden><div class=\"sk-item sk-dashed-wrapped\"><div class=\"sk-label-container\"><div class=\"sk-label sk-toggleable\"><input class=\"sk-toggleable__control sk-hidden--visually\" id=\"sk-estimator-id-6\" type=\"checkbox\" ><label for=\"sk-estimator-id-6\" class=\"sk-toggleable__label sk-toggleable__label-arrow\">GridSearchCV</label><div class=\"sk-toggleable__content\"><pre>GridSearchCV(cv=StratifiedKFold(n_splits=3, random_state=None, shuffle=False),\n",
       "             estimator=KNeighborsClassifier(), n_jobs=3,\n",
       "             param_grid={&#x27;n_neighbors&#x27;: range(1, 70, 2), &#x27;p&#x27;: [1, 2],\n",
       "                         &#x27;weights&#x27;: [&#x27;uniform&#x27;, &#x27;distance&#x27;]},\n",
       "             scoring=&#x27;f1&#x27;, verbose=1)</pre></div></div></div><div class=\"sk-parallel\"><div class=\"sk-parallel-item\"><div class=\"sk-item\"><div class=\"sk-label-container\"><div class=\"sk-label sk-toggleable\"><input class=\"sk-toggleable__control sk-hidden--visually\" id=\"sk-estimator-id-7\" type=\"checkbox\" ><label for=\"sk-estimator-id-7\" class=\"sk-toggleable__label sk-toggleable__label-arrow\">estimator: KNeighborsClassifier</label><div class=\"sk-toggleable__content\"><pre>KNeighborsClassifier()</pre></div></div></div><div class=\"sk-serial\"><div class=\"sk-item\"><div class=\"sk-estimator sk-toggleable\"><input class=\"sk-toggleable__control sk-hidden--visually\" id=\"sk-estimator-id-8\" type=\"checkbox\" ><label for=\"sk-estimator-id-8\" class=\"sk-toggleable__label sk-toggleable__label-arrow\">KNeighborsClassifier</label><div class=\"sk-toggleable__content\"><pre>KNeighborsClassifier()</pre></div></div></div></div></div></div></div></div></div></div>"
      ],
      "text/plain": [
       "GridSearchCV(cv=StratifiedKFold(n_splits=3, random_state=None, shuffle=False),\n",
       "             estimator=KNeighborsClassifier(), n_jobs=3,\n",
       "             param_grid={'n_neighbors': range(1, 70, 2), 'p': [1, 2],\n",
       "                         'weights': ['uniform', 'distance']},\n",
       "             scoring='f1', verbose=1)"
      ]
     },
     "execution_count": 163,
     "metadata": {},
     "output_type": "execute_result"
    }
   ],
   "source": [
    "## Run and Fit Model\n",
    "KNN_GS = GridSearchCV(model_KNN,\n",
    "                        param_KNN,\n",
    "                        cv = StratifiedKFold(n_splits=3),\n",
    "                        n_jobs = 3,\n",
    "                        verbose = 1, \n",
    "                        scoring = 'f1')\n",
    "KNN_GS.fit(X_train,y_train)"
   ]
  },
  {
   "cell_type": "code",
   "execution_count": 164,
   "id": "ceb310b4",
   "metadata": {},
   "outputs": [
    {
     "data": {
      "text/plain": [
       "0.8223298707651255"
      ]
     },
     "execution_count": 164,
     "metadata": {},
     "output_type": "execute_result"
    }
   ],
   "source": [
    "## f1 score berdasarkan dari best combination\n",
    "KNN_GS.best_score_"
   ]
  },
  {
   "cell_type": "code",
   "execution_count": 165,
   "id": "a59c844c",
   "metadata": {},
   "outputs": [
    {
     "data": {
      "text/plain": [
       "{'n_neighbors': 25, 'p': 1, 'weights': 'uniform'}"
      ]
     },
     "execution_count": 165,
     "metadata": {},
     "output_type": "execute_result"
    }
   ],
   "source": [
    "## Best parametr yang menghasilkan best f1 score\n",
    "KNN_GS.best_params_"
   ]
  },
  {
   "cell_type": "code",
   "execution_count": 166,
   "id": "e64c2766",
   "metadata": {},
   "outputs": [],
   "source": [
    "KNN_Tuned_GS = KNN_GS.best_estimator_"
   ]
  },
  {
   "cell_type": "markdown",
   "id": "20d0b8c5",
   "metadata": {},
   "source": [
    "### Evaluation Matrix for Tuned Model with K-Nearest Neighbors (KNN)"
   ]
  },
  {
   "cell_type": "code",
   "execution_count": 167,
   "id": "bf5ef21b",
   "metadata": {},
   "outputs": [],
   "source": [
    "## Import Package\n",
    "from sklearn.metrics import confusion_matrix, classification_report, accuracy_score, recall_score, precision_score, f1_score"
   ]
  },
  {
   "cell_type": "code",
   "execution_count": 168,
   "id": "df8ce0bf",
   "metadata": {},
   "outputs": [],
   "source": [
    "## Kemudian kita membuat function untuk menampilkan Evaluation Matrix\n",
    "def Eva_Matrix_Base_Class(model, X_train, X_test, y_train, y_test, Nama):\n",
    "    Model = model.fit(X_train, y_train)\n",
    "    y_pred_train = Model.predict(X_train)\n",
    "    Acc_train = accuracy_score(y_train, y_pred_train)\n",
    "    Rec_train = recall_score(y_train, y_pred_train)\n",
    "    Prec_train = precision_score(y_train, y_pred_train)\n",
    "    F1_train = f1_score(y_train, y_pred_train)\n",
    "    y_pred_test = Model.predict(X_test)\n",
    "    Acc_test = accuracy_score(y_test, y_pred_test)\n",
    "    Rec_test = recall_score(y_test, y_pred_test)\n",
    "    Prec_test = precision_score(y_test, y_pred_test)\n",
    "    F1_test = f1_score(y_test, y_pred_test)\n",
    "    data = {\n",
    "    Nama + \"Training\" : [Acc_train, Rec_train, Prec_train, F1_train],\n",
    "    Nama + \"Testing\" : [Acc_test, Rec_test, Prec_test, F1_test]\n",
    "}\n",
    "    \n",
    "    df = pd.DataFrame(data, index=[\"Accuracy\", \"Recall\", \"Precision\", \"F1\"])\n",
    "    cr_tr = classification_report(y_train, y_pred_train)\n",
    "    cm_tr = confusion_matrix(y_train, y_pred_train, labels=[1, 0])\n",
    "    df_tr = pd.DataFrame(data = cm_tr, columns=['Pred 1', 'Pred 0'], index=['Akt 1', 'Akt 0'])\n",
    "    cr_ts = classification_report(y_test, y_pred_test)\n",
    "    cm_ts = confusion_matrix(y_test, y_pred_test, labels=[1, 0])\n",
    "    df_ts = pd.DataFrame(data = cm_ts, columns=['Pred 1', 'Pred 0'], index=['Akt 1', 'Akt 0'])\n",
    "    return df, cr_tr, df_tr, cr_ts, df_ts"
   ]
  },
  {
   "cell_type": "code",
   "execution_count": 169,
   "id": "07443576",
   "metadata": {},
   "outputs": [],
   "source": [
    "## Menjalankan function dengan model KNN\n",
    "df_KNN_Tuned_GS, cr_KNN_Tuned_GS_tr, cm_KNN_Tuned_GS_tr, cr_KNN_Tuned_GS_ts, cm_KNN_Tuned_GS_ts = Eva_Matrix_Base_Class( KNN_Tuned_GS, \n",
    "                                                                                                        X_train, X_test, \n",
    "                                                                                                        y_train, y_test,\n",
    "                                                                                                        'KNN Tuned')"
   ]
  },
  {
   "cell_type": "code",
   "execution_count": 170,
   "id": "d2aefc8b",
   "metadata": {},
   "outputs": [
    {
     "data": {
      "text/html": [
       "<div>\n",
       "<style scoped>\n",
       "    .dataframe tbody tr th:only-of-type {\n",
       "        vertical-align: middle;\n",
       "    }\n",
       "\n",
       "    .dataframe tbody tr th {\n",
       "        vertical-align: top;\n",
       "    }\n",
       "\n",
       "    .dataframe thead th {\n",
       "        text-align: right;\n",
       "    }\n",
       "</style>\n",
       "<table border=\"1\" class=\"dataframe\">\n",
       "  <thead>\n",
       "    <tr style=\"text-align: right;\">\n",
       "      <th></th>\n",
       "      <th>KNN TunedTraining</th>\n",
       "      <th>KNN TunedTesting</th>\n",
       "    </tr>\n",
       "  </thead>\n",
       "  <tbody>\n",
       "    <tr>\n",
       "      <th>Accuracy</th>\n",
       "      <td>0.764261</td>\n",
       "      <td>0.700549</td>\n",
       "    </tr>\n",
       "    <tr>\n",
       "      <th>Recall</th>\n",
       "      <td>0.870775</td>\n",
       "      <td>0.849206</td>\n",
       "    </tr>\n",
       "    <tr>\n",
       "      <th>Precision</th>\n",
       "      <td>0.804408</td>\n",
       "      <td>0.750877</td>\n",
       "    </tr>\n",
       "    <tr>\n",
       "      <th>F1</th>\n",
       "      <td>0.836277</td>\n",
       "      <td>0.797020</td>\n",
       "    </tr>\n",
       "  </tbody>\n",
       "</table>\n",
       "</div>"
      ],
      "text/plain": [
       "           KNN TunedTraining  KNN TunedTesting\n",
       "Accuracy            0.764261          0.700549\n",
       "Recall              0.870775          0.849206\n",
       "Precision           0.804408          0.750877\n",
       "F1                  0.836277          0.797020"
      ]
     },
     "execution_count": 170,
     "metadata": {},
     "output_type": "execute_result"
    }
   ],
   "source": [
    "## Menampilkan nilai\n",
    "df_KNN_Tuned_GS"
   ]
  },
  {
   "cell_type": "code",
   "execution_count": 171,
   "id": "1f18db8f",
   "metadata": {},
   "outputs": [
    {
     "name": "stdout",
     "output_type": "stream",
     "text": [
      "              precision    recall  f1-score   support\n",
      "\n",
      "           0       0.64      0.53      0.58       449\n",
      "           1       0.80      0.87      0.84      1006\n",
      "\n",
      "    accuracy                           0.76      1455\n",
      "   macro avg       0.72      0.70      0.71      1455\n",
      "weighted avg       0.76      0.76      0.76      1455\n",
      "               precision    recall  f1-score   support\n",
      "\n",
      "           0       0.52      0.37      0.43       112\n",
      "           1       0.75      0.85      0.80       252\n",
      "\n",
      "    accuracy                           0.70       364\n",
      "   macro avg       0.63      0.61      0.61       364\n",
      "weighted avg       0.68      0.70      0.68       364\n",
      "\n"
     ]
    }
   ],
   "source": [
    "## Menampilkan Classification Report\n",
    "print(cr_KNN_Tuned_GS_tr, cr_KNN_Tuned_GS_ts)"
   ]
  },
  {
   "cell_type": "code",
   "execution_count": 172,
   "id": "167144cc",
   "metadata": {},
   "outputs": [
    {
     "data": {
      "text/html": [
       "<div>\n",
       "<style scoped>\n",
       "    .dataframe tbody tr th:only-of-type {\n",
       "        vertical-align: middle;\n",
       "    }\n",
       "\n",
       "    .dataframe tbody tr th {\n",
       "        vertical-align: top;\n",
       "    }\n",
       "\n",
       "    .dataframe thead th {\n",
       "        text-align: right;\n",
       "    }\n",
       "</style>\n",
       "<table border=\"1\" class=\"dataframe\">\n",
       "  <thead>\n",
       "    <tr style=\"text-align: right;\">\n",
       "      <th></th>\n",
       "      <th>Pred 1</th>\n",
       "      <th>Pred 0</th>\n",
       "    </tr>\n",
       "  </thead>\n",
       "  <tbody>\n",
       "    <tr>\n",
       "      <th>Akt 1</th>\n",
       "      <td>214</td>\n",
       "      <td>38</td>\n",
       "    </tr>\n",
       "    <tr>\n",
       "      <th>Akt 0</th>\n",
       "      <td>71</td>\n",
       "      <td>41</td>\n",
       "    </tr>\n",
       "  </tbody>\n",
       "</table>\n",
       "</div>"
      ],
      "text/plain": [
       "       Pred 1  Pred 0\n",
       "Akt 1     214      38\n",
       "Akt 0      71      41"
      ]
     },
     "execution_count": 172,
     "metadata": {},
     "output_type": "execute_result"
    }
   ],
   "source": [
    "cm_KNN_Tuned_GS_ts"
   ]
  },
  {
   "cell_type": "markdown",
   "id": "75b9aa2d",
   "metadata": {},
   "source": [
    "### HyperParameter Tuning for SVM"
   ]
  },
  {
   "cell_type": "code",
   "execution_count": 173,
   "id": "fa9793ff",
   "metadata": {},
   "outputs": [],
   "source": [
    "## Import Package\n",
    "skf = StratifiedKFold(n_splits=5)"
   ]
  },
  {
   "cell_type": "code",
   "execution_count": 174,
   "id": "cf5ed5e1",
   "metadata": {},
   "outputs": [],
   "source": [
    "## Membuat parameter SVM\n",
    "param_SVM = {\n",
    "    \"C\":np.arange(1, 5, 1),\n",
    "    \"gamma\": np.arange(1, 5, 1),\n",
    "    \"class_weight\" : [{0 : x, 1 : 1-x} for x in [0.15, 0.05, 0.20, 0.25, 0.02, 0.10]]\n",
    "}"
   ]
  },
  {
   "cell_type": "code",
   "execution_count": 175,
   "id": "31c01c82",
   "metadata": {
    "scrolled": true
   },
   "outputs": [
    {
     "name": "stdout",
     "output_type": "stream",
     "text": [
      "Fitting 5 folds for each of 96 candidates, totalling 480 fits\n"
     ]
    },
    {
     "data": {
      "text/html": [
       "<style>#sk-container-id-7 {color: black;background-color: white;}#sk-container-id-7 pre{padding: 0;}#sk-container-id-7 div.sk-toggleable {background-color: white;}#sk-container-id-7 label.sk-toggleable__label {cursor: pointer;display: block;width: 100%;margin-bottom: 0;padding: 0.3em;box-sizing: border-box;text-align: center;}#sk-container-id-7 label.sk-toggleable__label-arrow:before {content: \"▸\";float: left;margin-right: 0.25em;color: #696969;}#sk-container-id-7 label.sk-toggleable__label-arrow:hover:before {color: black;}#sk-container-id-7 div.sk-estimator:hover label.sk-toggleable__label-arrow:before {color: black;}#sk-container-id-7 div.sk-toggleable__content {max-height: 0;max-width: 0;overflow: hidden;text-align: left;background-color: #f0f8ff;}#sk-container-id-7 div.sk-toggleable__content pre {margin: 0.2em;color: black;border-radius: 0.25em;background-color: #f0f8ff;}#sk-container-id-7 input.sk-toggleable__control:checked~div.sk-toggleable__content {max-height: 200px;max-width: 100%;overflow: auto;}#sk-container-id-7 input.sk-toggleable__control:checked~label.sk-toggleable__label-arrow:before {content: \"▾\";}#sk-container-id-7 div.sk-estimator input.sk-toggleable__control:checked~label.sk-toggleable__label {background-color: #d4ebff;}#sk-container-id-7 div.sk-label input.sk-toggleable__control:checked~label.sk-toggleable__label {background-color: #d4ebff;}#sk-container-id-7 input.sk-hidden--visually {border: 0;clip: rect(1px 1px 1px 1px);clip: rect(1px, 1px, 1px, 1px);height: 1px;margin: -1px;overflow: hidden;padding: 0;position: absolute;width: 1px;}#sk-container-id-7 div.sk-estimator {font-family: monospace;background-color: #f0f8ff;border: 1px dotted black;border-radius: 0.25em;box-sizing: border-box;margin-bottom: 0.5em;}#sk-container-id-7 div.sk-estimator:hover {background-color: #d4ebff;}#sk-container-id-7 div.sk-parallel-item::after {content: \"\";width: 100%;border-bottom: 1px solid gray;flex-grow: 1;}#sk-container-id-7 div.sk-label:hover label.sk-toggleable__label {background-color: #d4ebff;}#sk-container-id-7 div.sk-serial::before {content: \"\";position: absolute;border-left: 1px solid gray;box-sizing: border-box;top: 0;bottom: 0;left: 50%;z-index: 0;}#sk-container-id-7 div.sk-serial {display: flex;flex-direction: column;align-items: center;background-color: white;padding-right: 0.2em;padding-left: 0.2em;position: relative;}#sk-container-id-7 div.sk-item {position: relative;z-index: 1;}#sk-container-id-7 div.sk-parallel {display: flex;align-items: stretch;justify-content: center;background-color: white;position: relative;}#sk-container-id-7 div.sk-item::before, #sk-container-id-7 div.sk-parallel-item::before {content: \"\";position: absolute;border-left: 1px solid gray;box-sizing: border-box;top: 0;bottom: 0;left: 50%;z-index: -1;}#sk-container-id-7 div.sk-parallel-item {display: flex;flex-direction: column;z-index: 1;position: relative;background-color: white;}#sk-container-id-7 div.sk-parallel-item:first-child::after {align-self: flex-end;width: 50%;}#sk-container-id-7 div.sk-parallel-item:last-child::after {align-self: flex-start;width: 50%;}#sk-container-id-7 div.sk-parallel-item:only-child::after {width: 0;}#sk-container-id-7 div.sk-dashed-wrapped {border: 1px dashed gray;margin: 0 0.4em 0.5em 0.4em;box-sizing: border-box;padding-bottom: 0.4em;background-color: white;}#sk-container-id-7 div.sk-label label {font-family: monospace;font-weight: bold;display: inline-block;line-height: 1.2em;}#sk-container-id-7 div.sk-label-container {text-align: center;}#sk-container-id-7 div.sk-container {/* jupyter's `normalize.less` sets `[hidden] { display: none; }` but bootstrap.min.css set `[hidden] { display: none !important; }` so we also need the `!important` here to be able to override the default hidden behavior on the sphinx rendered scikit-learn.org. See: https://github.com/scikit-learn/scikit-learn/issues/21755 */display: inline-block !important;position: relative;}#sk-container-id-7 div.sk-text-repr-fallback {display: none;}</style><div id=\"sk-container-id-7\" class=\"sk-top-container\"><div class=\"sk-text-repr-fallback\"><pre>GridSearchCV(cv=StratifiedKFold(n_splits=5, random_state=None, shuffle=False),\n",
       "             estimator=SVC(max_iter=100), n_jobs=-1,\n",
       "             param_grid={&#x27;C&#x27;: array([1, 2, 3, 4]),\n",
       "                         &#x27;class_weight&#x27;: [{0: 0.15, 1: 0.85},\n",
       "                                          {0: 0.05, 1: 0.95}, {0: 0.2, 1: 0.8},\n",
       "                                          {0: 0.25, 1: 0.75},\n",
       "                                          {0: 0.02, 1: 0.98},\n",
       "                                          {0: 0.1, 1: 0.9}],\n",
       "                         &#x27;gamma&#x27;: array([1, 2, 3, 4])},\n",
       "             scoring=&#x27;f1&#x27;, verbose=1)</pre><b>In a Jupyter environment, please rerun this cell to show the HTML representation or trust the notebook. <br />On GitHub, the HTML representation is unable to render, please try loading this page with nbviewer.org.</b></div><div class=\"sk-container\" hidden><div class=\"sk-item sk-dashed-wrapped\"><div class=\"sk-label-container\"><div class=\"sk-label sk-toggleable\"><input class=\"sk-toggleable__control sk-hidden--visually\" id=\"sk-estimator-id-9\" type=\"checkbox\" ><label for=\"sk-estimator-id-9\" class=\"sk-toggleable__label sk-toggleable__label-arrow\">GridSearchCV</label><div class=\"sk-toggleable__content\"><pre>GridSearchCV(cv=StratifiedKFold(n_splits=5, random_state=None, shuffle=False),\n",
       "             estimator=SVC(max_iter=100), n_jobs=-1,\n",
       "             param_grid={&#x27;C&#x27;: array([1, 2, 3, 4]),\n",
       "                         &#x27;class_weight&#x27;: [{0: 0.15, 1: 0.85},\n",
       "                                          {0: 0.05, 1: 0.95}, {0: 0.2, 1: 0.8},\n",
       "                                          {0: 0.25, 1: 0.75},\n",
       "                                          {0: 0.02, 1: 0.98},\n",
       "                                          {0: 0.1, 1: 0.9}],\n",
       "                         &#x27;gamma&#x27;: array([1, 2, 3, 4])},\n",
       "             scoring=&#x27;f1&#x27;, verbose=1)</pre></div></div></div><div class=\"sk-parallel\"><div class=\"sk-parallel-item\"><div class=\"sk-item\"><div class=\"sk-label-container\"><div class=\"sk-label sk-toggleable\"><input class=\"sk-toggleable__control sk-hidden--visually\" id=\"sk-estimator-id-10\" type=\"checkbox\" ><label for=\"sk-estimator-id-10\" class=\"sk-toggleable__label sk-toggleable__label-arrow\">estimator: SVC</label><div class=\"sk-toggleable__content\"><pre>SVC(max_iter=100)</pre></div></div></div><div class=\"sk-serial\"><div class=\"sk-item\"><div class=\"sk-estimator sk-toggleable\"><input class=\"sk-toggleable__control sk-hidden--visually\" id=\"sk-estimator-id-11\" type=\"checkbox\" ><label for=\"sk-estimator-id-11\" class=\"sk-toggleable__label sk-toggleable__label-arrow\">SVC</label><div class=\"sk-toggleable__content\"><pre>SVC(max_iter=100)</pre></div></div></div></div></div></div></div></div></div></div>"
      ],
      "text/plain": [
       "GridSearchCV(cv=StratifiedKFold(n_splits=5, random_state=None, shuffle=False),\n",
       "             estimator=SVC(max_iter=100), n_jobs=-1,\n",
       "             param_grid={'C': array([1, 2, 3, 4]),\n",
       "                         'class_weight': [{0: 0.15, 1: 0.85},\n",
       "                                          {0: 0.05, 1: 0.95}, {0: 0.2, 1: 0.8},\n",
       "                                          {0: 0.25, 1: 0.75},\n",
       "                                          {0: 0.02, 1: 0.98},\n",
       "                                          {0: 0.1, 1: 0.9}],\n",
       "                         'gamma': array([1, 2, 3, 4])},\n",
       "             scoring='f1', verbose=1)"
      ]
     },
     "execution_count": 175,
     "metadata": {},
     "output_type": "execute_result"
    }
   ],
   "source": [
    "## Menjalankan model menggunakan GridSearch\n",
    "SVM_GS = GridSearchCV(SVC(max_iter=100), param_SVM, cv = skf, n_jobs=-1, verbose=1, scoring='f1')\n",
    "SVM_GS.fit(X_train, y_train)"
   ]
  },
  {
   "cell_type": "code",
   "execution_count": 176,
   "id": "69c78c21",
   "metadata": {},
   "outputs": [
    {
     "data": {
      "text/plain": [
       "0.8175530599119378"
      ]
     },
     "execution_count": 176,
     "metadata": {},
     "output_type": "execute_result"
    }
   ],
   "source": [
    "## f1 score berdasarkan dari best combination\n",
    "SVM_GS.best_score_"
   ]
  },
  {
   "cell_type": "code",
   "execution_count": 177,
   "id": "8e190692",
   "metadata": {},
   "outputs": [
    {
     "data": {
      "text/plain": [
       "{'C': 1, 'class_weight': {0: 0.15, 1: 0.85}, 'gamma': 1}"
      ]
     },
     "execution_count": 177,
     "metadata": {},
     "output_type": "execute_result"
    }
   ],
   "source": [
    "## Best parametr yang menghasilkan best f1 score\n",
    "SVM_GS.best_params_"
   ]
  },
  {
   "cell_type": "code",
   "execution_count": 178,
   "id": "7d721c4b",
   "metadata": {},
   "outputs": [],
   "source": [
    "SVM_Tuned_GS = SVM_GS.best_estimator_"
   ]
  },
  {
   "cell_type": "markdown",
   "id": "63ade481",
   "metadata": {},
   "source": [
    "### Evaluation Matrix for Tuned Model with SVM"
   ]
  },
  {
   "cell_type": "code",
   "execution_count": 179,
   "id": "47102be1",
   "metadata": {},
   "outputs": [],
   "source": [
    "## Menjalankan function dengan model SVM\n",
    "df_SVM, cr_SVM_tr, cm_SVM_tr, cr_SVM_ts, cm_SVM_ts = Eva_Matrix_Base_Class(model_SVM, X_train, \n",
    "                                                                      X_test, \n",
    "                                                                      y_train, \n",
    "                                                                      y_test, \n",
    "                                                                      \"SVM\")"
   ]
  },
  {
   "cell_type": "code",
   "execution_count": 180,
   "id": "c701d2de",
   "metadata": {},
   "outputs": [
    {
     "data": {
      "text/html": [
       "<div>\n",
       "<style scoped>\n",
       "    .dataframe tbody tr th:only-of-type {\n",
       "        vertical-align: middle;\n",
       "    }\n",
       "\n",
       "    .dataframe tbody tr th {\n",
       "        vertical-align: top;\n",
       "    }\n",
       "\n",
       "    .dataframe thead th {\n",
       "        text-align: right;\n",
       "    }\n",
       "</style>\n",
       "<table border=\"1\" class=\"dataframe\">\n",
       "  <thead>\n",
       "    <tr style=\"text-align: right;\">\n",
       "      <th></th>\n",
       "      <th>SVMTraining</th>\n",
       "      <th>SVMTesting</th>\n",
       "    </tr>\n",
       "  </thead>\n",
       "  <tbody>\n",
       "    <tr>\n",
       "      <th>Accuracy</th>\n",
       "      <td>0.691409</td>\n",
       "      <td>0.692308</td>\n",
       "    </tr>\n",
       "    <tr>\n",
       "      <th>Recall</th>\n",
       "      <td>1.000000</td>\n",
       "      <td>1.000000</td>\n",
       "    </tr>\n",
       "    <tr>\n",
       "      <th>Precision</th>\n",
       "      <td>0.691409</td>\n",
       "      <td>0.692308</td>\n",
       "    </tr>\n",
       "    <tr>\n",
       "      <th>F1</th>\n",
       "      <td>0.817554</td>\n",
       "      <td>0.818182</td>\n",
       "    </tr>\n",
       "  </tbody>\n",
       "</table>\n",
       "</div>"
      ],
      "text/plain": [
       "           SVMTraining  SVMTesting\n",
       "Accuracy      0.691409    0.692308\n",
       "Recall        1.000000    1.000000\n",
       "Precision     0.691409    0.692308\n",
       "F1            0.817554    0.818182"
      ]
     },
     "execution_count": 180,
     "metadata": {},
     "output_type": "execute_result"
    }
   ],
   "source": [
    "df_SVM"
   ]
  },
  {
   "cell_type": "code",
   "execution_count": 181,
   "id": "2a2f9d52",
   "metadata": {},
   "outputs": [
    {
     "name": "stdout",
     "output_type": "stream",
     "text": [
      "              precision    recall  f1-score   support\n",
      "\n",
      "           0       0.00      0.00      0.00       112\n",
      "           1       0.69      1.00      0.82       252\n",
      "\n",
      "    accuracy                           0.69       364\n",
      "   macro avg       0.35      0.50      0.41       364\n",
      "weighted avg       0.48      0.69      0.57       364\n",
      "\n"
     ]
    }
   ],
   "source": [
    "## Menampilkan Classification Report\n",
    "print(cr_SVM_ts)"
   ]
  },
  {
   "cell_type": "code",
   "execution_count": 182,
   "id": "423c7c7a",
   "metadata": {},
   "outputs": [
    {
     "data": {
      "text/html": [
       "<div>\n",
       "<style scoped>\n",
       "    .dataframe tbody tr th:only-of-type {\n",
       "        vertical-align: middle;\n",
       "    }\n",
       "\n",
       "    .dataframe tbody tr th {\n",
       "        vertical-align: top;\n",
       "    }\n",
       "\n",
       "    .dataframe thead th {\n",
       "        text-align: right;\n",
       "    }\n",
       "</style>\n",
       "<table border=\"1\" class=\"dataframe\">\n",
       "  <thead>\n",
       "    <tr style=\"text-align: right;\">\n",
       "      <th></th>\n",
       "      <th>Pred 1</th>\n",
       "      <th>Pred 0</th>\n",
       "    </tr>\n",
       "  </thead>\n",
       "  <tbody>\n",
       "    <tr>\n",
       "      <th>Akt 1</th>\n",
       "      <td>252</td>\n",
       "      <td>0</td>\n",
       "    </tr>\n",
       "    <tr>\n",
       "      <th>Akt 0</th>\n",
       "      <td>112</td>\n",
       "      <td>0</td>\n",
       "    </tr>\n",
       "  </tbody>\n",
       "</table>\n",
       "</div>"
      ],
      "text/plain": [
       "       Pred 1  Pred 0\n",
       "Akt 1     252       0\n",
       "Akt 0     112       0"
      ]
     },
     "execution_count": 182,
     "metadata": {},
     "output_type": "execute_result"
    }
   ],
   "source": [
    "cm_SVM_ts"
   ]
  },
  {
   "cell_type": "markdown",
   "id": "6a822560",
   "metadata": {},
   "source": [
    "## Hyper Parameter Tuning using Random Forest"
   ]
  },
  {
   "cell_type": "code",
   "execution_count": 185,
   "id": "a628a1ca",
   "metadata": {},
   "outputs": [],
   "source": [
    "## Import Package\n",
    "from sklearn.model_selection import RandomizedSearchCV"
   ]
  },
  {
   "cell_type": "code",
   "execution_count": 186,
   "id": "018c8ac7",
   "metadata": {},
   "outputs": [],
   "source": [
    "## Membuat Parameter Random Forest\n",
    "param_RF = {\n",
    "    'n_estimators' : np.arange(0, 100, 2),\n",
    "    'max_depth' : np.arange(1, 20),\n",
    "    'min_samples_split' : np.arange(2, 20),\n",
    "    'min_samples_leaf' : np.arange(1, 20),\n",
    "    'max_features' : np.arange(0.1, 1, 0.1)\n",
    "}"
   ]
  },
  {
   "cell_type": "code",
   "execution_count": 187,
   "id": "767065de",
   "metadata": {},
   "outputs": [
    {
     "name": "stdout",
     "output_type": "stream",
     "text": [
      "Fitting 3 folds for each of 300 candidates, totalling 900 fits\n"
     ]
    },
    {
     "data": {
      "text/html": [
       "<style>#sk-container-id-8 {color: black;background-color: white;}#sk-container-id-8 pre{padding: 0;}#sk-container-id-8 div.sk-toggleable {background-color: white;}#sk-container-id-8 label.sk-toggleable__label {cursor: pointer;display: block;width: 100%;margin-bottom: 0;padding: 0.3em;box-sizing: border-box;text-align: center;}#sk-container-id-8 label.sk-toggleable__label-arrow:before {content: \"▸\";float: left;margin-right: 0.25em;color: #696969;}#sk-container-id-8 label.sk-toggleable__label-arrow:hover:before {color: black;}#sk-container-id-8 div.sk-estimator:hover label.sk-toggleable__label-arrow:before {color: black;}#sk-container-id-8 div.sk-toggleable__content {max-height: 0;max-width: 0;overflow: hidden;text-align: left;background-color: #f0f8ff;}#sk-container-id-8 div.sk-toggleable__content pre {margin: 0.2em;color: black;border-radius: 0.25em;background-color: #f0f8ff;}#sk-container-id-8 input.sk-toggleable__control:checked~div.sk-toggleable__content {max-height: 200px;max-width: 100%;overflow: auto;}#sk-container-id-8 input.sk-toggleable__control:checked~label.sk-toggleable__label-arrow:before {content: \"▾\";}#sk-container-id-8 div.sk-estimator input.sk-toggleable__control:checked~label.sk-toggleable__label {background-color: #d4ebff;}#sk-container-id-8 div.sk-label input.sk-toggleable__control:checked~label.sk-toggleable__label {background-color: #d4ebff;}#sk-container-id-8 input.sk-hidden--visually {border: 0;clip: rect(1px 1px 1px 1px);clip: rect(1px, 1px, 1px, 1px);height: 1px;margin: -1px;overflow: hidden;padding: 0;position: absolute;width: 1px;}#sk-container-id-8 div.sk-estimator {font-family: monospace;background-color: #f0f8ff;border: 1px dotted black;border-radius: 0.25em;box-sizing: border-box;margin-bottom: 0.5em;}#sk-container-id-8 div.sk-estimator:hover {background-color: #d4ebff;}#sk-container-id-8 div.sk-parallel-item::after {content: \"\";width: 100%;border-bottom: 1px solid gray;flex-grow: 1;}#sk-container-id-8 div.sk-label:hover label.sk-toggleable__label {background-color: #d4ebff;}#sk-container-id-8 div.sk-serial::before {content: \"\";position: absolute;border-left: 1px solid gray;box-sizing: border-box;top: 0;bottom: 0;left: 50%;z-index: 0;}#sk-container-id-8 div.sk-serial {display: flex;flex-direction: column;align-items: center;background-color: white;padding-right: 0.2em;padding-left: 0.2em;position: relative;}#sk-container-id-8 div.sk-item {position: relative;z-index: 1;}#sk-container-id-8 div.sk-parallel {display: flex;align-items: stretch;justify-content: center;background-color: white;position: relative;}#sk-container-id-8 div.sk-item::before, #sk-container-id-8 div.sk-parallel-item::before {content: \"\";position: absolute;border-left: 1px solid gray;box-sizing: border-box;top: 0;bottom: 0;left: 50%;z-index: -1;}#sk-container-id-8 div.sk-parallel-item {display: flex;flex-direction: column;z-index: 1;position: relative;background-color: white;}#sk-container-id-8 div.sk-parallel-item:first-child::after {align-self: flex-end;width: 50%;}#sk-container-id-8 div.sk-parallel-item:last-child::after {align-self: flex-start;width: 50%;}#sk-container-id-8 div.sk-parallel-item:only-child::after {width: 0;}#sk-container-id-8 div.sk-dashed-wrapped {border: 1px dashed gray;margin: 0 0.4em 0.5em 0.4em;box-sizing: border-box;padding-bottom: 0.4em;background-color: white;}#sk-container-id-8 div.sk-label label {font-family: monospace;font-weight: bold;display: inline-block;line-height: 1.2em;}#sk-container-id-8 div.sk-label-container {text-align: center;}#sk-container-id-8 div.sk-container {/* jupyter's `normalize.less` sets `[hidden] { display: none; }` but bootstrap.min.css set `[hidden] { display: none !important; }` so we also need the `!important` here to be able to override the default hidden behavior on the sphinx rendered scikit-learn.org. See: https://github.com/scikit-learn/scikit-learn/issues/21755 */display: inline-block !important;position: relative;}#sk-container-id-8 div.sk-text-repr-fallback {display: none;}</style><div id=\"sk-container-id-8\" class=\"sk-top-container\"><div class=\"sk-text-repr-fallback\"><pre>RandomizedSearchCV(cv=StratifiedKFold(n_splits=3, random_state=None, shuffle=False),\n",
       "                   estimator=RandomForestClassifier(), n_iter=300, n_jobs=3,\n",
       "                   param_distributions={&#x27;max_depth&#x27;: array([ 1,  2,  3,  4,  5,  6,  7,  8,  9, 10, 11, 12, 13, 14, 15, 16, 17,\n",
       "       18, 19]),\n",
       "                                        &#x27;max_features&#x27;: array([0.1, 0.2, 0.3, 0.4, 0.5, 0.6, 0.7, 0.8, 0.9]),\n",
       "                                        &#x27;min_samples_leaf&#x27;: array([ 1,  2,  3,  4,  5,  6,  7,  8,  9, 10, 11, 12, 13, 14, 15, 16, 17,\n",
       "       18, 19]),\n",
       "                                        &#x27;min_samples_split&#x27;: array([ 2,  3,  4,  5,  6,  7,  8,  9, 10, 11, 12, 13, 14, 15, 16, 17, 18,\n",
       "       19]),\n",
       "                                        &#x27;n_estimators&#x27;: array([ 0,  2,  4,  6,  8, 10, 12, 14, 16, 18, 20, 22, 24, 26, 28, 30, 32,\n",
       "       34, 36, 38, 40, 42, 44, 46, 48, 50, 52, 54, 56, 58, 60, 62, 64, 66,\n",
       "       68, 70, 72, 74, 76, 78, 80, 82, 84, 86, 88, 90, 92, 94, 96, 98])},\n",
       "                   random_state=42, scoring=&#x27;f1&#x27;, verbose=1)</pre><b>In a Jupyter environment, please rerun this cell to show the HTML representation or trust the notebook. <br />On GitHub, the HTML representation is unable to render, please try loading this page with nbviewer.org.</b></div><div class=\"sk-container\" hidden><div class=\"sk-item sk-dashed-wrapped\"><div class=\"sk-label-container\"><div class=\"sk-label sk-toggleable\"><input class=\"sk-toggleable__control sk-hidden--visually\" id=\"sk-estimator-id-12\" type=\"checkbox\" ><label for=\"sk-estimator-id-12\" class=\"sk-toggleable__label sk-toggleable__label-arrow\">RandomizedSearchCV</label><div class=\"sk-toggleable__content\"><pre>RandomizedSearchCV(cv=StratifiedKFold(n_splits=3, random_state=None, shuffle=False),\n",
       "                   estimator=RandomForestClassifier(), n_iter=300, n_jobs=3,\n",
       "                   param_distributions={&#x27;max_depth&#x27;: array([ 1,  2,  3,  4,  5,  6,  7,  8,  9, 10, 11, 12, 13, 14, 15, 16, 17,\n",
       "       18, 19]),\n",
       "                                        &#x27;max_features&#x27;: array([0.1, 0.2, 0.3, 0.4, 0.5, 0.6, 0.7, 0.8, 0.9]),\n",
       "                                        &#x27;min_samples_leaf&#x27;: array([ 1,  2,  3,  4,  5,  6,  7,  8,  9, 10, 11, 12, 13, 14, 15, 16, 17,\n",
       "       18, 19]),\n",
       "                                        &#x27;min_samples_split&#x27;: array([ 2,  3,  4,  5,  6,  7,  8,  9, 10, 11, 12, 13, 14, 15, 16, 17, 18,\n",
       "       19]),\n",
       "                                        &#x27;n_estimators&#x27;: array([ 0,  2,  4,  6,  8, 10, 12, 14, 16, 18, 20, 22, 24, 26, 28, 30, 32,\n",
       "       34, 36, 38, 40, 42, 44, 46, 48, 50, 52, 54, 56, 58, 60, 62, 64, 66,\n",
       "       68, 70, 72, 74, 76, 78, 80, 82, 84, 86, 88, 90, 92, 94, 96, 98])},\n",
       "                   random_state=42, scoring=&#x27;f1&#x27;, verbose=1)</pre></div></div></div><div class=\"sk-parallel\"><div class=\"sk-parallel-item\"><div class=\"sk-item\"><div class=\"sk-label-container\"><div class=\"sk-label sk-toggleable\"><input class=\"sk-toggleable__control sk-hidden--visually\" id=\"sk-estimator-id-13\" type=\"checkbox\" ><label for=\"sk-estimator-id-13\" class=\"sk-toggleable__label sk-toggleable__label-arrow\">estimator: RandomForestClassifier</label><div class=\"sk-toggleable__content\"><pre>RandomForestClassifier()</pre></div></div></div><div class=\"sk-serial\"><div class=\"sk-item\"><div class=\"sk-estimator sk-toggleable\"><input class=\"sk-toggleable__control sk-hidden--visually\" id=\"sk-estimator-id-14\" type=\"checkbox\" ><label for=\"sk-estimator-id-14\" class=\"sk-toggleable__label sk-toggleable__label-arrow\">RandomForestClassifier</label><div class=\"sk-toggleable__content\"><pre>RandomForestClassifier()</pre></div></div></div></div></div></div></div></div></div></div>"
      ],
      "text/plain": [
       "RandomizedSearchCV(cv=StratifiedKFold(n_splits=3, random_state=None, shuffle=False),\n",
       "                   estimator=RandomForestClassifier(), n_iter=300, n_jobs=3,\n",
       "                   param_distributions={'max_depth': array([ 1,  2,  3,  4,  5,  6,  7,  8,  9, 10, 11, 12, 13, 14, 15, 16, 17,\n",
       "       18, 19]),\n",
       "                                        'max_features': array([0.1, 0.2, 0.3, 0.4, 0.5, 0.6, 0.7, 0.8, 0.9]),\n",
       "                                        'min_samples_leaf': array([ 1,  2,  3,  4,  5,  6,  7,  8,  9, 10, 11, 12, 13, 14, 15, 16, 17,\n",
       "       18, 19]),\n",
       "                                        'min_samples_split': array([ 2,  3,  4,  5,  6,  7,  8,  9, 10, 11, 12, 13, 14, 15, 16, 17, 18,\n",
       "       19]),\n",
       "                                        'n_estimators': array([ 0,  2,  4,  6,  8, 10, 12, 14, 16, 18, 20, 22, 24, 26, 28, 30, 32,\n",
       "       34, 36, 38, 40, 42, 44, 46, 48, 50, 52, 54, 56, 58, 60, 62, 64, 66,\n",
       "       68, 70, 72, 74, 76, 78, 80, 82, 84, 86, 88, 90, 92, 94, 96, 98])},\n",
       "                   random_state=42, scoring='f1', verbose=1)"
      ]
     },
     "execution_count": 187,
     "metadata": {},
     "output_type": "execute_result"
    }
   ],
   "source": [
    "## Menjalankan Randomized Search\n",
    "RF_RS = RandomizedSearchCV(RandomForestClassifier(),\n",
    "                            param_RF,\n",
    "                            cv = StratifiedKFold(n_splits=3), \n",
    "                            n_jobs = 3,\n",
    "                            verbose = 1,\n",
    "                            scoring = 'f1',\n",
    "                            n_iter = 300,\n",
    "                            random_state = 42)\n",
    "                        \n",
    "## Fit Model\n",
    "RF_RS.fit(X_train,y_train)"
   ]
  },
  {
   "cell_type": "code",
   "execution_count": 188,
   "id": "a106c63a",
   "metadata": {},
   "outputs": [
    {
     "data": {
      "text/plain": [
       "0.8524718286152554"
      ]
     },
     "execution_count": 188,
     "metadata": {},
     "output_type": "execute_result"
    }
   ],
   "source": [
    "## f1 score berdasarkan best combination\n",
    "RF_RS.best_score_"
   ]
  },
  {
   "cell_type": "code",
   "execution_count": 189,
   "id": "907773ea",
   "metadata": {},
   "outputs": [
    {
     "data": {
      "text/plain": [
       "{'n_estimators': 82,\n",
       " 'min_samples_split': 11,\n",
       " 'min_samples_leaf': 1,\n",
       " 'max_features': 0.6,\n",
       " 'max_depth': 10}"
      ]
     },
     "execution_count": 189,
     "metadata": {},
     "output_type": "execute_result"
    }
   ],
   "source": [
    "## Best paramaeter\n",
    "RF_RS.best_params_"
   ]
  },
  {
   "cell_type": "code",
   "execution_count": 190,
   "id": "dede5391",
   "metadata": {},
   "outputs": [],
   "source": [
    "RF_Tuned_RS = RF_RS.best_estimator_"
   ]
  },
  {
   "cell_type": "markdown",
   "id": "c506a1d6",
   "metadata": {},
   "source": [
    "### Evaluation Matrix for Tuned Model with Random Forest"
   ]
  },
  {
   "cell_type": "code",
   "execution_count": 191,
   "id": "6855fef2",
   "metadata": {},
   "outputs": [],
   "source": [
    "## Menjalankan function dengan model Random Forest\n",
    "df_RF_Tuned_RS, cr_RF_Tuned_RS_tr, cm_RF_Tuned_RS_tr, cr_RF_Tuned_RS_ts, cm_RF_Tuned_RS_ts = Eva_Matrix_Base_Class(RF_Tuned_RS, \n",
    "                                                                                                            X_train, X_test, \n",
    "                                                                                                            y_train, y_test,\n",
    "                                                                                                            'Random Forest Tuned')"
   ]
  },
  {
   "cell_type": "code",
   "execution_count": 192,
   "id": "25c1b255",
   "metadata": {},
   "outputs": [
    {
     "data": {
      "text/html": [
       "<div>\n",
       "<style scoped>\n",
       "    .dataframe tbody tr th:only-of-type {\n",
       "        vertical-align: middle;\n",
       "    }\n",
       "\n",
       "    .dataframe tbody tr th {\n",
       "        vertical-align: top;\n",
       "    }\n",
       "\n",
       "    .dataframe thead th {\n",
       "        text-align: right;\n",
       "    }\n",
       "</style>\n",
       "<table border=\"1\" class=\"dataframe\">\n",
       "  <thead>\n",
       "    <tr style=\"text-align: right;\">\n",
       "      <th></th>\n",
       "      <th>Random Forest TunedTraining</th>\n",
       "      <th>Random Forest TunedTesting</th>\n",
       "    </tr>\n",
       "  </thead>\n",
       "  <tbody>\n",
       "    <tr>\n",
       "      <th>Accuracy</th>\n",
       "      <td>0.879038</td>\n",
       "      <td>0.728022</td>\n",
       "    </tr>\n",
       "    <tr>\n",
       "      <th>Recall</th>\n",
       "      <td>0.937376</td>\n",
       "      <td>0.873016</td>\n",
       "    </tr>\n",
       "    <tr>\n",
       "      <th>Precision</th>\n",
       "      <td>0.892992</td>\n",
       "      <td>0.766551</td>\n",
       "    </tr>\n",
       "    <tr>\n",
       "      <th>F1</th>\n",
       "      <td>0.914646</td>\n",
       "      <td>0.816327</td>\n",
       "    </tr>\n",
       "  </tbody>\n",
       "</table>\n",
       "</div>"
      ],
      "text/plain": [
       "           Random Forest TunedTraining  Random Forest TunedTesting\n",
       "Accuracy                      0.879038                    0.728022\n",
       "Recall                        0.937376                    0.873016\n",
       "Precision                     0.892992                    0.766551\n",
       "F1                            0.914646                    0.816327"
      ]
     },
     "execution_count": 192,
     "metadata": {},
     "output_type": "execute_result"
    }
   ],
   "source": [
    "## Menampilkan Nilai\n",
    "df_RF_Tuned_RS"
   ]
  },
  {
   "cell_type": "code",
   "execution_count": 193,
   "id": "27166ba4",
   "metadata": {},
   "outputs": [
    {
     "name": "stdout",
     "output_type": "stream",
     "text": [
      "              precision    recall  f1-score   support\n",
      "\n",
      "           0       0.84      0.75      0.79       449\n",
      "           1       0.89      0.94      0.91      1006\n",
      "\n",
      "    accuracy                           0.88      1455\n",
      "   macro avg       0.87      0.84      0.85      1455\n",
      "weighted avg       0.88      0.88      0.88      1455\n",
      "               precision    recall  f1-score   support\n",
      "\n",
      "           0       0.58      0.40      0.48       112\n",
      "           1       0.77      0.87      0.82       252\n",
      "\n",
      "    accuracy                           0.73       364\n",
      "   macro avg       0.68      0.64      0.65       364\n",
      "weighted avg       0.71      0.73      0.71       364\n",
      "\n"
     ]
    }
   ],
   "source": [
    "## Menampilkan Classification Report\n",
    "print(cr_RF_Tuned_RS_tr, cr_RF_Tuned_RS_ts)"
   ]
  },
  {
   "cell_type": "code",
   "execution_count": 194,
   "id": "3f4dbfff",
   "metadata": {},
   "outputs": [
    {
     "data": {
      "text/html": [
       "<div>\n",
       "<style scoped>\n",
       "    .dataframe tbody tr th:only-of-type {\n",
       "        vertical-align: middle;\n",
       "    }\n",
       "\n",
       "    .dataframe tbody tr th {\n",
       "        vertical-align: top;\n",
       "    }\n",
       "\n",
       "    .dataframe thead th {\n",
       "        text-align: right;\n",
       "    }\n",
       "</style>\n",
       "<table border=\"1\" class=\"dataframe\">\n",
       "  <thead>\n",
       "    <tr style=\"text-align: right;\">\n",
       "      <th></th>\n",
       "      <th>Pred 1</th>\n",
       "      <th>Pred 0</th>\n",
       "    </tr>\n",
       "  </thead>\n",
       "  <tbody>\n",
       "    <tr>\n",
       "      <th>Akt 1</th>\n",
       "      <td>220</td>\n",
       "      <td>32</td>\n",
       "    </tr>\n",
       "    <tr>\n",
       "      <th>Akt 0</th>\n",
       "      <td>67</td>\n",
       "      <td>45</td>\n",
       "    </tr>\n",
       "  </tbody>\n",
       "</table>\n",
       "</div>"
      ],
      "text/plain": [
       "       Pred 1  Pred 0\n",
       "Akt 1     220      32\n",
       "Akt 0      67      45"
      ]
     },
     "execution_count": 194,
     "metadata": {},
     "output_type": "execute_result"
    }
   ],
   "source": [
    "## Menampilkan Confusion Matrix\n",
    "cm_RF_Tuned_RS_ts"
   ]
  },
  {
   "cell_type": "markdown",
   "id": "71e6a86f",
   "metadata": {},
   "source": [
    "## HyperParameter Tuning : Summary"
   ]
  },
  {
   "cell_type": "code",
   "execution_count": 196,
   "id": "17ee2788",
   "metadata": {},
   "outputs": [
    {
     "data": {
      "text/html": [
       "<div>\n",
       "<style scoped>\n",
       "    .dataframe tbody tr th:only-of-type {\n",
       "        vertical-align: middle;\n",
       "    }\n",
       "\n",
       "    .dataframe tbody tr th {\n",
       "        vertical-align: top;\n",
       "    }\n",
       "\n",
       "    .dataframe thead th {\n",
       "        text-align: right;\n",
       "    }\n",
       "</style>\n",
       "<table border=\"1\" class=\"dataframe\">\n",
       "  <thead>\n",
       "    <tr style=\"text-align: right;\">\n",
       "      <th></th>\n",
       "      <th>KNN TunedTraining</th>\n",
       "      <th>KNN TunedTesting</th>\n",
       "      <th>SVMTraining</th>\n",
       "      <th>SVMTesting</th>\n",
       "      <th>Random Forest TunedTraining</th>\n",
       "      <th>Random Forest TunedTesting</th>\n",
       "    </tr>\n",
       "  </thead>\n",
       "  <tbody>\n",
       "    <tr>\n",
       "      <th>Accuracy</th>\n",
       "      <td>0.764261</td>\n",
       "      <td>0.700549</td>\n",
       "      <td>0.691409</td>\n",
       "      <td>0.692308</td>\n",
       "      <td>0.879038</td>\n",
       "      <td>0.728022</td>\n",
       "    </tr>\n",
       "    <tr>\n",
       "      <th>Recall</th>\n",
       "      <td>0.870775</td>\n",
       "      <td>0.849206</td>\n",
       "      <td>1.000000</td>\n",
       "      <td>1.000000</td>\n",
       "      <td>0.937376</td>\n",
       "      <td>0.873016</td>\n",
       "    </tr>\n",
       "    <tr>\n",
       "      <th>Precision</th>\n",
       "      <td>0.804408</td>\n",
       "      <td>0.750877</td>\n",
       "      <td>0.691409</td>\n",
       "      <td>0.692308</td>\n",
       "      <td>0.892992</td>\n",
       "      <td>0.766551</td>\n",
       "    </tr>\n",
       "    <tr>\n",
       "      <th>F1</th>\n",
       "      <td>0.836277</td>\n",
       "      <td>0.797020</td>\n",
       "      <td>0.817554</td>\n",
       "      <td>0.818182</td>\n",
       "      <td>0.914646</td>\n",
       "      <td>0.816327</td>\n",
       "    </tr>\n",
       "  </tbody>\n",
       "</table>\n",
       "</div>"
      ],
      "text/plain": [
       "           KNN TunedTraining  KNN TunedTesting  SVMTraining  SVMTesting  \\\n",
       "Accuracy            0.764261          0.700549     0.691409    0.692308   \n",
       "Recall              0.870775          0.849206     1.000000    1.000000   \n",
       "Precision           0.804408          0.750877     0.691409    0.692308   \n",
       "F1                  0.836277          0.797020     0.817554    0.818182   \n",
       "\n",
       "           Random Forest TunedTraining  Random Forest TunedTesting  \n",
       "Accuracy                      0.879038                    0.728022  \n",
       "Recall                        0.937376                    0.873016  \n",
       "Precision                     0.892992                    0.766551  \n",
       "F1                            0.914646                    0.816327  "
      ]
     },
     "execution_count": 196,
     "metadata": {},
     "output_type": "execute_result"
    }
   ],
   "source": [
    "pd.concat([df_KNN_Tuned_GS, df_SVM, df_RF_Tuned_RS], axis=1)"
   ]
  },
  {
   "cell_type": "markdown",
   "id": "bcc111bd",
   "metadata": {},
   "source": [
    "SVM Model dengan Hyper Parameter Tuning merupakan algoritma yang memiliki nilai paling tinggi dan hasilnya paling stabil."
   ]
  },
  {
   "cell_type": "code",
   "execution_count": 198,
   "id": "9ddd3f8c",
   "metadata": {},
   "outputs": [
    {
     "name": "stdout",
     "output_type": "stream",
     "text": [
      "Confusion Matrix - Testing using KNN Tuned\n",
      "       Pred 1  Pred 0\n",
      "Akt 1     214      38\n",
      "Akt 0      71      41\n",
      "==============================\n",
      "Confusion Matrix - Testing using SVM Tuned\n",
      "       Pred 1  Pred 0\n",
      "Akt 1     252       0\n",
      "Akt 0     112       0\n",
      "==============================\n",
      "Confusion Matrix - Testing using Random Forest Tuned\n",
      "       Pred 1  Pred 0\n",
      "Akt 1     220      32\n",
      "Akt 0      67      45\n",
      "==============================\n"
     ]
    }
   ],
   "source": [
    "## Compare Confusion Matrix for Testing Set of every Tuned Model\n",
    "print('Confusion Matrix - Testing using KNN Tuned')\n",
    "print(cm_KNN_Tuned_GS_ts)\n",
    "print('='*30)\n",
    "\n",
    "print('Confusion Matrix - Testing using SVM Tuned')\n",
    "print(cm_SVM_ts)\n",
    "print('='*30)\n",
    "\n",
    "print('Confusion Matrix - Testing using Random Forest Tuned')\n",
    "print(cm_RF_Tuned_RS_ts)\n",
    "print('='*30)"
   ]
  },
  {
   "cell_type": "markdown",
   "id": "7b0bd358",
   "metadata": {},
   "source": [
    "Namun, seperti dinyatakan di awal bahwa fokus pengukuran model ini adalah untuk mengurangi False Positive dan False Negative, penggunaan SVM cenderung membuat expenses dari Bank membengkak. Untuk itu, model yang dipilih adalah model dengan Hyper Parameter Random Forest bila dilihat dari proporsi False Positive dan False Negativenya."
   ]
  },
  {
   "cell_type": "markdown",
   "id": "60810eca",
   "metadata": {},
   "source": [
    "## Recommendation\n",
    "- Dengan menggunakan model Machine Learning ini, dapat membantu mengurangi marketing expense dari proses telemarketing yang tidak efektif.\n",
    "- Dengan berkurangnya expenses tersebut, dapat dialih fungsikan dengan mengadakan promo untuk menambah pelanggan baru."
   ]
  },
  {
   "cell_type": "markdown",
   "id": "b024e694",
   "metadata": {},
   "source": [
    "## Saving Model"
   ]
  },
  {
   "cell_type": "code",
   "execution_count": 202,
   "id": "ebfb58b6",
   "metadata": {},
   "outputs": [],
   "source": [
    "import pickle"
   ]
  },
  {
   "cell_type": "code",
   "execution_count": 203,
   "id": "c66df80e",
   "metadata": {},
   "outputs": [],
   "source": [
    "pickle.dump(model_RF, open('Bank_Marketing_RF_v.1.0.pkl', 'wb'))"
   ]
  }
 ],
 "metadata": {
  "kernelspec": {
   "display_name": "Python 3 (ipykernel)",
   "language": "python",
   "name": "python3"
  },
  "language_info": {
   "codemirror_mode": {
    "name": "ipython",
    "version": 3
   },
   "file_extension": ".py",
   "mimetype": "text/x-python",
   "name": "python",
   "nbconvert_exporter": "python",
   "pygments_lexer": "ipython3",
   "version": "3.9.7"
  }
 },
 "nbformat": 4,
 "nbformat_minor": 5
}
